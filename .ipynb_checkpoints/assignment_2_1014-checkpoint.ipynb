{
 "cells": [
  {
   "cell_type": "markdown",
   "metadata": {},
   "source": [
    "# 한국기술교육대 2013151008 김병우\n",
    "# 15-Oct-2018\n"
   ]
  },
  {
   "cell_type": "markdown",
   "metadata": {},
   "source": [
    "### [1번 문제]\n",
    "#### 다음 6개의 Expression에 대해 Evaluation 결과 값을 출력하고, 해당 결과가 나온 이유에 대하여 설명하시오.\n",
    "            - 1 and 2 and 3 and 4\n",
    "            - 1 or 2 or 3 or 4\n",
    "            - 1 and 2 or 3 and 4\n",
    "            - (1 and 2) or (3 and 4)\n",
    "            - 1 or 2 and 3 or 4\n",
    "            - (1 or 2) and (3 or 4)"
   ]
  },
  {
   "cell_type": "code",
   "execution_count": 1,
   "metadata": {},
   "outputs": [
    {
     "name": "stdout",
     "output_type": "stream",
     "text": [
      "4\n"
     ]
    }
   ],
   "source": [
    "print(1 and 2 and 3 and 4)"
   ]
  },
  {
   "cell_type": "markdown",
   "metadata": {},
   "source": [
    "4가 나오는 이유는 처리 할 때 and는 맨 마지막 명령까지 읽어야 참, 거짓을 알 수 있기 때문에 4가 나옵니다."
   ]
  },
  {
   "cell_type": "code",
   "execution_count": 2,
   "metadata": {},
   "outputs": [
    {
     "name": "stdout",
     "output_type": "stream",
     "text": [
      "1\n"
     ]
    }
   ],
   "source": [
    " print(1 or 2 or 3 or 4)"
   ]
  },
  {
   "cell_type": "markdown",
   "metadata": {},
   "source": [
    "1이 나오는 이유는 처음이 참이면 끝은 볼 필요가 없기 때문에 1이 나옵니다."
   ]
  },
  {
   "cell_type": "code",
   "execution_count": 3,
   "metadata": {},
   "outputs": [
    {
     "name": "stdout",
     "output_type": "stream",
     "text": [
      "2\n"
     ]
    }
   ],
   "source": [
    "print(1 and 2 or 3 and 4)"
   ]
  },
  {
   "cell_type": "markdown",
   "metadata": {},
   "source": [
    "1과 2에서 2까지 읽어야 하고 and 연산 순위가 높기 때문에 (1 and 2)가 참인 순간 뒤에는 볼필요가 없기 때문에 2를 출력합니다."
   ]
  },
  {
   "cell_type": "code",
   "execution_count": 4,
   "metadata": {},
   "outputs": [
    {
     "name": "stdout",
     "output_type": "stream",
     "text": [
      "2\n"
     ]
    }
   ],
   "source": [
    "print((1 and 2) or (3 and 4))"
   ]
  },
  {
   "cell_type": "markdown",
   "metadata": {},
   "source": [
    "위와 같은 내용이기 때문에 (1 and 2) 가 참이 나오는 순간 뒤를 읽지 않기 때문에 2를 출력합니다."
   ]
  },
  {
   "cell_type": "code",
   "execution_count": 5,
   "metadata": {},
   "outputs": [
    {
     "name": "stdout",
     "output_type": "stream",
     "text": [
      "1\n"
     ]
    }
   ],
   "source": [
    "print(1 or 2 and 3 or 4)"
   ]
  },
  {
   "cell_type": "markdown",
   "metadata": {},
   "source": [
    "and가 연산 순위가 높지만 1이 참이므로  or 뒤에는 볼필요가 없기 때문에 1이 출력됩니다."
   ]
  },
  {
   "cell_type": "code",
   "execution_count": 6,
   "metadata": {},
   "outputs": [
    {
     "name": "stdout",
     "output_type": "stream",
     "text": [
      "3\n"
     ]
    }
   ],
   "source": [
    "print((1 or 2) and (3 or 4))"
   ]
  },
  {
   "cell_type": "markdown",
   "metadata": {},
   "source": [
    "괄호 때문에 or 를 먼저 계산하고 and는 뒤에 까지 읽어야 하기 때문에 (3 or 4)를 내보내는데 3 or 4는 4까지 읽지 않기 때문에 3을 출력합니다."
   ]
  },
  {
   "cell_type": "markdown",
   "metadata": {},
   "source": [
    "### [2번 문제]\n",
    "#### 경로에 해당하는 문자열 1개를 입력 받아 그 안에 디렉토리 경로명과 파일명을 분리하여 리스트로 반환하는 함수 div_path(s)를 작성하시오.\n",
    "\n",
    "* 인자로 전달하는 문자열은 경로만 들어간다고 가정한다.\n",
    "* 각 디렉토리와 파일을 구분하는 문자는 '/'로 가정한다.\n",
    "* 반환하는 리스트의 첫번째 원소는 디렉토리이고 두번째 원소는 파일명이다.\n",
    "* 다음과 같은 실행 및 출력 결과가 도출되어야 한다.\n",
    "   - div_path('/usr/local/bin/python')\n",
    "       + ['/usr/local/bin', 'python']\n",
    "   - div_path('/home/chulsoo/test.txt')\n",
    "       + ['/home/chulsoo', 'test.txt']\n",
    "* [참고] 리스트(I) 내에 새로운 정수값 (예를 들어 10)을 넣에 방법은 I.append(10)이다."
   ]
  },
  {
   "cell_type": "code",
   "execution_count": 16,
   "metadata": {},
   "outputs": [
    {
     "name": "stdout",
     "output_type": "stream",
     "text": [
      "['/usr/local/bin', 'python']\n",
      "['/home/chulsoo', 'test.txt']\n"
     ]
    }
   ],
   "source": [
    "def div_path(s):\n",
    "    R=[]\n",
    "    S=[]\n",
    "    S=s.split('/')\n",
    "    length = len(S[-1])\n",
    "    str = s[:-length-1]\n",
    "    R.append(str)\n",
    "    R.append(S[-1])\n",
    "    return R\n",
    "\n",
    "print(div_path('/usr/local/bin/python'))\n",
    "print(div_path('/home/chulsoo/test.txt'))"
   ]
  },
  {
   "cell_type": "markdown",
   "metadata": {},
   "source": [
    "s를 /로 나누어서 리스트에 넣고 파일명의 길이를 뽑아\n",
    "s에서 파일명의 길이를 뺀 문자열은 디렉토리로 리스트에 추가하고\n",
    "처음 나눈 파일명도 두번째로 리스트에 추가한다."
   ]
  },
  {
   "cell_type": "markdown",
   "metadata": {},
   "source": [
    "### [3번 문제]\n",
    "#### 두 개의 리스트를 인자로 받아서 그 두 개의 리스트에 대한 '합집합'을 반환하는 함수 list_union(lista, listb)를 작성하시오.\n",
    "\n",
    "* 인자로 전달하는 리스트 2개에는 정수 값만 들어간다고 가정하자.\n",
    "* 함수 내에서 새로운 리스트를 만들어 그 리스트 내에 인자로 받은 두 리스트의 모든 원소를 넣어 반환한다.\n",
    "* 반환하는 리스트에는 절대로 중복된 원소가 들어 있으면 안된다(집합의 조건).\n",
    "* 반환하는 리스트는 정렬이 되어 있어야 한다.\n",
    "* 다음과 같은 실행 및 출력 결과가 도출되어야 한다.\n",
    "    - list_union([1,2,3], [1,2,4])\n",
    "        + [1,2,3,4]\n",
    "    - list_union([-10,-5,0,-1], [100,9,0,9])\n",
    "        + [-10,-5,-1,0,9,100]\n",
    "    - list_union([0,1,2],[0,1,2])\n",
    "        + [0,1,2]\n",
    "* [참고] 리스트(I) 내에 새로운 정수값 (예를 들어 10)을 넣는 방법은 I.append(10)이다.\n",
    "* [참고] 임의의 정수값 (x)이 리스트 (I) 내에 존재하는지 판단하는 방법은 x in I 이다."
   ]
  },
  {
   "cell_type": "code",
   "execution_count": 20,
   "metadata": {},
   "outputs": [
    {
     "name": "stdout",
     "output_type": "stream",
     "text": [
      "[1, 2, 3, 4]\n",
      "[-10, -5, -1, 0, 9, 100]\n",
      "[0, 1, 2]\n"
     ]
    }
   ],
   "source": [
    "#def list_union(lista, listb):\n",
    "#    I =[]\n",
    "#    I = list(set(lista) | set(listb))\n",
    "#    I.sort()\n",
    "#    return I\n",
    "\n",
    "def llist_union(lista, listb):\n",
    "    for i in listb:\n",
    "        if(i in lista):\n",
    "            continue\n",
    "        else:\n",
    "            lista.append(i)\n",
    "    \n",
    "    return lista\n",
    "\n",
    "print(list_union([1,2,3], [1,2,4]))\n",
    "print(list_union([-10,-5,0,-1], [100,9,0,9]))\n",
    "print(list_union([0,1,2],[0,1,2]))"
   ]
  },
  {
   "cell_type": "markdown",
   "metadata": {},
   "source": [
    "리스트 lista와 listb의 원소를 하나씩 대조해서 중복되지 않으면 리스트에 넣고 중복되면 리스트에 넣지 않는다."
   ]
  },
  {
   "cell_type": "markdown",
   "metadata": {},
   "source": [
    "### [ACM-ICPC 문제 10809번]\n",
    "#### 알파벳 찾기\n",
    "#### 알파벳 소문자로만 이루어진 단어 S가 주어진다. 각각의 알파벳에 대해서, 단어에 포함되어 있는 경우에는 처음 등장하는 위치를, 포함되어 있지 않는 경우에는 -1을 출력하는 프로그램을 작성하시오.\n",
    "\n",
    "* 입력\n",
    "    - 첫째 줄에는 단어 S가 주어진다. 단어의 길이는 100을 넘지 않으며, 알파벳 소문자로만 이루어져있다.\n",
    "* 출력\n",
    "    - 각각의 알파벳에 대해서, a가 처음 등장하는 위치, b가 처음 등장하는 위치, ...z 가 처음 등장하는 위치를 공백으로 구분해서 출력한다.\n",
    "    - 만약, 어떤 알파벳이 단어에 포함되어 있지 않다면 -1을 출력한다. 단어의 첫 번째 글자는 0번째 위치이고, 두번째 글자는 1번째 위치이다."
   ]
  },
  {
   "cell_type": "code",
   "execution_count": 25,
   "metadata": {},
   "outputs": [
    {
     "name": "stdout",
     "output_type": "stream",
     "text": [
      "beakjoon\n",
      "2 0 -1 -1 1 -1 -1 -1 -1 4 3 -1 -1 7 5 -1 -1 -1 -1 -1 -1 -1 -1 -1 -1 -1 "
     ]
    }
   ],
   "source": [
    "S = str(input())\n",
    "Alpha = ['a','b','c','d','e','f','g','h','i','j','k','l','m','n','o','p','q','r','s','t','u','v','w','x','y','z']\n",
    "lists = []\n",
    "for i in range(26):\n",
    "    lists.append(-1)\n",
    "for i in range(len(S)):\n",
    "    for j in range(26):\n",
    "        if S[i] == Alpha[j]: \n",
    "            if lists[j] == -1:\n",
    "                lists[j] = i\n",
    "                \n",
    "for i in range(len(lists)):\n",
    "    print(lists[i], end=' ')"
   ]
  },
  {
   "cell_type": "markdown",
   "metadata": {},
   "source": [
    "알파벳 리스트를 만들고 -1로 이루어진 26개 원소를 가진 리스트를 만든다.\n",
    "입력된 문자랑 알파벳이 같고 처음 등장하는 위치를 아직 모른다면 해당 알파벳의 자리에 위치 숫자를 넣는다."
   ]
  },
  {
   "cell_type": "markdown",
   "metadata": {},
   "source": [
    "![](https://github.com/kimjoshua135/ScriptProgram/blob/master/ScreenShot/10809_screenshot.png?raw=true)"
   ]
  },
  {
   "cell_type": "markdown",
   "metadata": {},
   "source": [
    "### [ACM-ICPC 문제 2675번]\n",
    "#### 문자열 반복\n",
    "#### 문자열 S를 입력받은 후에, 각 문자를 R번 반복해 새 문자열 P를 만든 후 출력하는 프로그램을 작성하시오. 즉, 첫 번째 문자를 R번 반복하고, 두 번째 문자를 R번 반복하는 식으로 P를 만들면 된다. S에는 QR Code \"alphanumeric\" 문자만 들어있다. \n",
    "#### QR Code \"alphanumeric\" 문자는 0123456789ABCDEFGHIJKLMNOPQRSTUVWXYZ\\$%*+-./: 이다.\n",
    "\n",
    "* 입력\n",
    "    - 첫째 줄에 테스트 케이스의 개수 T(1 ≤ T ≤ 1,000)가 주어진다. 각 테스트 케이스는 반복 횟수 R(1 ≤ R ≤ 8), 문자열 S가 공백으로 구분되어 주어진다. S의 길이는 적어도 1이며, 20글자를 넘지 않는다. \n",
    "* 출력\n",
    "    - 각 테스트 케이스에 대해 P를 출력한다."
   ]
  },
  {
   "cell_type": "code",
   "execution_count": 69,
   "metadata": {},
   "outputs": [
    {
     "name": "stdout",
     "output_type": "stream",
     "text": [
      "2\n",
      "3 abc\n",
      "aaabbbccc\n",
      "3 aa//dac\n",
      "aaaaaa//////dddaaaccc\n"
     ]
    }
   ],
   "source": [
    "T = input()\n",
    "\n",
    "for _ in range(int(T)):\n",
    "    R_S = input()\n",
    "    R_S = R_S.split()\n",
    "    P = ''\n",
    "    for i in R_S[1]:\n",
    "        P += i*int(R_S[0])\n",
    "    print(P)"
   ]
  },
  {
   "cell_type": "markdown",
   "metadata": {},
   "source": [
    "![](https://github.com/kimjoshua135/ScriptProgram/blob/master/ScreenShot/2675_Screenshot.png?raw=true)"
   ]
  },
  {
   "cell_type": "markdown",
   "metadata": {},
   "source": [
    "![](https://github.com/kimjoshua135/ScriptProgram/blob/master/ScreenShot/2675_Screenshot.png)"
   ]
  },
  {
   "cell_type": "markdown",
   "metadata": {},
   "source": [
    "### Incremental Project 문제\n",
    "#### 1) 웹 URL로 지정된 웹페이지를 문자열로 가져와 1) 모든 HTML 태그를 제외한 순수 텍스트 문자열만을 걸러내고, 2) 그 순수 텍스트 문자열 안에 존재하는 단어가 총 몇개인지 출력하는 프로그램을 작성하시오.\n",
    "\n",
    "* HTML 태그는 다음 조건을 가지는 것이다.\n",
    "    - < 로 시작하여 >로 끝난다.\n",
    "    - 예를 들어, 아래와 같은 HTML 내용 내에 한 줄이 있다고 가정하자.\n",
    "    - <label for=\"keep_signed\">로그인 유지</label>\n",
    "    - 위 소스에서 HTML 태그를 제외한 순수 텍스트 문자열은 아래와 같다.\n",
    "    - 로그인 유지\n",
    "    - 한편, 아래와 같은 HTML 한 줄이 있다고 가정하자.\n",
    "    - <link rel=\"stylesheet\" href=\"/common/css/xe.min.css?20150910092654\" />\n",
    "    - 위 한 줄은 HTML 태그로만 구성된 것이며 걸러낼 수 있는 순수 텍스 문자열은 존재하지 않는다.\n",
    "* 단어를 나누는 기준은 오로지 공백문자 (whitespace)이다.\n",
    "    - 즉, 위 순수 텍스트 문자열인 \"로그인 유지\"에서 분리한 단어는 \"로그인\"과 \"유지\"이다.\n",
    "* 중복을 고려하지 않고 무조건 모든 단어의 개수를 세어서 출력한다.\n",
    "* 본 숙제를 위하여 HTML 파싱과 관련된 모듈 (예. BeautifulSoup) 사용 금지\n",
    "* 다음은 URL로 지정된 웹페이지를 특정 문자열로 가져오는 코드이다.\n",
    "    - 즉, 숙제 코드는 아래 코드로 부터 시작해야 한다.\n",
    "    - 아래 코드 수행시 requests 모듈이 존재하지 않는 에러가 발생하면 command 창에서 다음 코드 입력하여 requests 모듈 설치후 아래 코드 수행\n",
    "            > pip install requests"
   ]
  },
  {
   "cell_type": "code",
   "execution_count": 14,
   "metadata": {},
   "outputs": [
    {
     "name": "stdout",
     "output_type": "stream",
     "text": [
      "['컴퓨터공학부', 'var', 'current_url', '=', '\"https://cse.koreatech.ac.kr/\";var', 'request_uri', '=', '\"https://cse.koreatech.ac.kr/\";var', 'current_mid', '=', '\"home_2015\";var', 'waiting_message', '=', '\"서버에', '요청', '중입니다.', '잠시만', '기다려주세요.\";var', 'ssl_actions', '=', 'new', 'Array();var', 'default_url', '=', '\"https://cse.koreatech.ac.kr/\";var', 'http_port', '=', '80;var', 'https_port', '=', '443;var', 'enforce_ssl', '=', 'true;', '//', 'Schoolfun', '-', 'Study', 'and', 'Fun', '--', '로그인', '로그인', '아이디', '비밀번호', '로그인', '유지', '브라우저를', '닫더라도', '로그인이', '계속', '유지될', '수', '있습니다.', '로그인', '유지', '기능을', '사용할', '경우', '다음', '접속부터는', '로그인할', '필요가', '없습니다.', '단,', '게임방,', '학교', '등', '공공장소에서', '이용', '시', '개인정보가', '유출될', '수', '있으니', '꼭', '로그아웃을', '해주세요.', '회원가입', 'ID/PW', '찾기', 'IT', '교육의', '글로벌', '메카!', '한국기술교육대학교', '컴퓨터공학부', 'Close', '소개', '구성원소개', '학사안내', '입학', '학부', '대학원', '학부광장', '자료실', '대학원', '공학교육인증', '학부서비스', 'Registration', '컴퓨터공학부', 'School', 'of', 'Computer', 'Science', 'and', 'Engineering', 'IT', '융합소프트웨어', '인력양성사업', 'CK', '(Creative', 'Korea)-I', '교육역량강화사업', '온라인', '컨텐츠', 'Online', 'Contents', 'for', 'Education', 'Capability', 'Empowerment', 'IT', '교육의', '글로벌', '메카', '한국기술교육대학교', '컴퓨터공학부', '홈페이지에', '오신', '것을', '환영합니다!', 'IT', '융합소프트웨어', '인력양성사업', '글로벌', '수준의', 'IT전문인력', '양성', 'IT융합분야에', '대한', '국제적인', '경쟁력', '고취', '바로가기', '교육역량강화사업', '컨텐츠', '교육역량강화사업', '온라인', '컨텐츠를', '소개합니다.', '바로가기', '공지사항', '[특성화]', '5차년도', 'IT융합', '개도국', '기술지원', '봉사(해외)', '...', '2018-10-17', '13:57', '13:57', '[특성화]', '2018', '졸업작품', '산업체', '평가회', '결과', '공지(졸작...', '2018-10-16', '15:52', '15:52', '[특성화]', '5차년도', '지식재산권(특허)', '출원', '지원', '접수', '알림', '2018-10-16', '09:32', '09:32', '[특성화]', 'G-STAR', '2018', '전시회', '선발', '학생', '공고', '2018-10-08', '17:14', '17:14', '[특성화][신청마감]', 'G-STAR', '2018', '전시회', '학생', '모집', '공고', '2018-10-08', '15:24', '15:24', '자유게시판', '졸업작품전시회', '기간', '헤어/메이크업', '2018-10-07', '14:48', '14:48', '※모의토익비', '지원', '공지※', '2018-09-28', '09:37', '09:37', 'ACM-ICPC', '예선', '신청기간이', '얼마', '안', '남았습니다!', '2018-09-13', '11:36', '11:36', '문화행사', '취소', '공지', '2018-09-10', '19:17', '19:17', '&amp;lt;2018학년도', '2학기&amp;gt;', '사물함', '신청을', '받겠...', '2018-09-06', '13:06', '13:06', '취업게시판', '[국가보안기술연구소]', '정규직', '채용', '2018-10-04', '14:18', '14:18', '한글과컴퓨터그룹', '2018년', '하반기', '신입/경력', '공채', '~10.10', '2018-09-27', '13:13', '13:13', '[구인]천안', '충무병원', '전산실', '2018-09-18', '15:25', '15:25', '[정부교육]', 'K-Shield', '주니어', '교육생', '모집(정보보호)', '~9.5', '2018-09-03', '07:53', '07:53', '인천]', '에이스테크놀로지', '연구개발인력', '모집', '~', '2018.9.9...', '2018-08-29', '09:06', '09:06', 'Platum', '[현장]', '“AI', '그리고', '스마트시티”세계', '최대', '마켓플레이스...', '2018-10-17', '16:07', '16:07', '라인게임즈,', '1,250억', '원', '규모', '해외', '투자', '유치', '2018-10-17', '15:52', '15:52', '[10월', '17일', '스타트업', '비즈니스', '동향]', '올버스,', '데이블,', '...', '2018-10-17', '15:50', '15:50', '스마트', '화물운송', '플랫폼', '‘로지스팟’,', '카카오벤처스', '등...', '2018-10-17', '08:39', '08:39', '베스핀글로벌,', '870억', '원', '규모', '시리즈B', '투자', '유치', '2018-10-17', '08:31', '08:31', '전자신문', '펜타', '카메라', 'LG', \"'V40\", \"씽큐'\", '예판', '돌입', '2018-10-17', '16:15', '16:15', '온라인', '불법', '유통', '개인정보', '10만', '건...대다수', '해...', '2018-10-17', '15:47', '15:47', 'CJ', 'ENM,', '신인', '작곡가', '등용문', \"'오펜\", \"뮤직'\", '발족', '2018-10-17', '15:23', '15:23', '화웨이,', '이화여대와', '내달', '3일', \"'전국\", '여고생', '프로...', '2018-10-17', '14:31', '14:31', '휴니드테크놀러지스,', '국가생산성대상', '대통령표창', '...', '2018-10-17', '14:21', '14:21', 'TechCrunch', 'Samsung', 'acquires', 'network', 'analytics', 'startup', 'Zhi...', '2018-10-17', '13:10', '13:10', 'Scribd', 'and', 'The', 'New', 'York', 'Times', 'announce', 'a', 'joint...', '2018-10-17', '13:00', '13:00', 'YouTube', 'experiences', 'a', 'major', 'outage', 'lasting', 'for...', '2018-10-17', '11:26', '11:26', 'Blockchain', 'media', 'startup', 'Civil', 'is', 'issuing', 'full...', '2018-10-17', '07:57', '07:57', 'Google', 'tweaks', 'Android', 'licensing', 'terms', 'in', 'Europ...', '2018-10-17', '07:37', '07:37', 'Back', 'to', 'Top', 'Leading', 'Together', 'for', 'Brighter', 'Future', '--', 'Quick', 'Navigation', '한국기술교육대학교', '홈페이지', '한국기술교육대학교', 'WEBMAIL', '한국기술교육대학교', '온라인', '평생교육원', 'IT', '융합소프트웨어', '인력양성사업', '컴퓨터공학부', '교직원', '업무', '자료실', '컴퓨터공학부', '포트폴리오', '--', 'Campus', 'Location', 'Contact', 'CSE', '충청남도', '천안시', '동남구', '병천면', '충절로', '1600', '한국기술교육대학교', '컴퓨터공학부', '학과사무실', 'TEL', '(041)', '560', '1460', '~', '1461', 'FAX', '(041)', '560', '1462', 'Facebook', 'Twitter', 'Google', 'Plus', 'Linkedin', '--', '(31253)', '충청남도', '천안시', '동남구', '병천면', '충절로', '1600', '(가전리,', '한국기술교육대학교)', '컴퓨터공학부', 'Copyright', '©', '2015.', 'All', 'rights', 'reserved']\n",
      "503\n"
     ]
    }
   ],
   "source": [
    "import requests\n",
    "\n",
    "req = requests.get('http://cse.koreatech.ac.kr')\n",
    "source = req.text\n",
    "source_length = len(source)\n",
    "list_source = list(source)\n",
    "t_f = True\n",
    "lists= []\n",
    "#받아온 소스를 리스트 자료형으로 바꾸어 저장\n",
    "\n",
    "for  i in range(source_length):\n",
    "    if source[i] == '<':\n",
    "        t_f = True\n",
    "    elif source[i] == '>':\n",
    "        t_f = False\n",
    "        list_source[i] = ' '\n",
    "    if t_f == True:\n",
    "        list_source[i] = ' '\n",
    "\n",
    "#소스 중에서 <가 보이면 다음문자를 공백으로 채우고 >가 보이면 공백을 그만 채움        \n",
    "        \n",
    "list_source = \"\".join(list_source)\n",
    "new_source = list_source+\"\"\n",
    "new_source = new_source.replace(\"\\n\",\"\")\n",
    "new_source = new_source.replace(\"\\t\",\"\")\n",
    "\n",
    "lists = new_source.split(\" \")\n",
    "last_lists = [x for x in lists if x]\n",
    "\n",
    "#안에 있는 공백 리스트를 다 없앰\n",
    "\n",
    "print(last_lists)\n",
    "print(len(last_lists))\n"
   ]
  },
  {
   "cell_type": "code",
   "execution_count": null,
   "metadata": {},
   "outputs": [],
   "source": []
  }
 ],
 "metadata": {
  "kernelspec": {
   "display_name": "Python 3",
   "language": "python",
   "name": "python3"
  },
  "language_info": {
   "codemirror_mode": {
    "name": "ipython",
    "version": 3
   },
   "file_extension": ".py",
   "mimetype": "text/x-python",
   "name": "python",
   "nbconvert_exporter": "python",
   "pygments_lexer": "ipython3",
   "version": "3.6.5"
  }
 },
 "nbformat": 4,
 "nbformat_minor": 2
}
