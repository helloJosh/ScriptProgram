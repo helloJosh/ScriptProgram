{
 "cells": [
  {
   "cell_type": "code",
   "execution_count": 2,
   "metadata": {},
   "outputs": [
    {
     "name": "stdout",
     "output_type": "stream",
     "text": [
      "1\n",
      "2\n"
     ]
    }
   ],
   "source": [
    "#함수 객체는 immutable\n",
    "def add(a,b):\n",
    "    return a+b\n",
    "def sub(a,b):\n",
    "    return a-b\n",
    "\n",
    "action2 = {add:1, sub:2}\n",
    "print(action2[add])\n",
    "print(action2[sub])"
   ]
  },
  {
   "cell_type": "code",
   "execution_count": 3,
   "metadata": {},
   "outputs": [],
   "source": [
    "d = dict()\n",
    "d = {}\n",
    "\n",
    "l =list()\n",
    "l =[]\n",
    "\n",
    "t = tuple()\n",
    "t = ()\n",
    "\n",
    "s = set()\n",
    "#클래스의 생성자 함수 호출\n"
   ]
  },
  {
   "cell_type": "code",
   "execution_count": 4,
   "metadata": {},
   "outputs": [
    {
     "name": "stdout",
     "output_type": "stream",
     "text": [
      "1\n"
     ]
    }
   ],
   "source": [
    "a = dict(one = 1, two = 2)\n",
    "b = dict([('one',1), ('two',2)])\n",
    "c = dict({'one':1, 'two':2})\n",
    "print((a['one']))"
   ]
  },
  {
   "cell_type": "code",
   "execution_count": 10,
   "metadata": {},
   "outputs": [
    {
     "name": "stdout",
     "output_type": "stream",
     "text": [
      "<zip object at 0x10c3094c8>\n",
      "{'one': 1, 'two': 2, 'three': 3}\n",
      "[]\n"
     ]
    }
   ],
   "source": [
    "keys = ['one', 'two', 'three']\n",
    "values = (1,2,3)\n",
    "#values = set([1,2,3])\n",
    "\n",
    "z = zip(keys, values)\n",
    "#zip객체 필요할때만 만들어줌 자리만 만들어놓음\n",
    "print(z)\n",
    "print(dict(z))\n",
    "print(list(z))"
   ]
  },
  {
   "cell_type": "code",
   "execution_count": 15,
   "metadata": {},
   "outputs": [
    {
     "name": "stdout",
     "output_type": "stream",
     "text": [
      "dict_keys(['jack', 'jin', 'Joseph'])\n",
      "dict_values([9465215, 111111, 6584321])\n",
      "dict_items([('jack', 9465215), ('jin', 111111), ('Joseph', 6584321)])\n",
      "jack\n",
      "jin\n",
      "Joseph\n"
     ]
    }
   ],
   "source": [
    "phone = {'jack' : 9465215, 'jin' : 111111, 'Joseph' : 6584321}\n",
    "\n",
    "print(phone.keys())\n",
    "print(phone.values())\n",
    "print(phone.items())\n",
    "\n",
    "#객체들을 반환해줌 -> 객체들은 메모리가 굉장히 작음  -> 예전 모든리스트를 반환해주는것과 다르게 효율이 높음.\n",
    "\n",
    "\n",
    "\n",
    "for k in phone.keys():\n",
    "    print(k)"
   ]
  },
  {
   "cell_type": "code",
   "execution_count": 16,
   "metadata": {},
   "outputs": [],
   "source": [
    "#shallow copy 두번째 객체까지 가르키지 않음."
   ]
  },
  {
   "cell_type": "code",
   "execution_count": null,
   "metadata": {},
   "outputs": [],
   "source": [
    "#enumerate 중요!, a[0][0][0][0] == a[0]중요!"
   ]
  }
 ],
 "metadata": {
  "kernelspec": {
   "display_name": "Python 3",
   "language": "python",
   "name": "python3"
  },
  "language_info": {
   "codemirror_mode": {
    "name": "ipython",
    "version": 3
   },
   "file_extension": ".py",
   "mimetype": "text/x-python",
   "name": "python",
   "nbconvert_exporter": "python",
   "pygments_lexer": "ipython3",
   "version": "3.6.5"
  }
 },
 "nbformat": 4,
 "nbformat_minor": 2
}
