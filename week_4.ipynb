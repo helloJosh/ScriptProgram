{
 "cells": [
  {
   "cell_type": "markdown",
   "metadata": {},
   "source": [
    "### List"
   ]
  },
  {
   "cell_type": "code",
   "execution_count": 1,
   "metadata": {},
   "outputs": [
    {
     "name": "stdout",
     "output_type": "stream",
     "text": [
      "range(0, 10)\n",
      "range(0, 10, 2)\n",
      "range(9, -1, -1)\n",
      "True\n",
      "\n",
      "[0, 1, 2, 3, 4, 5, 6, 7, 8, 9]\n",
      "[0, 2, 4, 6, 8]\n",
      "[9, 8, 7, 6, 5, 4, 3, 2, 1, 0]\n"
     ]
    }
   ],
   "source": [
    "L = range(10)\n",
    "print(L)\n",
    "print(L[::2])\n",
    "print(L[::-1])\n",
    "print(4 in L)\n",
    "print()\n",
    "print(list(L))\n",
    "print(list(L)[::2])\n",
    "print(list(L)[::-1])"
   ]
  },
  {
   "cell_type": "markdown",
   "metadata": {},
   "source": [
    "### Tuple \n",
    "##### immutable , can't change any value inside Tuple"
   ]
  },
  {
   "cell_type": "code",
   "execution_count": 2,
   "metadata": {},
   "outputs": [
    {
     "name": "stdout",
     "output_type": "stream",
     "text": [
      "(1, 2, 3, 1, 2, 3, 1, 2, 3)\n",
      "(1, 2, 3, 1, 2, 3, 1, 2, 3)\n"
     ]
    }
   ],
   "source": [
    "t = (1,2,3)\n",
    "\n",
    "print(t+t+t) #그냥 t값은 그대로 t 3번더해서 그냥 리턴해줌\n",
    "print(t *3) #그냥 t값은 그대로  "
   ]
  },
  {
   "cell_type": "markdown",
   "metadata": {},
   "source": [
    "### dictionary\n",
    "##### key : value mapping\n",
    "##### key more importent then value, the series ain't that importent"
   ]
  },
  {
   "cell_type": "code",
   "execution_count": 3,
   "metadata": {},
   "outputs": [
    {
     "name": "stdout",
     "output_type": "stream",
     "text": [
      "dict_keys(['one', 'two'])\n",
      "dict_values([1, 'dul'])\n",
      "dict_items([('one', 1), ('two', 'dul')])\n"
     ]
    }
   ],
   "source": [
    "d = {'one' : 1, 'two': 'dul'}\n",
    "print(d.keys()) # 키값만 dict_keys 객체로 추출, 하지만 파이썬 2에서는 리스트로 추출됐다.\n",
    "print(d.values()) # 값만 dict_values 객체로 추출, 하지만 파이썬 2에서는 리스트로 추출됐다.\n",
    "print(d.items())"
   ]
  },
  {
   "cell_type": "code",
   "execution_count": 4,
   "metadata": {},
   "outputs": [
    {
     "name": "stdout",
     "output_type": "stream",
     "text": [
      "<class 'dict_keys'>\n"
     ]
    }
   ],
   "source": [
    "print(type(d.keys()))"
   ]
  },
  {
   "cell_type": "code",
   "execution_count": 7,
   "metadata": {},
   "outputs": [
    {
     "name": "stdout",
     "output_type": "stream",
     "text": [
      "1 2 3\n",
      "0\n"
     ]
    }
   ],
   "source": [
    "d = {}\n",
    "for k in range(100000):\n",
    "    d[k] = k+1\n",
    "print(d[0],d[1],d[2])\n",
    "q = d.keys()\n",
    "q2 = list(q)\n",
    "print(q2[0])"
   ]
  },
  {
   "cell_type": "code",
   "execution_count": 9,
   "metadata": {},
   "outputs": [
    {
     "name": "stdout",
     "output_type": "stream",
     "text": [
      "<class 'NoneType'>\n",
      "None\n"
     ]
    }
   ],
   "source": [
    "print(type(None)) #NoneType 객체, 아무 값도 없음을 나타내는 객체"
   ]
  },
  {
   "cell_type": "code",
   "execution_count": 23,
   "metadata": {},
   "outputs": [
    {
     "name": "stdout",
     "output_type": "stream",
     "text": [
      "4372276544\n",
      "4372276544\n",
      "True\n"
     ]
    }
   ],
   "source": [
    "# 작은 값의 정수는 계속하여 별도로 객체를 생성하지 않음 256까지 같음\n",
    "x = 256\n",
    "y = 256\n",
    "print(id(x))\n",
    "print(id(y))\n",
    "print(x is y)"
   ]
  },
  {
   "cell_type": "code",
   "execution_count": 11,
   "metadata": {},
   "outputs": [
    {
     "name": "stdout",
     "output_type": "stream",
     "text": [
      "4413174896\n",
      "4413174512\n",
      "False\n"
     ]
    }
   ],
   "source": [
    "# 큰 값의 정수는 별도로 객체를 생성\n",
    "x = 10000000000\n",
    "y = 10000000000\n",
    "print(id(x))\n",
    "print(id(y))\n",
    "print(x is y)"
   ]
  },
  {
   "cell_type": "code",
   "execution_count": 24,
   "metadata": {},
   "outputs": [
    {
     "name": "stdout",
     "output_type": "stream",
     "text": [
      "False\n"
     ]
    }
   ],
   "source": [
    "c = [1,2,3]\n",
    "d = [1,2,3]\n",
    "print(c is d)"
   ]
  },
  {
   "cell_type": "code",
   "execution_count": 27,
   "metadata": {},
   "outputs": [
    {
     "name": "stdout",
     "output_type": "stream",
     "text": [
      "False\n",
      "False\n",
      "True\n"
     ]
    }
   ],
   "source": [
    "x=(1,)\n",
    "y=(1,)\n",
    "print(x is y)\n",
    "print(id(x) == id(y))\n",
    "print(x==y)"
   ]
  },
  {
   "cell_type": "code",
   "execution_count": 28,
   "metadata": {},
   "outputs": [
    {
     "name": "stdout",
     "output_type": "stream",
     "text": [
      "<class 'int'>\n",
      "<class 'int'>\n"
     ]
    }
   ],
   "source": [
    "t = (1) #이런 괄호는 계산 괄호로 침 튜플이 아니라\n",
    "print(type(t))\n",
    "t2 = (1+1)\n",
    "print(type(t2))"
   ]
  },
  {
   "cell_type": "code",
   "execution_count": null,
   "metadata": {},
   "outputs": [],
   "source": []
  }
 ],
 "metadata": {
  "kernelspec": {
   "display_name": "Python 3",
   "language": "python",
   "name": "python3"
  },
  "language_info": {
   "codemirror_mode": {
    "name": "ipython",
    "version": 3
   },
   "file_extension": ".py",
   "mimetype": "text/x-python",
   "name": "python",
   "nbconvert_exporter": "python",
   "pygments_lexer": "ipython3",
   "version": "3.6.5"
  }
 },
 "nbformat": 4,
 "nbformat_minor": 2
}
