{
 "cells": [
  {
   "cell_type": "markdown",
   "metadata": {},
   "source": [
    "# 한국기술교육대 2013151008 김병우\n",
    "# 15-Oct-2018\n"
   ]
  },
  {
   "cell_type": "markdown",
   "metadata": {},
   "source": [
    "### [1번 문제]\n",
    "#### 다음 6개의 Expression에 대해 Evaluation 결과 값을 출력하고, 해당 결과가 나온 이유에 대하여 설명하시오.\n",
    "            - 1 and 2 and 3 and 4\n",
    "            - 1 or 2 or 3 or 4\n",
    "            - 1 and 2 or 3 and 4\n",
    "            - (1 and 2) or (3 and 4)\n",
    "            - 1 or 2 and 3 or 4\n",
    "            - (1 or 2) and (3 or 4)"
   ]
  },
  {
   "cell_type": "code",
   "execution_count": 1,
   "metadata": {},
   "outputs": [
    {
     "name": "stdout",
     "output_type": "stream",
     "text": [
      "4\n"
     ]
    }
   ],
   "source": [
    "print(1 and 2 and 3 and 4)"
   ]
  },
  {
   "cell_type": "markdown",
   "metadata": {},
   "source": [
    "4가 나오는 이유는 처리 할 때 and는 맨 마지막 명령까지 읽어야 참, 거짓을 알 수 있기 때문에 4가 나옵니다."
   ]
  },
  {
   "cell_type": "code",
   "execution_count": 2,
   "metadata": {},
   "outputs": [
    {
     "name": "stdout",
     "output_type": "stream",
     "text": [
      "1\n"
     ]
    }
   ],
   "source": [
    " print(1 or 2 or 3 or 4)"
   ]
  },
  {
   "cell_type": "markdown",
   "metadata": {},
   "source": [
    "1이 나오는 이유는 처음이 참이면 끝은 볼 필요가 없기 때문에 1이 나옵니다."
   ]
  },
  {
   "cell_type": "code",
   "execution_count": 3,
   "metadata": {},
   "outputs": [
    {
     "name": "stdout",
     "output_type": "stream",
     "text": [
      "2\n"
     ]
    }
   ],
   "source": [
    "print(1 and 2 or 3 and 4)"
   ]
  },
  {
   "cell_type": "markdown",
   "metadata": {},
   "source": [
    "1과 2에서 2까지 읽어야 하고 and 연산 순위가 높기 때문에 (1 and 2)가 참인 순간 뒤에는 볼필요가 없기 때문에 2를 출력합니다."
   ]
  },
  {
   "cell_type": "code",
   "execution_count": 4,
   "metadata": {},
   "outputs": [
    {
     "name": "stdout",
     "output_type": "stream",
     "text": [
      "2\n"
     ]
    }
   ],
   "source": [
    "print((1 and 2) or (3 and 4))"
   ]
  },
  {
   "cell_type": "markdown",
   "metadata": {},
   "source": [
    "위와 같은 내용이기 때문에 (1 and 2) 가 참이 나오는 순간 뒤를 읽지 않기 때문에 2를 출력합니다."
   ]
  },
  {
   "cell_type": "code",
   "execution_count": 5,
   "metadata": {},
   "outputs": [
    {
     "name": "stdout",
     "output_type": "stream",
     "text": [
      "1\n"
     ]
    }
   ],
   "source": [
    "print(1 or 2 and 3 or 4)"
   ]
  },
  {
   "cell_type": "markdown",
   "metadata": {},
   "source": [
    "and가 연산 순위가 높지만 1이 참이므로  or 뒤에는 볼필요가 없기 때문에 1이 출력됩니다."
   ]
  },
  {
   "cell_type": "code",
   "execution_count": 6,
   "metadata": {},
   "outputs": [
    {
     "name": "stdout",
     "output_type": "stream",
     "text": [
      "3\n"
     ]
    }
   ],
   "source": [
    "print((1 or 2) and (3 or 4))"
   ]
  },
  {
   "cell_type": "markdown",
   "metadata": {},
   "source": [
    "괄호 때문에 or 를 먼저 계산하고 and는 뒤에 까지 읽어야 하기 때문에 (3 or 4)를 내보내는데 3 or 4는 4까지 읽지 않기 때문에 3을 출력합니다."
   ]
  },
  {
   "cell_type": "markdown",
   "metadata": {},
   "source": [
    "### [2번 문제]\n",
    "#### 경로에 해당하는 문자열 1개를 입력 받아 그 안에 디렉토리 경로명과 파일명을 분리하여 리스트로 반환하는 함수 div_path(s)를 작성하시오.\n",
    "\n",
    "* 인자로 전달하는 문자열은 경로만 들어간다고 가정한다.\n",
    "* 각 디렉토리와 파일을 구분하는 문자는 '/'로 가정한다.\n",
    "* 반환하는 리스트의 첫번째 원소는 디렉토리이고 두번째 원소는 파일명이다.\n",
    "* 다음과 같은 실행 및 출력 결과가 도출되어야 한다.\n",
    "   - div_path('/usr/local/bin/python')\n",
    "       + ['/usr/local/bin', 'python']\n",
    "   - div_path('/home/chulsoo/test.txt')\n",
    "       + ['/home/chulsoo', 'test.txt']\n",
    "* [참고] 리스트(I) 내에 새로운 정수값 (예를 들어 10)을 넣에 방법은 I.append(10)이다."
   ]
  },
  {
   "cell_type": "code",
   "execution_count": 16,
   "metadata": {},
   "outputs": [
    {
     "name": "stdout",
     "output_type": "stream",
     "text": [
      "['/usr/local/bin', 'python']\n",
      "['/home/chulsoo', 'test.txt']\n"
     ]
    }
   ],
   "source": [
    "def div_path(s):\n",
    "    R=[]\n",
    "    S=[]\n",
    "    S=s.split('/')\n",
    "    length = len(S[-1])\n",
    "    str = s[:-length-1]\n",
    "    R.append(str)\n",
    "    R.append(S[-1])\n",
    "    return R\n",
    "\n",
    "print(div_path('/usr/local/bin/python'))\n",
    "print(div_path('/home/chulsoo/test.txt'))"
   ]
  },
  {
   "cell_type": "markdown",
   "metadata": {},
   "source": [
    "s를 /로 나누어서 리스트에 넣고 파일명의 길이를 뽑아\n",
    "s에서 파일명의 길이를 뺀 문자열은 디렉토리로 리스트에 추가하고\n",
    "처음 나눈 파일명도 두번째로 리스트에 추가한다."
   ]
  },
  {
   "cell_type": "markdown",
   "metadata": {},
   "source": [
    "### [3번 문제]\n",
    "#### 두 개의 리스트를 인자로 받아서 그 두 개의 리스트에 대한 '합집합'을 반환하는 함수 list_union(lista, listb)를 작성하시오.\n",
    "\n",
    "* 인자로 전달하는 리스트 2개에는 정수 값만 들어간다고 가정하자.\n",
    "* 함수 내에서 새로운 리스트를 만들어 그 리스트 내에 인자로 받은 두 리스트의 모든 원소를 넣어 반환한다.\n",
    "* 반환하는 리스트에는 절대로 중복된 원소가 들어 있으면 안된다(집합의 조건).\n",
    "* 반환하는 리스트는 정렬이 되어 있어야 한다.\n",
    "* 다음과 같은 실행 및 출력 결과가 도출되어야 한다.\n",
    "    - list_union([1,2,3], [1,2,4])\n",
    "        + [1,2,3,4]\n",
    "    - list_union([-10,-5,0,-1], [100,9,0,9])\n",
    "        + [-10,-5,-1,0,9,100]\n",
    "    - list_union([0,1,2],[0,1,2])\n",
    "        + [0,1,2]\n",
    "* [참고] 리스트(I) 내에 새로운 정수값 (예를 들어 10)을 넣는 방법은 I.append(10)이다.\n",
    "* [참고] 임의의 정수값 (x)이 리스트 (I) 내에 존재하는지 판단하는 방법은 x in I 이다."
   ]
  },
  {
   "cell_type": "code",
   "execution_count": 20,
   "metadata": {},
   "outputs": [
    {
     "name": "stdout",
     "output_type": "stream",
     "text": [
      "[1, 2, 3, 4]\n",
      "[-10, -5, -1, 0, 9, 100]\n",
      "[0, 1, 2]\n"
     ]
    }
   ],
   "source": [
    "#def list_union(lista, listb):\n",
    "#    I =[]\n",
    "#    I = list(set(lista) | set(listb))\n",
    "#    I.sort()\n",
    "#    return I\n",
    "\n",
    "def llist_union(lista, listb):\n",
    "    for i in listb:\n",
    "        if(i in lista):\n",
    "            continue\n",
    "        else:\n",
    "            lista.append(i)\n",
    "    \n",
    "    return lista\n",
    "\n",
    "print(list_union([1,2,3], [1,2,4]))\n",
    "print(list_union([-10,-5,0,-1], [100,9,0,9]))\n",
    "print(list_union([0,1,2],[0,1,2]))"
   ]
  },
  {
   "cell_type": "markdown",
   "metadata": {},
   "source": [
    "리스트 lista와 listb의 원소를 하나씩 대조해서 중복되지 않으면 리스트에 넣고 중복되면 리스트에 넣지 않는다."
   ]
  },
  {
   "cell_type": "markdown",
   "metadata": {},
   "source": [
    "### [ACM-ICPC 문제 10809번]\n",
    "#### 알파벳 찾기\n",
    "#### 알파벳 소문자로만 이루어진 단어 S가 주어진다. 각각의 알파벳에 대해서, 단어에 포함되어 있는 경우에는 처음 등장하는 위치를, 포함되어 있지 않는 경우에는 -1을 출력하는 프로그램을 작성하시오.\n",
    "\n",
    "* 입력\n",
    "    - 첫째 줄에는 단어 S가 주어진다. 단어의 길이는 100을 넘지 않으며, 알파벳 소문자로만 이루어져있다.\n",
    "* 출력\n",
    "    - 각각의 알파벳에 대해서, a가 처음 등장하는 위치, b가 처음 등장하는 위치, ...z 가 처음 등장하는 위치를 공백으로 구분해서 출력한다.\n",
    "    - 만약, 어떤 알파벳이 단어에 포함되어 있지 않다면 -1을 출력한다. 단어의 첫 번째 글자는 0번째 위치이고, 두번째 글자는 1번째 위치이다."
   ]
  },
  {
   "cell_type": "code",
   "execution_count": 25,
   "metadata": {},
   "outputs": [
    {
     "name": "stdout",
     "output_type": "stream",
     "text": [
      "beakjoon\n",
      "2 0 -1 -1 1 -1 -1 -1 -1 4 3 -1 -1 7 5 -1 -1 -1 -1 -1 -1 -1 -1 -1 -1 -1 "
     ]
    }
   ],
   "source": [
    "S = str(input())\n",
    "Alpha = ['a','b','c','d','e','f','g','h','i','j','k','l','m','n','o','p','q','r','s','t','u','v','w','x','y','z']\n",
    "lists = []\n",
    "for i in range(26):\n",
    "    lists.append(-1)\n",
    "for i in range(len(S)):\n",
    "    for j in range(26):\n",
    "        if S[i] == Alpha[j]: \n",
    "            if lists[j] == -1:\n",
    "                lists[j] = i\n",
    "                \n",
    "for i in range(len(lists)):\n",
    "    print(lists[i], end=' ')"
   ]
  },
  {
   "cell_type": "markdown",
   "metadata": {},
   "source": [
    "알파벳 리스트를 만들고 -1로 이루어진 26개 원소를 가진 리스트를 만든다.\n",
    "입력된 문자랑 알파벳이 같고 처음 등장하는 위치를 아직 모른다면 해당 알파벳의 자리에 위치 숫자를 넣는다."
   ]
  },
  {
   "cell_type": "markdown",
   "metadata": {},
   "source": [
    "![](https://github.com/kimjoshua135/ScriptProgram/blob/master/ScreenShot/10809_screenshot.png?raw=true)"
   ]
  },
  {
   "cell_type": "markdown",
   "metadata": {},
   "source": [
    "### [ACM-ICPC 문제 2675번]\n",
    "#### 문자열 반복\n",
    "#### 문자열 S를 입력받은 후에, 각 문자를 R번 반복해 새 문자열 P를 만든 후 출력하는 프로그램을 작성하시오. 즉, 첫 번째 문자를 R번 반복하고, 두 번째 문자를 R번 반복하는 식으로 P를 만들면 된다. S에는 QR Code \"alphanumeric\" 문자만 들어있다. \n",
    "#### QR Code \"alphanumeric\" 문자는 0123456789ABCDEFGHIJKLMNOPQRSTUVWXYZ\\$%*+-./: 이다.\n",
    "\n",
    "* 입력\n",
    "    - 첫째 줄에 테스트 케이스의 개수 T(1 ≤ T ≤ 1,000)가 주어진다. 각 테스트 케이스는 반복 횟수 R(1 ≤ R ≤ 8), 문자열 S가 공백으로 구분되어 주어진다. S의 길이는 적어도 1이며, 20글자를 넘지 않는다. \n",
    "* 출력\n",
    "    - 각 테스트 케이스에 대해 P를 출력한다."
   ]
  },
  {
   "cell_type": "code",
   "execution_count": null,
   "metadata": {},
   "outputs": [
    {
     "name": "stdout",
     "output_type": "stream",
     "text": [
      "3\n",
      "3 abc\n",
      "aaabbbccc\n",
      "3 abc\n",
      "aaabbbccc\n"
     ]
    }
   ],
   "source": [
    "T = input()\n",
    "\n",
    "for _ in range(int(T)):\n",
    "    R_S = input()\n",
    "    R_S = R_S.split()\n",
    "    P = ''\n",
    "    for i in R_S[1]:\n",
    "        P += i*int(R_S[0])\n",
    "    print(P)"
   ]
  },
  {
   "cell_type": "markdown",
   "metadata": {},
   "source": [
    "![](https://github.com/kimjoshua135/ScriptProgram/blob/master/ScreenShot/11721_Screenshot.png?raw=true)"
   ]
  },
  {
   "cell_type": "markdown",
   "metadata": {},
   "source": [
    "### Incremental Project 문제\n",
    "#### 1) 웹 URL로 지정된 웹페이지를 문자열로 가져와 1) 모든 HTML 태그를 제외한 순수 텍스트 문자열만을 걸러내고, 2) 그 순수 텍스트 문자열 안에 존재하는 단어가 총 몇개인지 출력하는 프로그램을 작성하시오.\n",
    "\n",
    "* HTML 태그는 다음 조건을 가지는 것이다.\n",
    "    - < 로 시작하여 >로 끝난다.\n",
    "    - 예를 들어, 아래와 같은 HTML 내용 내에 한 줄이 있다고 가정하자.\n",
    "    <label for=\"keep_signed\">로그인 유지</label>\n",
    "    - 위 소스에서 HTML 태그를 제외한 순수 텍스트 문자열은 아래와 같다.\n",
    "    로그인 유지\n",
    "    - 한편, 아래와 같은 HTML 한 줄이 있다고 가정하자.\n",
    "    <link rel=\"stylesheet\" href=\"/common/css/xe.min.css?20150910092654\" />\n",
    "    - 위 한 줄은 HTML 태그로만 구성된 것이며 걸러낼 수 있는 순수 텍스 문자열은 존재하지 않는다.\n",
    "* 단어를 나누는 기준은 오로지 공백문자 (whitespace)이다.\n",
    "    - 즉, 위 순수 텍스트 문자열인 \"로그인 유지\"에서 분리한 단어는 \"로그인\"과 \"유지\"이다.\n",
    "* 중복을 고려하지 않고 무조건 모든 단어의 개수를 세어서 출력한다.\n",
    "* 본 숙제를 위하여 HTML 파싱과 관련된 모듈 (예. BeautifulSoup) 사용 금지\n",
    "* 다음은 URL로 지정된 웹페이지를 특정 문자열로 가져오는 코드이다.\n",
    "    - 즉, 숙제 코드는 아래 코드로 부터 시작해야 한다.\n",
    "    - 아래 코드 수행시 requests 모듈이 존재하지 않는 에러가 발생하면 command 창에서 다음 코드 입력하여 requests 모듈 설치후 아래 코드 수행\n",
    "            > pip install requests"
   ]
  },
  {
   "cell_type": "code",
   "execution_count": 7,
   "metadata": {},
   "outputs": [],
   "source": [
    "import requests\n",
    "\n",
    "req = requests.get('http://cse.koreatech.ac.kr')\n",
    "\n",
    "source = req.text"
   ]
  },
  {
   "cell_type": "code",
   "execution_count": 8,
   "metadata": {},
   "outputs": [
    {
     "name": "stdout",
     "output_type": "stream",
     "text": [
      "<!DOCTYPE html>\n",
      "<html lang=\"ko\">\n",
      "<head>\n",
      "<!-- META -->\n",
      "<meta charset=\"utf-8\">\n",
      "<meta name=\"Generator\" content=\"XpressEngine\">\n",
      "<meta http-equiv=\"X-UA-Compatible\" content=\"IE=edge\">\n",
      "<!-- TITLE -->\n",
      "<title>컴퓨터공학부</title>\n",
      "<!-- CSS -->\n",
      "<link rel=\"stylesheet\" href=\"/common/css/xe.min.css?20180913173442\" />\n",
      "<link rel=\"stylesheet\" href=\"/layouts/cse/style/prettyPhoto.css?20150805222706\" />\n",
      "<link rel=\"stylesheet\" href=\"/layouts/cse/style/stylemobile.css?20150805222706\" />\n",
      "<link rel=\"stylesheet\" href=\"/layouts/cse/style/mobilenavigation.css?20150805222706\" />\n",
      "<link rel=\"stylesheet\" href=\"/modules/editor/styles/ckeditor_light/style.css?20180913173434\" />\n",
      "<link rel=\"stylesheet\" href=\"/widgets/login_info/skins/cse_login_info_2015/default.login.css?20150420232234\" />\n",
      "<link rel=\"stylesheet\" href=\"/widgets/content_cse/skins/cse_latest_2015/css/widget.css?20150625005943\" />\n",
      "<link rel=\"stylesheet\" href=\"/addons/font_nanum_gothic/font-nanum_gothic.css?20150429141819\" />\n",
      "<link rel=\"stylesheet\" href=\"/files/faceOff/664/070/layout.css?20160523173814\" />\n",
      "<!-- JS -->\n",
      "<script>\n",
      "var current_url = \"https://cse.koreatech.ac.kr/\";\n",
      "var request_uri = \"https://cse.koreatech.ac.kr/\";\n",
      "var current_mid = \"home_2015\";\n",
      "var waiting_message = \"서버에 요청 중입니다. 잠시만 기다려주세요.\";\n",
      "var ssl_actions = new Array();\n",
      "var default_url = \"https://cse.koreatech.ac.kr/\";\n",
      "var http_port = 80;var https_port = 443;var enforce_ssl = true;</script>\n",
      "<!--[if lt IE 9]><script src=\"/common/js/jquery-1.x.min.js?20180913173442\"></script>\n",
      "<![endif]--><!--[if gte IE 9]><!--><script src=\"/common/js/jquery.min.js?20180913173442\"></script>\n",
      "<!--<![endif]--><script src=\"/common/js/x.min.js?20180913173442\"></script>\n",
      "<script src=\"/common/js/xe.min.js?20180913173442\"></script>\n",
      "<script src=\"/layouts/cse/script/modernizr.js?20150805222706\"></script>\n",
      "<script src=\"/widgets/login_info/skins/cse_login_info_2015/default.login.js?20150420232234\"></script>\n",
      "<script src=\"/widgets/content_cse/skins/cse_latest_2015/js/content_widget.js?20150422211442\"></script>\n",
      "<!-- RSS -->\n",
      "<link rel=\"alternate\" type=\"application/rss+xml\" title=\"Site RSS\" href=\"https://cse.koreatech.ac.kr/rss\" /><link rel=\"alternate\" type=\"application/atom+xml\" title=\"Site Atom\" href=\"https://cse.koreatech.ac.kr/atom\" /><!-- ICON -->\n",
      "<link rel=\"shortcut icon\" href=\"https://cse.koreatech.ac.kr/files/attach/xeicon/favicon.ico\" />\n",
      "\n",
      "<link rel=\"canonical\" href=\"https://cse.koreatech.ac.kr/\" />\n",
      "<meta property=\"og:locale\" content=\"ko_KR\" />\n",
      "<meta property=\"og:type\" content=\"website\" />\n",
      "<meta property=\"og:url\" content=\"https://cse.koreatech.ac.kr/\" />\n",
      "<meta property=\"og:title\" content=\"컴퓨터공학부\" />\n",
      "<link href='https://fonts.googleapis.com/css?family=Raleway:400,700,300,900' rel='stylesheet' type='text/css' />\n",
      "<link href='https://fonts.googleapis.com/css?family=Nunito:400,300,700' rel='stylesheet' type='text/css' />\n",
      "<link rel=\"stylesheet\" href=\"//fonts.googleapis.com/earlyaccess/nanumgothic.css\" />\n",
      "<meta charset=\"utf-8\" />\n",
      "<meta name=\"viewport\" content=\"width=device-width, initial-scale=1.0\" />\n",
      "<meta name=\"description\" content=\"Website Description\" />\n",
      "<meta name=\"keywords\" content=\"Website Keywords\" /><script>\n",
      "//<![CDATA[\n",
      "xe.current_lang = \"ko\";\n",
      "xe.cmd_find = \"찾기\";\n",
      "xe.cmd_cancel = \"취소\";\n",
      "xe.cmd_confirm = \"확인\";\n",
      "xe.msg_no_root = \"루트는 선택 할 수 없습니다.\";\n",
      "xe.msg_no_shortcut = \"바로가기는 선택 할 수 없습니다.\";\n",
      "xe.msg_select_menu = \"대상 메뉴 선택\";\n",
      "//]]>\n",
      "</script>\n",
      "</head>\n",
      "<body>\n",
      "<!DOCTYPE html>\n",
      "<html lang=\"ko\">\n",
      "<head>\n",
      "\t\n",
      "\t<title>Schoolfun - Study and Fun</title>\n",
      "\t\n",
      "\t\n",
      "\t\n",
      "\t\t\n",
      "\t\n",
      "\t\n",
      "\t\t<!--  -->\n",
      "\t\t\t\n",
      "</head>\n",
      "<body class=\"\">\n",
      "<header id=\"main-header\" class=\"clearfix\">\n",
      "\t<div id=\"header-full\" class=\"clearfix\">\n",
      "\t\t<div id=\"header\" class=\"clearfix\">\n",
      "\t\t\t<a href=\"#nav\" class=\"open-menu\">\n",
      "\t\t\t\t<span class=\"icon-bar\"></span>\n",
      "\t\t\t\t<span class=\"icon-bar\"></span>\n",
      "\t\t\t\t<span class=\"icon-bar\"></span>\n",
      "\t\t\t</a>\n",
      "\t\t\t<a href=\"https://cse.koreatech.ac.kr/\" id=\"logo\"><img src=\"/layouts/cse/images/cse_logo.png\" data-retina=\"images/cse_logo.png\" alt=\"School Fun - WordPress Theme\" /></a>\n",
      "\t\t\t<aside id=\"header-content\">\n",
      "\t\t\t\t<!--\n",
      "\t\t\t\t<form method=\"post\" action=\"#\" id=\"searchform\"><input type=\"hidden\" name=\"error_return_url\" value=\"/\" /><input type=\"hidden\" name=\"act\" value=\"\" /><input type=\"hidden\" name=\"mid\" value=\"home_2015\" /><input type=\"hidden\" name=\"vid\" value=\"\" />\n",
      "\t\t\t\t\t<div>\t\t\t\t\t</div>\n",
      "\t\t\t\t</form>\n",
      "\t\t\t\t-->\n",
      "\t\t\t\t<ul id=\"nav-header\" style=\"\">\t\t\t\t\t\n",
      "\t\t\t\t\t<li><div class=\"xe-widget-wrapper \" style=\"\"><div style=\"*zoom:1;padding:0px 0px 0px 0px !important;\"><form id=\"fo_login_widget\" action=\"https://cse.koreatech.ac.kr/index.php?act=procMemberLogin\" method=\"post\"  class=\"account\"><input type=\"hidden\" name=\"error_return_url\" value=\"/\" /><input type=\"hidden\" name=\"mid\" value=\"home_2015\" /><input type=\"hidden\" name=\"vid\" value=\"\" /><input type=\"hidden\" name=\"ruleset\" value=\"@login\" />\n",
      "\t<a href=\"#acField\">로그인</a>\n",
      "\t<fieldset id=\"acField\">\n",
      "\t\t<h2>로그인</h2>\n",
      "\t\t<input type=\"hidden\" name=\"act\" value=\"procMemberLogin\" />\n",
      "\t\t<input type=\"hidden\" name=\"success_return_url\" value=\"/\" />\n",
      "\t\t<input type=\"hidden\" name=\"xe_validator_id\" value=\"widgets/login_info/skins/default/login_form/1\" />\n",
      "\t\t\t\t<div class=\"idpw\">\n",
      "\t\t\t<label for=\"user_id\">아이디</label>\t\t\t<input name=\"user_id\" id=\"user_id\" type=\"text\" required />\t\t\t\t\t\t\t\t\t<label for=\"user_pw\">비밀번호</label>\n",
      "\t\t\t<input name=\"password\" id=\"user_pw\" type=\"password\" required />\n",
      "\t\t\t<p class=\"keep\">\n",
      "\t\t\t\t<input type=\"checkbox\" name=\"keep_signed\" id=\"keep_signed\" value=\"Y\" />\n",
      "\t\t\t\t<label for=\"keep_signed\">로그인 유지</label>\n",
      "\t\t\t</p>\n",
      "\t\t\t<p class=\"warning\">브라우저를 닫더라도 로그인이 계속 유지될 수 있습니다. 로그인 유지 기능을 사용할 경우 다음 접속부터는 로그인할 필요가 없습니다. 단, 게임방, 학교 등 공공장소에서 이용 시 개인정보가 유출될 수 있으니 꼭 로그아웃을 해주세요.</p>\n",
      "\t\t</div>\n",
      "\t\t<input type=\"submit\" value=\"로그인\" />\n",
      "\t\t<ul class=\"help\">\n",
      "\t\t\t<li><a href=\"https://cse.koreatech.ac.kr/index.php?mid=home_2015&amp;act=dispMemberSignUpForm\">회원가입</a></li>\n",
      "\t\t\t<li><a href=\"https://cse.koreatech.ac.kr/index.php?mid=home_2015&amp;act=dispMemberFindAccount\">ID/PW 찾기</a></li>\n",
      "\t\t</ul>\n",
      "\t</fieldset>\n",
      "</form>\n",
      "</div></div></li>\n",
      "\t\t\t\t</ul>\n",
      "\t\t\t\t<h3 id=\"slogan\" style=\"font-family:'Nanum Gothic', serif\">IT 교육의 글로벌 메카!<br/>한국기술교육대학교 컴퓨터공학부</h3>\n",
      "\t\t\t</aside>\n",
      "\t\t</div>\n",
      "\t</div>\n",
      "\t<nav id=\"nav\" class=\"clearfix\">\n",
      "\t\t<a href=\"#\" class=\"close-menu-big\">Close</a>\n",
      "\t\t<div id=\"nav-container\">\n",
      "\t\t\t<a href=\"#\" class=\"close-menu\">\n",
      "\t\t\t\t<span class=\"icon-bar\"></span>\n",
      "\t\t\t\t<span class=\"icon-bar\"></span>\n",
      "\t\t\t\t<span class=\"icon-bar\"></span>\n",
      "\t\t\t</a>\n",
      "\t\t\t<ul id=\"nav-main\">\n",
      "\t\t\t\t\t\t\t\t<li>\n",
      "\t\t\t\t\t\t\t\t\t\t<a href=\"https://cse.koreatech.ac.kr/intro_home_2015\" >소개</a>\n",
      "\t\t\t\t\t\t\t\t\t\t\n",
      "\t\t\t\t</li>\n",
      "\t\t\t\t\t\t\t\t\t\t\t\t\t<li>\n",
      "\t\t\t\t\t\t\t\t\t\t<a href=\"https://cse.koreatech.ac.kr/page_KbyV58\" >구성원소개</a>\n",
      "\t\t\t\t\t\t\t\t\t\t\n",
      "\t\t\t\t</li>\n",
      "\t\t\t\t\t\t\t\t\t\t\t\t\t<li>\n",
      "\t\t\t\t\t\t\t\t\t\t<a href=\"https://cse.koreatech.ac.kr/page_izgw21\" >학사안내</a>\n",
      "\t\t\t\t\t\t\t\t\t\t\n",
      "\t\t\t\t</li>\n",
      "\t\t\t\t\t\t\t\t\t\t\t\t\t<li>\n",
      "\t\t\t\t\t\t\t\t\t\t<a href=\"#\">입학</a>\n",
      "\t\t\t\t\t<ul>\n",
      "                        <li><a href=\"http://www.koreatech.ac.kr/admission.do\" target=\"_blank\">학부</a></li>\n",
      "                        <li><a href=\"http://www.koreatech.ac.kr/grd/sub02_01_01_01.do\" target=\"_blank\">대학원</a></li>\n",
      "                    </ul>\n",
      "\t\t\t\t\t\t\t\t\t\t\n",
      "\t\t\t\t</li>\n",
      "\t\t\t\t\t\t\t\t\t\t\t\t\t<li>\n",
      "\t\t\t\t\t\t\t\t\t\t<a href=\"https://cse.koreatech.ac.kr/notice\" >학부광장</a>\n",
      "\t\t\t\t\t\t\t\t\t\t\n",
      "\t\t\t\t</li>\n",
      "\t\t\t\t\t\t\t\t\t\t\t\t\t<li>\n",
      "\t\t\t\t\t\t\t\t\t\t<a href=\"https://cse.koreatech.ac.kr/pds\" >자료실</a>\n",
      "\t\t\t\t\t\t\t\t\t\t\n",
      "\t\t\t\t</li>\n",
      "\t\t\t\t\t\t\t\t\t\t\t\t\t<li>\n",
      "\t\t\t\t\t\t\t\t\t\t<a href=\"https://cse.koreatech.ac.kr/page_birW64\" >대학원</a>\n",
      "\t\t\t\t\t\t\t\t\t\t\n",
      "\t\t\t\t</li>\n",
      "\t\t\t\t\t\t\t\t\t\t\t\t\t<li>\n",
      "\t\t\t\t\t\t\t\t\t\t<a href=\"https://cse.koreatech.ac.kr/page_vBGH80\" >공학교육인증</a>\n",
      "\t\t\t\t\t\t\t\t\t\t\n",
      "\t\t\t\t</li>\n",
      "\t\t\t\t\t\t\t\t\t\t\t\t\t<li>\n",
      "\t\t\t\t\t\t\t\t\t\t<a href=\"https://cse.koreatech.ac.kr/graduate\" >학부서비스</a>\n",
      "\t\t\t\t\t\t\t\t\t\t\n",
      "\t\t\t\t</li>\n",
      "\t\t\t\t\t\t\t\t\t\t\t\t\t\n",
      "\t\t\t</ul>\n",
      "                        \t\t\t<a href=\"https://cse.koreatech.ac.kr/index.php?mid=home_2015&amp;act=dispMemberSignUpForm\" id=\"button-registration\">Registration</a>\n",
      "                        \t\t</div>\n",
      "\t</nav>\n",
      "</header>      \n",
      "\t        \t        \n",
      "<!-- main image tab start -->\n",
      "<div id=\"slideshow-tabs\" class=\"ui-tabs ui-widget ui-widget-content ui-corner-all\">\n",
      "    <div id=\"panel-tabs\" class=\"clearfix\">\n",
      "        <ul class=\"nav-tabs-slideshow ui-tabs-nav ui-helper-reset ui-helper-clearfix ui-widget-header ui-corner-all\" role=\"tablist\">\n",
      "            <li class=\"ui-state-default ui-corner-top ui-tabs-active ui-state-active\" role=\"tab\" tabindex=\"0\" aria-controls=\"panel-1\" aria-labelledby=\"ui-id-1\" aria-selected=\"true\"><a href=\"#panel-1\" class=\"ui-tabs-anchor\" role=\"presentation\" tabindex=\"-1\" id=\"ui-id-1\"><strong>컴퓨터공학부</strong><br>\n",
      "                <span>School of Computer Science and Engineering</span>\n",
      "                </a>\n",
      "            </li>\n",
      "            <li class=\"ui-state-default ui-corner-top\" role=\"tab\" tabindex=\"-1\" aria-controls=\"panel-2\" aria-labelledby=\"ui-id-2\" aria-selected=\"false\">\n",
      "                <a href=\"#panel-2\" class=\"ui-tabs-anchor\" role=\"presentation\" tabindex=\"-1\" id=\"ui-id-2\"><strong>IT 융합소프트웨어 인력양성사업</strong><br>\n",
      "                <span>CK (Creative Korea)-I</span>\n",
      "                </a>\n",
      "            </li>\n",
      "            <li class=\"ui-state-default ui-corner-top\" role=\"tab\" tabindex=\"-1\" aria-controls=\"panel-3\" aria-labelledby=\"ui-id-3\" aria-selected=\"false\">\n",
      "                <a href=\"#panel-3\" class=\"ui-tabs-anchor\" role=\"presentation\" tabindex=\"-1\" id=\"ui-id-3\"><strong>교육역량강화사업 온라인 컨텐츠</strong><br>\n",
      "                <span>Online Contents for Education Capability Empowerment</span>\n",
      "                </a>\n",
      "            </li>\n",
      "        </ul>\n",
      "    </div>\n",
      "\t<div class=\"ui-tabs-panel ui-widget-content ui-corner-bottom\" id=\"panel-1\" style=\"background-image: url(layouts/cse/images/kut1.png); display: block; background-position: 50% 0px; background-repeat: no-repeat no-repeat;\" aria-labelledby=\"ui-id-1\" role=\"tabpanel\" aria-expanded=\"true\" aria-hidden=\"false\">\n",
      "        <div class=\"tabs-blur no-blur\" style=\"background:url(http://placehold.it/2000x620) no-repeat 50% 0\">\n",
      "        </div>\n",
      "        <div class=\"tabs-container\">\n",
      "            <article>\n",
      "                <h2>IT 교육의 글로벌 메카</h2>\n",
      "                <p>한국기술교육대학교 컴퓨터공학부 홈페이지에 오신 것을<br/>환영합니다!</p>\n",
      "            </article>\n",
      "        </div>\n",
      "    </div>\n",
      "    <div class=\"ui-tabs-panel ui-widget-content ui-corner-bottom\" id=\"panel-2\" style=\"background-image: url(layouts/cse/images/kut2.png); display: none; background-position: 50% 0px; background-repeat: no-repeat no-repeat;\" aria-labelledby=\"ui-id-2\" role=\"tabpanel\" aria-expanded=\"false\" aria-hidden=\"true\">\n",
      "        <div class=\"tabs-blur no-blur\" style=\"background:url(http://placehold.it/2000x620) no-repeat 50% 0\">\n",
      "        </div>\n",
      "\t<div class=\"tabs-container\">\n",
      "            <article>\n",
      "                <h2>IT 융합소프트웨어 인력양성사업</h2>\n",
      "                <p>글로벌 수준의 IT전문인력 양성<br/>\n",
      "IT융합분야에 대한 국제적인 경쟁력 고취</p>\n",
      "                <a href=\"http://itcsw.koreatech.ac.kr\" target=\"_blank\" class=\"button-more-slide\">바로가기</a>\n",
      "            </article>\n",
      "        </div>\n",
      "    </div>\n",
      "    <div class=\"ui-tabs-panel ui-widget-content ui-corner-bottom\" id=\"panel-3\" style=\"background-image: url(layouts/cse/images/kut3.png); display: none; background-position: 50% 0px; background-repeat: no-repeat no-repeat;\" aria-labelledby=\"ui-id-3\" role=\"tabpanel\" aria-expanded=\"false\" aria-hidden=\"true\">\n",
      "        <div class=\"tabs-blur no-blur\" style=\"background:url(http://placehold.it/2000x620) no-repeat 50% 0\">\n",
      "        </div>\n",
      "\t<div class=\"tabs-container\">\n",
      "            <article>\n",
      "                <h2>교육역량강화사업 컨텐츠</h2>\n",
      "                <p>교육역량강화사업 온라인 컨텐츠를 소개합니다.</p>\n",
      "                <a href=\"http://220.68.64.187\" target=\"_blank\" class=\"button-more-slide\">바로가기</a>\n",
      "            </article>\n",
      "        </div>\n",
      "    </div>\n",
      "</div>\n",
      "<!-- main image tab end -->\n",
      "<div>\n",
      "    <div id=\"content\" class=\"clearfix\">\t\t\n",
      "    <div class=\"xe-widget-wrapper \" style=\"background-position: 0% 0%; margin: 0px; border: 0px solid rgb(0, 0, 0); border-image: none; width: 375px; float: left; background-image: none; background-repeat: repeat repeat;\"><div style=\"*zoom:1;padding:0px 0px 0px 0px !important;\"><div class=\"sidebar-homepage\">\n",
      "<aside class=\"widget-container\">\n",
      "\t<div class=\"widget-wrapper clearfix\">\n",
      "                <h3 class=\"widget-title\"><a href=\"https://cse.koreatech.ac.kr/notice\">공지사항</a></h3>\n",
      "    <ul class=\"widgetA menu news-sidebar\">\n",
      "                    <li class=\"clearfix\" >\n",
      "                                                                                        <h4><a href=\"https://cse.koreatech.ac.kr/85545\" class=\"title\"><span style=\"font-weight:bold\">[특성화] G-STAR 2018 전시회 선발 학생 공고</span></a></h4>\n",
      "                                                                                                                            <span class=\"date-news\">2018-10-08 17:14 17:14</span>\n",
      "                                    </li>\n",
      "                <li class=\"clearfix\" >\n",
      "                                                                                        <h4><a href=\"https://cse.koreatech.ac.kr/85525\" class=\"title\">[특성화][신청마감] G-STAR 2018 전시회 학생 모집 공고</a></h4>\n",
      "                                                                                                                            <span class=\"date-news\">2018-10-08 15:24 15:24</span>\n",
      "                                    </li>\n",
      "                <li class=\"clearfix\" >\n",
      "                                                                                        <h4><a href=\"https://cse.koreatech.ac.kr/85516\" class=\"title\"><span style=\"font-weight:bold\">[졸업작품] 2018년 졸업작품 설치 부스 배정 안내</span></a></h4>\n",
      "                                                                                                                            <span class=\"date-news\">2018-10-08 11:49 11:49</span>\n",
      "                                    </li>\n",
      "                <li class=\"clearfix\" >\n",
      "                                                                                        <h4><a href=\"https://cse.koreatech.ac.kr/85513\" class=\"title\"><span style=\"font-weight:bold\">[특성화] KES 2018 전시회 학생 선발 공고</span></a></h4>\n",
      "                                                                                                                            <span class=\"date-news\">2018-10-08 09:29 09:29</span>\n",
      "                                    </li>\n",
      "                <li class=\"clearfix\" >\n",
      "                                                                                        <h4><a href=\"https://cse.koreatech.ac.kr/85445\" class=\"title\"><span style=\"font-weight:bold\">[특성화] CHINA HI-TECH FAIR 2018 해외 전시회 참관 ...</span></a></h4>\n",
      "                                                                                                                            <span class=\"date-news\">2018-10-04 15:18 15:18</span>\n",
      "                                    </li>\n",
      "            </ul>\n",
      "            </div>\n",
      "</aside>\n",
      "</div>\n",
      "</div></div><div class=\"xe-widget-wrapper \" style=\"background-position: 0% 0%; margin: 0px; border: 0px solid rgb(0, 0, 0); border-image: none; width: 375px; float: left; background-image: none; background-repeat: repeat repeat;\"><div style=\"*zoom:1;padding:0px 0px 0px 0px !important;\"><div class=\"sidebar-homepage\">\n",
      "<aside class=\"widget-container\">\n",
      "\t<div class=\"widget-wrapper clearfix\">\n",
      "                <h3 class=\"widget-title\"><a href=\"https://cse.koreatech.ac.kr/freeboard\">자유게시판</a></h3>\n",
      "    <ul class=\"widgetA menu news-sidebar\">\n",
      "                    <li class=\"clearfix\" >\n",
      "                                                                                        <h4><a href=\"https://cse.koreatech.ac.kr/85506\" class=\"title\">졸업작품전시회 기간 헤어/메이크업</a></h4>\n",
      "                                                                                                                            <span class=\"date-news\">2018-10-07 14:48 14:48</span>\n",
      "                                    </li>\n",
      "                <li class=\"clearfix\" >\n",
      "                                                                                        <h4><a href=\"https://cse.koreatech.ac.kr/85286\" class=\"title\">※모의토익비 지원 공지※</a></h4>\n",
      "                                                                                                                            <span class=\"date-news\">2018-09-28 09:37 09:37</span>\n",
      "                                    </li>\n",
      "                <li class=\"clearfix\" >\n",
      "                                                                                        <h4><a href=\"https://cse.koreatech.ac.kr/84798\" class=\"title\">ACM-ICPC 예선 신청기간이 얼마 안 남았습니다!</a></h4>\n",
      "                                                                                                                            <span class=\"date-news\">2018-09-13 11:36 11:36</span>\n",
      "                                    </li>\n",
      "                <li class=\"clearfix\" >\n",
      "                                                                                        <h4><a href=\"https://cse.koreatech.ac.kr/84626\" class=\"title\">문화행사 취소 공지</a></h4>\n",
      "                                                                                                                            <span class=\"date-news\">2018-09-10 19:17 19:17</span>\n",
      "                                    </li>\n",
      "                <li class=\"clearfix\" >\n",
      "                                                                                        <h4><a href=\"https://cse.koreatech.ac.kr/84606\" class=\"title\">&amp;lt;2018학년도 2학기&amp;gt; 사물함 신청을 받겠...</a></h4>\n",
      "                                                                                                                            <span class=\"date-news\">2018-09-06 13:06 13:06</span>\n",
      "                                    </li>\n",
      "            </ul>\n",
      "            </div>\n",
      "</aside>\n",
      "</div>\n",
      "</div></div><div class=\"xe-widget-wrapper \" style=\"background-position: 0% 0%; margin: 0px; border: 0px solid rgb(0, 0, 0); border-image: none; width: 375px; float: left; background-image: none; background-repeat: repeat repeat;\"><div style=\"*zoom:1;padding:0px 0px 0px 0px !important;\"><div class=\"sidebar-homepage\">\n",
      "<aside class=\"widget-container\">\n",
      "\t<div class=\"widget-wrapper clearfix\">\n",
      "                <h3 class=\"widget-title\"><a href=\"https://cse.koreatech.ac.kr/jobboard\">취업게시판</a></h3>\n",
      "    <ul class=\"widgetA menu news-sidebar\">\n",
      "                    <li class=\"clearfix\" >\n",
      "                                                                                        <h4><a href=\"https://cse.koreatech.ac.kr/85442\" class=\"title\">[국가보안기술연구소] 정규직 채용</a></h4>\n",
      "                                                                                                                            <span class=\"date-news\">2018-10-04 14:18 14:18</span>\n",
      "                                    </li>\n",
      "                <li class=\"clearfix\" >\n",
      "                                                                                        <h4><a href=\"https://cse.koreatech.ac.kr/85240\" class=\"title\">한글과컴퓨터그룹 2018년 하반기 신입/경력 공채 ~10.10</a></h4>\n",
      "                                                                                                                            <span class=\"date-news\">2018-09-27 13:13 13:13</span>\n",
      "                                    </li>\n",
      "                <li class=\"clearfix\" >\n",
      "                                                                                        <h4><a href=\"https://cse.koreatech.ac.kr/84892\" class=\"title\">[구인]천안 충무병원 전산실</a></h4>\n",
      "                                                                                                                            <span class=\"date-news\">2018-09-18 15:25 15:25</span>\n",
      "                                    </li>\n",
      "                <li class=\"clearfix\" >\n",
      "                                                                                        <h4><a href=\"https://cse.koreatech.ac.kr/84564\" class=\"title\"><span style=\"font-weight:bold\">[정부교육] K-Shield 주니어 교육생 모집(정보보호) ~9.5</span></a></h4>\n",
      "                                                                                                                            <span class=\"date-news\">2018-09-03 07:53 07:53</span>\n",
      "                                    </li>\n",
      "                <li class=\"clearfix\" >\n",
      "                                                                                        <h4><a href=\"https://cse.koreatech.ac.kr/84539\" class=\"title\">인천] 에이스테크놀로지 연구개발인력 모집 ~ 2018.9.9...</a></h4>\n",
      "                                                                                                                            <span class=\"date-news\">2018-08-29 09:06 09:06</span>\n",
      "                                    </li>\n",
      "            </ul>\n",
      "            </div>\n",
      "</aside>\n",
      "</div>\n",
      "</div></div><div class=\"xe-widget-wrapper \" style=\"background-position: 0% 0%; margin: 0px; border: 0px solid rgb(0, 0, 0); border-image: none; width: 375px; float: left; background-image: none; background-repeat: repeat repeat;\"><div style=\"*zoom:1;padding:0px 0px 0px 0px !important;\"><div class=\"sidebar-homepage\">\n",
      "<aside class=\"widget-container\">\n",
      "\t<div class=\"widget-wrapper clearfix\">\n",
      "                <h3 class=\"widget-title\"><a href=\"http://platum.kr\">Platum</a></h3>\n",
      "    <ul class=\"widgetA menu news-sidebar\">\n",
      "                    <li class=\"clearfix\" >\n",
      "                                                                                        <h4><a href=\"https://platum.kr/archives/108192\" class=\"title\">[스타트업 서비스로 하루 살기 #23] 목적지에 빠르게 ...</a></h4>\n",
      "                                                                                    <span class=\"icon\"></span>\n",
      "                                                                                    <span class=\"date-news\">2018-10-14 14:14 14:14</span>\n",
      "                                                                </li>\n",
      "                <li class=\"clearfix\" >\n",
      "                                                                                        <h4><a href=\"https://platum.kr/archives/108175\" class=\"title\">권혁태 쿨리지코너 대표, 창업자로 나서… 제4이동통신...</a></h4>\n",
      "                                                                                    <span class=\"icon\"></span>\n",
      "                                                                                    <span class=\"date-news\">2018-10-12 21:59 21:59</span>\n",
      "                                                                </li>\n",
      "                <li class=\"clearfix\" >\n",
      "                                                                                        <h4><a href=\"https://platum.kr/archives/108139\" class=\"title\">10월 셋째주 스타트업 이벤트(1015~1021)</a></h4>\n",
      "                                                                                    <span class=\"icon\"></span>\n",
      "                                                                                    <span class=\"date-news\">2018-10-12 13:14 13:14</span>\n",
      "                                                                </li>\n",
      "                <li class=\"clearfix\" >\n",
      "                                                                                        <h4><a href=\"https://platum.kr/archives/108129\" class=\"title\">[10월 12일 스타트업 비즈니스 동향]다방, 제이퍼스트...</a></h4>\n",
      "                                                                                    <span class=\"icon\"></span>\n",
      "                                                                                    <span class=\"date-news\">2018-10-12 10:20 10:20</span>\n",
      "                                                                </li>\n",
      "                <li class=\"clearfix\" >\n",
      "                                                                                        <h4><a href=\"https://platum.kr/archives/108121\" class=\"title\">루트원, 카카오계정과 전화번호로 사용할 수 있는 암호...</a></h4>\n",
      "                                                                                    <span class=\"icon\"></span>\n",
      "                                                                                    <span class=\"date-news\">2018-10-12 06:48 06:48</span>\n",
      "                                                                </li>\n",
      "            </ul>\n",
      "            </div>\n",
      "</aside>\n",
      "</div>\n",
      "</div></div><div class=\"xe-widget-wrapper \" style=\"background-position: 0% 0%; margin: 0px; border: 0px solid rgb(0, 0, 0); border-image: none; width: 375px; float: left; background-image: none; background-repeat: repeat repeat;\"><div style=\"*zoom:1;padding:0px 0px 0px 0px !important;\"><div class=\"sidebar-homepage\">\n",
      "<aside class=\"widget-container\">\n",
      "\t<div class=\"widget-wrapper clearfix\">\n",
      "                <h3 class=\"widget-title\"><a href=\"http://www.etnews.com/\">전자신문</a></h3>\n",
      "    <ul class=\"widgetA menu news-sidebar\">\n",
      "                    <li class=\"clearfix\" >\n",
      "                                                                                        <h4><a href=\"http://www.etnews.com/20181014000063\" class=\"title\">방통위, 페이스북 국내계정 3만5000개 유출 확인·...</a></h4>\n",
      "                                                                                    <span class=\"icon\"></span>\n",
      "                                                                                    <span class=\"date-news\">2018-10-14 18:43 18:43</span>\n",
      "                                    </li>\n",
      "                <li class=\"clearfix\" >\n",
      "                                                                                        <h4><a href=\"http://www.etnews.com/20181012000265\" class=\"title\">[이슈분석]역차별 해소 카드 쏟아진 과방위 국감</a></h4>\n",
      "                                                                                    <span class=\"icon\"></span>\n",
      "                                                                                    <span class=\"date-news\">2018-10-14 17:00 17:00</span>\n",
      "                                    </li>\n",
      "                <li class=\"clearfix\" >\n",
      "                                                                                        <h4><a href=\"http://www.etnews.com/20181014000031\" class=\"title\">[전문기자 칼럼]단일 재난지휘 통신망에 거는 기대</a></h4>\n",
      "                                                                                    <span class=\"icon\"></span>\n",
      "                                                                                    <span class=\"date-news\">2018-10-14 17:00 17:00</span>\n",
      "                                    </li>\n",
      "                <li class=\"clearfix\" >\n",
      "                                                                                        <h4><a href=\"http://www.etnews.com/20181012000222\" class=\"title\">정보통신공사 분리 발주 뚜렷</a></h4>\n",
      "                                                                                    <span class=\"icon\"></span>\n",
      "                                                                                    <span class=\"date-news\">2018-10-14 17:00 17:00</span>\n",
      "                                    </li>\n",
      "                <li class=\"clearfix\" >\n",
      "                                                                                        <h4><a href=\"http://www.etnews.com/20181014000035\" class=\"title\">[기자수첩] 사과없는 애플 강력 제재해야</a></h4>\n",
      "                                                                                    <span class=\"icon\"></span>\n",
      "                                                                                    <span class=\"date-news\">2018-10-14 17:00 17:00</span>\n",
      "                                    </li>\n",
      "            </ul>\n",
      "            </div>\n",
      "</aside>\n",
      "</div>\n",
      "</div></div><div class=\"xe-widget-wrapper \" style=\"background-position: 0% 0%; margin: 0px; border: 0px solid rgb(0, 0, 0); border-image: none; width: 375px; float: left; background-image: none; background-repeat: repeat repeat;\"><div style=\"*zoom:1;padding:0px 0px 0px 0px !important;\"><div class=\"sidebar-homepage\">\n",
      "<aside class=\"widget-container\">\n",
      "\t<div class=\"widget-wrapper clearfix\">\n",
      "                <h3 class=\"widget-title\"><a href=\"https://techcrunch.com/\">TechCrunch</a></h3>\n",
      "    <ul class=\"widgetA menu news-sidebar\">\n",
      "                    <li class=\"clearfix\" >\n",
      "                                                                                        <h4><a href=\"http://feedproxy.google.com/~r/Techcrunch/~3/fz92E2Ro3fU/\" class=\"title\">Make your own phone with MakerPhone (some sold...</a></h4>\n",
      "                                                                                    <span class=\"icon\"></span>\n",
      "                                                                                    <span class=\"date-news\">2018-10-14 05:29 05:29</span>\n",
      "                                    </li>\n",
      "                <li class=\"clearfix\" >\n",
      "                                                                                        <h4><a href=\"http://feedproxy.google.com/~r/Techcrunch/~3/sWHRR9Y2hLw/\" class=\"title\">What to expect from the return of electric sco...</a></h4>\n",
      "                                                                                    <span class=\"icon\"></span>\n",
      "                                                                                    <span class=\"date-news\">2018-10-14 04:16 04:16</span>\n",
      "                                    </li>\n",
      "                <li class=\"clearfix\" >\n",
      "                                                                                        <h4><a href=\"http://feedproxy.google.com/~r/Techcrunch/~3/1GT-Xrv2H-0/\" class=\"title\">NASA plans ‘on schedule’ Soyuz launch despite ...</a></h4>\n",
      "                                                                                    <span class=\"icon\"></span>\n",
      "                                                                                    <span class=\"date-news\">2018-10-14 03:36 03:36</span>\n",
      "                                    </li>\n",
      "                <li class=\"clearfix\" >\n",
      "                                                                                        <h4><a href=\"http://feedproxy.google.com/~r/Techcrunch/~3/CpJlfhDlQ8k/\" class=\"title\">A fictional Facebook Portal videochat with Mar...</a></h4>\n",
      "                                                                                    <span class=\"icon\"></span>\n",
      "                                                                                    <span class=\"date-news\">2018-10-14 03:00 03:00</span>\n",
      "                                    </li>\n",
      "                <li class=\"clearfix\" >\n",
      "                                                                                        <h4><a href=\"http://feedproxy.google.com/~r/Techcrunch/~3/5rj8oVseQLo/\" class=\"title\">International growth, primarily in China, fuel...</a></h4>\n",
      "                                                                                    <span class=\"icon\"></span>\n",
      "                                                                                    <span class=\"date-news\">2018-10-14 02:11 02:11</span>\n",
      "                                    </li>\n",
      "            </ul>\n",
      "            </div>\n",
      "</aside>\n",
      "</div>\n",
      "</div></div>    </div>\n",
      "</div>\n",
      "<!-- main page footer start -->\n",
      "<footer id=\"main-footer\">\n",
      "    <!--\n",
      "    <div id=\"blur-top\">\n",
      "        <a href=\"#\" id=\"link-back-top\">Back to Top</a>\n",
      "    </div>\n",
      "    <div id=\"slogan-footer\">\n",
      "        <h4>Leading Together <span>for</span> Brighter Future</h4>\n",
      "    </div>\n",
      "    -->\n",
      "    <div id=\"footer-content\" class=\"clearfix\">\n",
      "        <div id=\"footer-container\">\n",
      "            <div id=\"sidebar-footer-left\" class=\"sidebar-footer\">\n",
      "                <aside class=\"widget-container\">\n",
      "                    <div class=\"widget-wrapper clearfix\">\n",
      "                        <h3 class=\"widget-title\">Quick Navigation</h3>\n",
      "                        <ul>\n",
      "                            <li><a href=\"http://www.koreatech.ac.kr\" target=\"_blank\">한국기술교육대학교 홈페이지</a></li>\n",
      "                            <li><a href=\"https://email.koreatech.ac.kr\" target=\"_blank\">한국기술교육대학교 WEBMAIL</a></li>\n",
      "                            <li><a href=\"http://www.e-koreatech.ac.kr\" target=\"_blank\">한국기술교육대학교 온라인 평생교육원</a></li>\n",
      "                            <li><a href=\"http://itcsw.koreatech.ac.kr\" target=\"_blank\">IT 융합소프트웨어 인력양성사업</a></li>\n",
      "                            <li><a href=\"http://csenas.koreatech.ac.kr:5000\" target=\"_blank\">컴퓨터공학부 교직원 업무 자료실</a></li>\n",
      "                            <!--<li><a href=\"https://cse.koreatech.ac.kr/?mid=portfolio\" target=\"_blank\">컴퓨터공학부 포트폴리오</a></li>-->\n",
      "                            \n",
      "                        </ul>\n",
      "                    </div>\n",
      "                </aside>\n",
      "            </div>\n",
      "            <div id=\"sidebar-footer-middle\" class=\"sidebar-footer\">\n",
      "                <aside class=\"widget-container\">\n",
      "                    <div class=\"widget-wrapper clearfix\">\n",
      "                        <h3 class=\"widget-title\">Campus Location</h3>\n",
      "                        <article class=\"text-widget \">\n",
      "\t                        <iframe class=\"map-area\" src=\"https://www.google.com/maps/embed?pb=!1m18!1m12!1m3!1d3196.369861062225!2d127.28035150000001!3d36.761693699999995!2m3!1f0!2f0!3f0!3m2!1i1024!2i768!4f13.1!3m3!1m2!1s0x357b2ac0a5190d0f%3A0x24cddeffd416ef74!2z7LKc7JWI7IucIOuzkeyynOuptCDtlZzqta3quLDsiKDqtZDsnKHrjIDtlZnqtZAg6rO17ZWZNOq0gA!5e0!3m2!1sko!2skr!4v1428058842867\" width=\"600\" height=\"450\" frameborder=\"0\" style=\"border:0\"></iframe><br/>\n",
      "                    </div>\n",
      "                </aside>\n",
      "            </div>\n",
      "<div id=\"sidebar-footer-right\" class=\"sidebar-footer\">\n",
      "                <aside class=\"widget-container\">\n",
      "                    <h3 class=\"widget-title\">Contact CSE</h3>\n",
      "                <p>충청남도 천안시 동남구 병천면 충절로 1600<br/>한국기술교육대학교 컴퓨터공학부 학과사무실 <br/>TEL (041) 560 1460 ~ 1461<br/> FAX (041) 560 1462\n",
      "                <ul id=\"list-social\" class=\"clearfix\">\n",
      "                    <li id=\"icon-facebook\"><a href=\"https://facebook.com/koreatech.cse.edu\" target=\"_blank\">Facebook</a></li>\n",
      "                    <!--<li id=\"icon-twitter\"><a href=\"#\">Twitter</a></li>\n",
      "                    <li id=\"icon-gplus\"><a href=\"#\">Google Plus</a></li>\n",
      "                    <li id=\"icon-linkedin\"><a href=\"#\">Linkedin</a></li>-->\n",
      "                </ul>\n",
      "                </aside>\n",
      "            </div>\n",
      "        </div>\n",
      "    </div>\n",
      "    <div id=\"footer-copyright\">\n",
      "        <div id=\"footer-copyright-content\" class=\"clearfix\">\n",
      "            <a href=\"#\" id=\"logo-footer\"><img src=\"/layouts/cse/images/cse_logo_footer.png\" data-retina=\"images/cse_logo_footer_retina.png\" alt=\"School Fun - University\" /></a>\n",
      "            <p id=\"text-address\">(31253) 충청남도 천안시 동남구 병천면 충절로 1600 (가전리, 한국기술교육대학교) 컴퓨터공학부 </p>\n",
      "            <p id=\"text-copyright\">Copyright © 2015. All rights reserved</p>\n",
      "        </div>\n",
      "    </div>\n",
      "</footer>\n",
      "<!-- main page footer end -->\n",
      "</body>\n",
      "</html>\n",
      "<!-- ETC -->\n",
      "<div class=\"wfsr\"></div>\n",
      "<script src=\"/addons/autolink/autolink.js?20180913173453\"></script><script src=\"/common/js/plugins/ui/jquery-ui.min.js?20180913173444\"></script><script src=\"/common/js/plugins/ui/jquery.ui.datepicker-ko.js?20180913173444\"></script><script src=\"/addons/resize_image/js/resize_image.min.js?20180913173454\"></script><script src=\"/layouts/cse/script/jquery.flexslider.js?20150805222706\"></script><script src=\"/layouts/cse/script/jquery.prettyPhoto.js?20150805222706\"></script><script src=\"/layouts/cse/script/jquery-ui-tabs-rotate.js?20150805222706\"></script><script src=\"/layouts/cse/script/scripts.js?20150821172206\"></script><script src=\"/files/cache/js_filter_compiled/5ad07e2b14b79f1c993c3e4b5ca58660.ko.compiled.js?20180913175854\"></script><script src=\"/files/cache/ruleset/85b80736b3cc92d07570521ad97a31d9.ko.js?20180913175854\"></script></body>\n",
      "</html>\n",
      "\n"
     ]
    }
   ],
   "source": [
    "print(source)"
   ]
  },
  {
   "cell_type": "code",
   "execution_count": null,
   "metadata": {},
   "outputs": [],
   "source": []
  }
 ],
 "metadata": {
  "kernelspec": {
   "display_name": "Python 3",
   "language": "python",
   "name": "python3"
  },
  "language_info": {
   "codemirror_mode": {
    "name": "ipython",
    "version": 3
   },
   "file_extension": ".py",
   "mimetype": "text/x-python",
   "name": "python",
   "nbconvert_exporter": "python",
   "pygments_lexer": "ipython3",
   "version": "3.6.5"
  }
 },
 "nbformat": 4,
 "nbformat_minor": 2
}
