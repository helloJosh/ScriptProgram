{
 "cells": [
  {
   "cell_type": "markdown",
   "metadata": {},
   "source": [
    "# 한국기술교육대 2013151008 김병우\n",
    "# 27-Oct-2018\n"
   ]
  },
  {
   "cell_type": "markdown",
   "metadata": {},
   "source": [
    "### [1번 문제]\n",
    "#### L=[1, 2, 3, 4, 5]일 때 다음 각 문장을 수행한 후의 결과를 보고 납득할 만한 이유를 설명하시오.\n",
    "            - L[1:3] = [100]\n",
    "            - L[1:3] = [(100)]\n",
    "            - L[1:3] = 100\n",
    "            - L[1:3] = (100)\n",
    "            - L[1:3] = (100, 101, 102)\n",
    "            - L[1:3] = [100, 101, 102]\n",
    "            - L[1:3] = [(100, 101, 102)]\n",
    "            - L[1:3] = [[100, 101, 102]]"
   ]
  },
  {
   "cell_type": "code",
   "execution_count": 2,
   "metadata": {},
   "outputs": [
    {
     "name": "stdout",
     "output_type": "stream",
     "text": [
      "[1, 100, 4, 5]\n"
     ]
    }
   ],
   "source": [
    "L=[1, 2, 3, 4, 5]\n",
    "L[1:3] = [100]\n",
    "print(L)"
   ]
  },
  {
   "cell_type": "markdown",
   "metadata": {},
   "source": [
    "리스트 L을 슬라이싱하여서 리스트 L의 2번째부터 3번째값에 리스트 100을 넣어서 [1,100,4,5]가 결과로 나옵니다."
   ]
  },
  {
   "cell_type": "code",
   "execution_count": 22,
   "metadata": {},
   "outputs": [
    {
     "name": "stdout",
     "output_type": "stream",
     "text": [
      "[1, 100, 4, 5]\n"
     ]
    }
   ],
   "source": [
    "L=[1, 2, 3, 4, 5]\n",
    "L[1:3] = [(100)]\n",
    "print(L)"
   ]
  },
  {
   "cell_type": "markdown",
   "metadata": {},
   "source": [
    "(100)은 int이지만 리스트로 포장해주었기 때문에 리스트 L을 슬라이싱하여서 리스트 L의 2번째부터 3번째값에 리스트 100을 넣어서 [1,100,4,5]가 결과로 나옵니다. "
   ]
  },
  {
   "cell_type": "code",
   "execution_count": 19,
   "metadata": {},
   "outputs": [
    {
     "ename": "TypeError",
     "evalue": "can only assign an iterable",
     "output_type": "error",
     "traceback": [
      "\u001b[0;31m---------------------------------------------------------------------------\u001b[0m",
      "\u001b[0;31mTypeError\u001b[0m                                 Traceback (most recent call last)",
      "\u001b[0;32m<ipython-input-19-b14b6d5e9def>\u001b[0m in \u001b[0;36m<module>\u001b[0;34m()\u001b[0m\n\u001b[1;32m      1\u001b[0m \u001b[0mL\u001b[0m\u001b[0;34m=\u001b[0m\u001b[0;34m[\u001b[0m\u001b[0;36m1\u001b[0m\u001b[0;34m,\u001b[0m \u001b[0;36m2\u001b[0m\u001b[0;34m,\u001b[0m \u001b[0;36m3\u001b[0m\u001b[0;34m,\u001b[0m \u001b[0;36m4\u001b[0m\u001b[0;34m,\u001b[0m \u001b[0;36m5\u001b[0m\u001b[0;34m]\u001b[0m\u001b[0;34m\u001b[0m\u001b[0m\n\u001b[0;32m----> 2\u001b[0;31m \u001b[0mL\u001b[0m\u001b[0;34m[\u001b[0m\u001b[0;36m1\u001b[0m\u001b[0;34m:\u001b[0m\u001b[0;36m3\u001b[0m\u001b[0;34m]\u001b[0m \u001b[0;34m=\u001b[0m \u001b[0;36m100\u001b[0m\u001b[0;34m\u001b[0m\u001b[0m\n\u001b[0m\u001b[1;32m      3\u001b[0m \u001b[0mprint\u001b[0m\u001b[0;34m(\u001b[0m\u001b[0mL\u001b[0m\u001b[0;34m)\u001b[0m\u001b[0;34m\u001b[0m\u001b[0m\n",
      "\u001b[0;31mTypeError\u001b[0m: can only assign an iterable"
     ]
    }
   ],
   "source": [
    "L=[1, 2, 3, 4, 5]\n",
    "L[1:3] = 100\n",
    "print(L)"
   ]
  },
  {
   "cell_type": "markdown",
   "metadata": {},
   "source": [
    "연속적 성질을 가진 리스트 자료형에 성질이 다른 자료형이 다른 int를 대입하기 때문에 오류가 나옵니다."
   ]
  },
  {
   "cell_type": "code",
   "execution_count": 29,
   "metadata": {},
   "outputs": [
    {
     "name": "stdout",
     "output_type": "stream",
     "text": [
      "[1, 100, 4, 5]\n"
     ]
    }
   ],
   "source": [
    "L=[1, 2, 3, 4, 5]\n",
    "L[1:3] = (100,)\n",
    "print(L)"
   ]
  },
  {
   "cell_type": "markdown",
   "metadata": {},
   "source": [
    "튜플은 리스트와 연속적인 성질이 같기 때문에 리스트 L을 슬라이싱하여서 리스트 L의 2번째부터 3번째값에 튜플값 100을 넣어서 [1,100,4,5]가 결과로 나옵니다."
   ]
  },
  {
   "cell_type": "code",
   "execution_count": 30,
   "metadata": {},
   "outputs": [
    {
     "name": "stdout",
     "output_type": "stream",
     "text": [
      "[1, 100, 101, 102, 4, 5]\n"
     ]
    }
   ],
   "source": [
    "L=[1, 2, 3, 4, 5]\n",
    "L[1:3] = (100, 101, 102)\n",
    "print(L)"
   ]
  },
  {
   "cell_type": "markdown",
   "metadata": {},
   "source": [
    "튜플은 리스트와 연속적인 성질이 같기 때문에 리스트 L을 슬라이싱하여서 리스트 L의 2번째부터 3번째값에 튜플값 100,101,102을 넣어서 [1,100,101,102,4,5]가 결과로 나옵니다."
   ]
  },
  {
   "cell_type": "code",
   "execution_count": 31,
   "metadata": {},
   "outputs": [
    {
     "name": "stdout",
     "output_type": "stream",
     "text": [
      "[1, 100, 101, 102, 4, 5]\n"
     ]
    }
   ],
   "source": [
    "L=[1, 2, 3, 4, 5]\n",
    "L[1:3] = [100, 101, 102]\n",
    "print(L)"
   ]
  },
  {
   "cell_type": "markdown",
   "metadata": {},
   "source": [
    "리스트 L을 슬라이싱하여서 리스트 L의 2번째부터 3번째값에 리스트값 100,101,102을 넣어서 [1,100,101,102,4,5]가 결과로 나옵니다."
   ]
  },
  {
   "cell_type": "code",
   "execution_count": 24,
   "metadata": {},
   "outputs": [
    {
     "name": "stdout",
     "output_type": "stream",
     "text": [
      "[1, (100, 101, 102), 4, 5]\n"
     ]
    }
   ],
   "source": [
    "L=[1, 2, 3, 4, 5]리스트 L을 슬라이싱하여서 리스트 L의 2번째부터 3번째값에 튜플 100,101,102을 넣어서 [1,100,101,102,4,5]가 결과로 나옵니다.\n",
    "L[1:3] = [(100, 101, 102)]\n",
    "print(L)"
   ]
  },
  {
   "cell_type": "markdown",
   "metadata": {},
   "source": [
    "리스트 L을 슬라이싱하여서 리스트 L의 2번째부터 3번째값에 리스트값 (100,101,102)을 넣어서 [1,(100,101,102),4,5]가 결과로 나옵니다."
   ]
  },
  {
   "cell_type": "code",
   "execution_count": 25,
   "metadata": {},
   "outputs": [
    {
     "name": "stdout",
     "output_type": "stream",
     "text": [
      "[1, [(100, 101, 102)], 4, 5]\n"
     ]
    }
   ],
   "source": [
    "L=[1, 2, 3, 4, 5]\n",
    "L[1:3] = [[(100, 101, 102)]]\n",
    "print(L)"
   ]
  },
  {
   "cell_type": "markdown",
   "metadata": {},
   "source": [
    "리스트 L을 슬라이싱하여서 리스트 L의 2번째부터 3번째값에 리스트값  [(100, 101, 102)]을 넣어서 [1, [(100, 101, 102)],4,5]가 결과로 나옵니다."
   ]
  },
  {
   "cell_type": "markdown",
   "metadata": {},
   "source": [
    "### [2번 문제]\n",
    "#### 문자열 S = 'Hello World and Python'에 대해 다음 요구사항에 대한 Python 코드를 제시하시오.\n",
    "\n",
    "- 1) 단어의 순서가 역순으로 되어진 문자열 ('Python and World Hello')을 만들고\n",
    "- 2) 1)의 결과 문자열에 대해 메소드 split과 join을 이용하여 공백을 모두 없엔 문자열 'PythonandWorldHello'을 만드시오.\n"
   ]
  },
  {
   "cell_type": "code",
   "execution_count": 47,
   "metadata": {},
   "outputs": [
    {
     "name": "stdout",
     "output_type": "stream",
     "text": [
      "World and Python Hello\n",
      "WorldandPythonHello\n"
     ]
    }
   ],
   "source": [
    "S = 'Hello World and Python'\n",
    "S1 =S[6:] +' '+ S[:5]\n",
    "print(S1)\n",
    "S1 = S1.split(' ')\n",
    "S1 = \"\".join(S1)\n",
    "print(S1)"
   ]
  },
  {
   "cell_type": "markdown",
   "metadata": {},
   "source": [
    "s를 /로 나누어서 리스트에 넣고 파일명의 길이를 뽑아\n",
    "s에서 파일명의 길이를 뺀 문자열은 디렉토리로 리스트에 추가하고\n",
    "처음 나눈 파일명도 두번째로 리스트에 추가한다."
   ]
  },
  {
   "cell_type": "markdown",
   "metadata": {},
   "source": [
    "### [3번 문제]\n",
    "#### 다음 코드를 보고 물음에 답하시오.\n",
    "\n",
    "     a = [1, 2, 3]\n",
    "     b = a * 3\n",
    "     c = [a] * 3\n",
    "     print(b)\n",
    "     print(c)\n",
    "     \n",
    "- 1) 위 코드를 수행한 이후 다음 코드를 수행한 후 b와 c의 내용을 확인하시오.\n",
    "        a[0]=0\n",
    "- 2) b와 c 객체의 차이는 무엇인가?"
   ]
  },
  {
   "cell_type": "code",
   "execution_count": 50,
   "metadata": {},
   "outputs": [
    {
     "name": "stdout",
     "output_type": "stream",
     "text": [
      "[1, 2, 3, 1, 2, 3, 1, 2, 3]\n",
      "[[1, 2, 3], [1, 2, 3], [1, 2, 3]]\n",
      "[1, 2, 3, 1, 2, 3, 1, 2, 3]\n",
      "[[0, 2, 3], [0, 2, 3], [0, 2, 3]]\n"
     ]
    }
   ],
   "source": [
    "a = [1, 2, 3]\n",
    "b = a * 3\n",
    "c = [a] * 3\n",
    "print(b)\n",
    "print(c)\n",
    "a[0]=0\n",
    "print(b)\n",
    "print(c)\n"
   ]
  },
  {
   "cell_type": "markdown",
   "metadata": {},
   "source": [
    "b객체는 a의 원소를 3번 복사한 것을 가르키는 객체입니다.\n",
    "그와 다르게 c객체는 리스트 a를 3번 복사한 리스트를 가르키는 객체이기 때문에 a의 원소가 바뀌는 순간 b는 값이 바뀌지 않지만 c는 a를 원소로 갖고 있기 때문에 원소가 바뀝니다."
   ]
  },
  {
   "cell_type": "markdown",
   "metadata": {},
   "source": [
    "### [4번 문제]\n",
    "#### 다음 문자열을 ':'을 기준으로 분리하여 리스트로 만들고 각 문자열의 좌우 공백을 제거하시오 (즉, 문자열 S에서 l을 만들어라)\n",
    "\n",
    "     s = '  first star   :   second star   :    third star  '\n",
    "     l = ['first star', 'second star', 'third star']\n",
    "\n",
    "     \n",
    "- 1) for ~ in 문을 이용한 코드를 작성하시오.\n",
    "- 2) 리스트 내포(list comprehension)를 이용한 코드를 작성하시오."
   ]
  },
  {
   "cell_type": "code",
   "execution_count": 25,
   "metadata": {},
   "outputs": [
    {
     "name": "stdout",
     "output_type": "stream",
     "text": [
      "['firststar', 'secondstar', 'thirdstar']\n"
     ]
    }
   ],
   "source": [
    "# for ~ in 문을 이용한 코드를 작성하시오.\n",
    "s = '  first star   :   second star   :    third star  '\n",
    "erased_s = []\n",
    "for char in s:\n",
    "    if char != \" \":\n",
    "        erased_s += char\n",
    "final_s = \"\".join(erased_s)\n",
    "list_s = final_s.split(\":\")\n",
    "print(list_s)"
   ]
  },
  {
   "cell_type": "code",
   "execution_count": 26,
   "metadata": {},
   "outputs": [
    {
     "name": "stdout",
     "output_type": "stream",
     "text": [
      "['firststar', 'secondstar', 'thirdstar']\n"
     ]
    }
   ],
   "source": [
    "#리스트 내포(list comprehension)를 이용한 코드를 작성하시오.\n",
    "s = '  first star   :   second star   :    third star  '\n",
    "erased_s = [char for char in s if char != \" \"]\n",
    "final_s = \"\".join(erased_s)\n",
    "list_s = final_s.split(\":\")\n",
    "print(list_s)"
   ]
  },
  {
   "cell_type": "markdown",
   "metadata": {},
   "source": [
    "### [5번 문제]\n",
    "#### 다음과 같이 0보다 큰 정수 리스트 변수 list를 인자로 받는 함수 addall(list)와 addallodd(list)를 for ~ in 리터널과 리스트 내포 방식으로 각각 제시하시오.\n",
    "     \n",
    "- 1) addall(list) 함수 (리스트 내의 모든 정수를 더하는 함수로서 해답으로는 for ~ in 리터럴과 리스트 내포 방식으로 각각 제시하시오.)\n",
    "    * addall([1])\n",
    "           1\n",
    "    * addall([1, 2, 3, 4, 5, 6, 7, 8, 9])\n",
    "           45\n",
    "- 2) addallodd(list) 함수 (리스트내의 모든 홀수를 더하는 함수로서 해답으로는 for ~ in 리터럴과 리스트 내포 방식으로 각각 제시하시오.)\n",
    "    * addallodd([1])\n",
    "            1\n",
    "    * addallodd([1, 2, 3, 4, 5, 6, 7, 8, 9])\n",
    "            25\n",
    "- [참고 1]: 리스트 내포 방식으로 addall() 및 addallodd()함수를 만들 때엔 리스트 내포에 의해 생성된 리스트 결과에 대해 내장 함수를 사용하는 방식을 고려해보시오 (주의: 리스트 내포 방식의 addall() 및 addallodd() 함수의 몸체는 단 1줄로 작성되어야 한다.)\n",
    "- [참고 2]: sum() 등의 내장함수 사용 가능함"
   ]
  },
  {
   "cell_type": "code",
   "execution_count": 19,
   "metadata": {},
   "outputs": [
    {
     "name": "stdout",
     "output_type": "stream",
     "text": [
      "1\n",
      "45\n",
      "\n",
      "1\n",
      "45\n",
      "\n",
      "1\n",
      "25\n",
      "\n",
      "1\n",
      "25\n"
     ]
    }
   ],
   "source": [
    "def addall_literal(lst):\n",
    "    sum_i = 0\n",
    "    for i in range(1, len(lst)+1):\n",
    "        sum_i += i\n",
    "    return sum_i\n",
    "\n",
    "def addall_compre(lst):\n",
    "    result = [i for i in range(1, len(lst)+1)]\n",
    "    return sum(result)\n",
    "\n",
    "def addallodd_literal(lst):\n",
    "    sum_i = 0\n",
    "    for i in range(1, len(lst)+1):\n",
    "        if(i%2 == 1):\n",
    "            sum_i +=i\n",
    "    return sum_i\n",
    "\n",
    "def addallodd_compre(lst):\n",
    "    result = [i for i in range(1,len(lst)+1) if i%2 != 0]\n",
    "    return sum(result)\n",
    "\n",
    "print(addall_literal([1]))\n",
    "print(addall_literal([1, 2, 3, 4, 5, 6, 7, 8, 9]))\n",
    "print()\n",
    "print(addall_compre([1]))\n",
    "print(addall_compre([1, 2, 3, 4, 5, 6, 7, 8, 9]))\n",
    "print()\n",
    "print(addallodd_literal([1]))\n",
    "print(addallodd_literal([1, 2, 3, 4, 5, 6, 7, 8, 9]))\n",
    "print()\n",
    "print(addallodd_compre([1]))\n",
    "print(addallodd_compre([1, 2, 3, 4, 5, 6, 7, 8, 9]))\n"
   ]
  },
  {
   "cell_type": "markdown",
   "metadata": {},
   "source": [
    "### [6번 문제]\n",
    "#### 다음 코드를 보고 물음에 답하시오.\n",
    "    L1 = [1, 2, 3]\n",
    "    L2 = [4, 5, 6]\n",
    "    d = {'low':L1, 'high':L2}\n",
    "    e = d\n",
    "    f = d.copy()\n",
    "    print(d)\n",
    "    print(e)\n",
    "    print(f)\n",
    "    print()\n",
    "    d['low'] = [10, 20, 30]\n",
    "    d['high'][1] = 500\n",
    "    print(d)\n",
    "    print(e)\n",
    "    print(f)\n",
    "     \n",
    "* 1) 위 코드의 수행 결과 d와 e는 항상 같은 결과를 출력한다. 그 이유는 무엇인가?\n",
    "* 2) 위 코드의 수행 결과 마지막 f의 내용은 다음과 같다. 이 때 'high' 키의 값 내용 중 500이 출력된 이유와 'low' 키의 값 내용 중 [1, 2, 3]이 출력된 이유를 설명하시오 ([hint]: shallow copy 관점에서 설명하시오.)\n",
    "\n",
    "    {'high': [4, 500, 6], 'low': [1, 2, 3]}"
   ]
  },
  {
   "cell_type": "code",
   "execution_count": 20,
   "metadata": {},
   "outputs": [
    {
     "name": "stdout",
     "output_type": "stream",
     "text": [
      "{'low': [1, 2, 3], 'high': [4, 5, 6]}\n",
      "{'low': [1, 2, 3], 'high': [4, 5, 6]}\n",
      "{'low': [1, 2, 3], 'high': [4, 5, 6]}\n",
      "\n",
      "{'low': [10, 20, 30], 'high': [4, 500, 6]}\n",
      "{'low': [10, 20, 30], 'high': [4, 500, 6]}\n",
      "{'low': [1, 2, 3], 'high': [4, 500, 6]}\n"
     ]
    }
   ],
   "source": [
    "L1 = [1, 2, 3]\n",
    "L2 = [4, 5, 6]\n",
    "d = {'low':L1, 'high':L2}\n",
    "e = d\n",
    "f = d.copy()\n",
    "print(d)\n",
    "print(e)\n",
    "print(f)\n",
    "print()\n",
    "d['low'] = [10, 20, 30]\n",
    "d['high'][1] = 500\n",
    "print(d)\n",
    "print(e)\n",
    "print(f)"
   ]
  },
  {
   "cell_type": "markdown",
   "metadata": {},
   "source": [
    "1) 위 코드의 수행 결과 d와 e는 항상 같은 결과를 출력한다. 그 이유는 무엇인가?\n",
    "    \n",
    "    e와 d 는 주소는 다르지만 가리키는 객체가 같기 때문에 항상 같은 결과를 출력한다."
   ]
  },
  {
   "cell_type": "markdown",
   "metadata": {},
   "source": [
    "2) 위 코드의 수행 결과 마지막 f의 내용은 다음과 같다. 이 때 'high' 키의 값 내용 중 500이 출력된 이유와 'low' 키의 값 내용 중 [1, 2, 3]이 출력된 이유를 설명하시오 ([hint]: shallow copy 관점에서 설명하시오.)\n",
    "   \n",
    "    f는 e를 shallow copy 하였기 때문에 둘다 mutable 객체이기 때문에 발생합니다. f와 e는 주소가 다르고 이미 d의 요소를 복사해왔기 때문에 d['low']의 값을 변경해도 바뀌지 않지만  d['high'][1]은 같은 주소를 바라보고 있기 때문에 값이 바뀝니다."
   ]
  },
  {
   "cell_type": "markdown",
   "metadata": {},
   "source": [
    "### [7번 문제]\n",
    "#### 사전 d = {'one':1, 'two':2, 'three':3, 'four':4, 'five':5}가 주어졌을 때 다음 요구사항에 맞는 코드를 제시하시오.\n",
    "* [참고]: d.keys(), d.values()를 통해 리스트를 얻어낸 후 리스트가 지니고 있는 sort(cmp=None, key=None, reverse=False)함수를 활용하시오.\n",
    "* 1) 키의 알파벳 오름차순 순서대로 튜플 (키, 값)을 차례대로 출력하시오.\n",
    "* 2) 키의 알파벳 내림차순 순서대로 튜플 (키, 값)을 차례대로 출력하시오.\n",
    "* 3) 값의 오름차순 순서대로 튜플 (키, 값)을 차례대로 출력하시오.\n",
    "* 4) 값의 내림차순 순서대로 튜플 (키, 값)을 차례대로 출력하시오."
   ]
  },
  {
   "cell_type": "code",
   "execution_count": 41,
   "metadata": {},
   "outputs": [
    {
     "name": "stdout",
     "output_type": "stream",
     "text": [
      "['five', 'four', 'one', 'three', 'two']\n",
      "['two', 'three', 'one', 'four', 'five']\n",
      "[1, 2, 3, 4, 5]\n",
      "[5, 4, 3, 2, 1]\n"
     ]
    }
   ],
   "source": [
    "d = {'one':1, 'two':2, 'three':3, 'four':4, 'five':5}\n",
    "d_key = d.keys()\n",
    "list_key = list(d_key)\n",
    "list_key.sort()\n",
    "print(list_key)\n",
    "list_key.sort(reverse=True)\n",
    "print(list_key)\n",
    "\n",
    "d_value = d.values()\n",
    "list_value = list(d_value)\n",
    "list_value.sort()\n",
    "print(list_value)\n",
    "list_value.sort(reverse = True)\n",
    "print(list_value)"
   ]
  },
  {
   "cell_type": "markdown",
   "metadata": {},
   "source": [
    "### [ACM-ICPC 문제 1673번]\n",
    "#### 치킨쿠폰\n",
    "#### 강민이는 치킨 한 마리를 주문할 수 있는 치킨 쿠폰을 n장 가지고 있다. 이 치킨집에서는 치킨을 한 마리 주문할 때마다 도장을 하나씩 찍어 주는데, 도장을 k개 모으면 치킨 쿠폰 한 장으로 교환할 수 있다.\n",
    "\n",
    "#### 강민이가 지금 갖고 있는 치킨 쿠폰으로 치킨을 최대 몇 마리나 먹을 수 있는지 구하여라. 단, 치킨을 주문하기 위해서는 반드시 치킨 쿠폰을 갖고 있어야 한다.\n",
    "\n",
    "* 입력\n",
    "    - 여러 줄에 걸쳐서 자연수 n과 k가 주어진다.\n",
    "* 출력\n",
    "    - 각 입력마다 한 줄에 정답을 출력한다.\n",
    "* 제한\n",
    "    - 1 < k ≤ n ≤ 1,000,000,000"
   ]
  },
  {
   "cell_type": "code",
   "execution_count": 5,
   "metadata": {},
   "outputs": [
    {
     "name": "stdout",
     "output_type": "stream",
     "text": [
      "숫자 두개를 입력하세요:4 3\n",
      "5\n",
      "숫자 두개를 입력하세요:7 4\n",
      "9\n",
      "숫자 두개를 입력하세요:dd\n"
     ]
    }
   ],
   "source": [
    "try:\n",
    "    while 1:\n",
    "        n,k=map(int,input('숫자 두개를 입력하세요:').split())\n",
    "        if n <= 0 or k <= 0:\n",
    "            break\n",
    "        current_coupon = n\n",
    "        stamp2chicken= 0\n",
    "        while(current_coupon >= k):\n",
    "            stamp2chicken = current_coupon // k\n",
    "            current_coupon = current_coupon % k\n",
    "            n += stamp2chicken\n",
    "            current_coupon += stamp2chicken\n",
    "        print(n)\n",
    "except:exit()\n"
   ]
  },
  {
   "cell_type": "markdown",
   "metadata": {},
   "source": [
    "![](https://github.com/kimjoshua135/ScriptProgram/blob/master/ScreenShot/1673_Screenshot.png?raw=true)"
   ]
  },
  {
   "cell_type": "markdown",
   "metadata": {},
   "source": [
    "각 줄마다 입력이어서 try catch문으로 n,k값을 입력을 받아서 지금 있는 쿠폰의 개수에서 도장의 개수를 나누어서 더 시킬 수 있는 치킨의 수를 더 해줍니다.\n",
    "또 그것을 쿠폰의 개수에 더해주며 while문에서 쿠폰의 수가 도장의 개수 보다 적어질 때까지 계산하게하는 코드입니다.\n",
    "테스트 입력의 개수의 제한도 없기 때문에 EOF를 try catch로 하여 코드를 해봤는데 백준에서는 출력이 너무 많다고 하는데 뭐가 문제인지 모르겠습니다."
   ]
  },
  {
   "cell_type": "markdown",
   "metadata": {},
   "source": [
    "### Incremental Project 문제\n",
    "#### 이전 Assignment 2의 마지막 문제는 웹 URL로 지정된 웹페이지를 문자열로 가져와 모든 HTML 태그를 제외한 순수 텍스트를 얻어내고 그 안에 존재하는 단어를 추출하고 단어들의 총 개수를 출력하는 프로그램을 작성하는 것이었다. 이번에는 그 마지막 숙제를 그대로 확장하여 웹 URL로 지정된 웹페이지 내 순수 텍스트 안에 존재하는 각 단어들에 대해 다음 요구사항 대로 출력하는 프로그램을 작성하시오.\n",
    "\n",
    "* 요구사항 1. CSS와 Javascript 내용도 모두 제거하시오 (이전 숙제에서 이미 제외하였다면 본 요구사항 무시)\n",
    "    - 즉, 아래와 같은 코드는 style 및 script태그 뿐만 아니라 그 안의 내용 전체를 모두 제거\n",
    "* 요구사항 2. 순수 텍스트 안에 존재하는 단어들에 대해 string 모듈을 활용하여 모든 punctuation (구두문자)를 완벽히\n",
    "    - 예: ['world!', ':', '+hello+', '~python$$$', '=', 'world'] ---> ['world', 'hello', 'python', 'world']\n",
    "    - 모든 punctuation을 확인하는 방법은 아래와 같다.\n",
    "        import string\n",
    "        print(string.punctuation)\n",
    "* 요구사항 3. 만약 punctuation (구두문자)를 제거한 이후 공백으로 판명되는 단어들은 해당 단어 리스트에서 제거하시오.\n",
    "    - 예: ['컴퓨터공학부!', '---?', '%지향~', '...'] ---> ['컴퓨터공학부', '', '지향', ''] ---> ['컴퓨터공학부', '지향'] \n",
    "\n",
    "* 요구사항 4. 각 단어들의 출현빈도를 사전형태로 저장하여 출력하시오.\n",
    "    - 예: ['world', 'hello', 'python', 'world', '컴퓨터공학부', '지향'] ---> {'world': 2, 'hello': 1, 'python': 1, '컴퓨터공학부': 1, '지향': 1} \n",
    "\n",
    "* 요구사항 5. 다음 5개의 사이트에 대한 단어 출현빈도 결과를 출력하시오.\n",
    "        http://cse.koreatech.ac.kr\n",
    "        https://www.koreatech.ac.kr\n",
    "        http://www.naver.com\n",
    "        http://www.daum.net\n",
    "        http://www.nytimes.com"
   ]
  },
  {
   "cell_type": "code",
   "execution_count": 6,
   "metadata": {},
   "outputs": [],
   "source": [
    "import requests\n",
    "import string\n",
    "\n",
    "req = requests.get('http://cse.koreatech.ac.kr')\n",
    "source = req.text\n",
    "\n",
    "req2 = requests.get('https://www.koreatech.ac.kr')\n",
    "source2 = req2.text\n",
    "\n",
    "req3 = requests.get('http://www.naver.com')\n",
    "source3 = req3.text\n",
    "\n",
    "req4 = requests.get('http://www.daum.net')\n",
    "source4 = req4.text\n",
    "\n",
    "req5 = requests.get('http://www.nytimes.com')\n",
    "source5 = req5.text\n",
    "\n",
    "# 코드를 지우는 함수\n",
    "def remove_code(source):\n",
    "    t_f = False\n",
    "    replace_source=source.replace(\";\",\"\\n\")\n",
    "    replace2_source = replace_source.replace(\"}\",\"\\n\")\n",
    "    splited_source2list = replace2_source.split(\"\\n\")\n",
    "    for i in range(len(splited_source2list)):\n",
    "        if splited_source2list[i] == '<script>':\n",
    "            t_f = True\n",
    "            continue\n",
    "        elif splited_source2list[i] == '</script>':\n",
    "            t_f = False\n",
    "        elif splited_source2list[i] == '<style>':\n",
    "            t_f = True\n",
    "            continue\n",
    "        elif splited_source2list[i] == '</style>':\n",
    "            t_f = False\n",
    "        if t_f == True:\n",
    "            splited_source2list[i] =' '\n",
    "    final_source = ' '.join(splited_source2list)\n",
    "    return final_source\n",
    "\n",
    "#태그를 지우는 함수\n",
    "def remove_tag(source):\n",
    "    source_length = len(source)\n",
    "    list_source = list(source)\n",
    "    t_f = True\n",
    "    lists= []\n",
    "    for  i in range(source_length):\n",
    "        if source[i] == '<':\n",
    "            t_f = True\n",
    "        elif source[i] == '>':\n",
    "            t_f = False\n",
    "            list_source[i] = ' '\n",
    "        if t_f == True:\n",
    "            list_source[i] = ' '\n",
    "        final_source = \"\".join(list_source)    \n",
    "    return final_source\n",
    "\n",
    "#구두문자 및 특수문자 지우는 함수\n",
    "def remove_punctuation(source):\n",
    "    source_list = list(source)\n",
    "    for i in range(len(source_list)):\n",
    "        if source_list[i] in string.punctuation:\n",
    "            source_list[i] = ' '\n",
    "        elif source_list[i] in ''' ★ ※'\\\"?-.._()©…···‘ ’ ''':\n",
    "            source_list[i] = ' '\n",
    "        final_source = \"\".join(source_list)\n",
    "    return final_source"
   ]
  },
  {
   "cell_type": "code",
   "execution_count": 7,
   "metadata": {
    "scrolled": true
   },
   "outputs": [
    {
     "name": "stdout",
     "output_type": "stream",
     "text": [
      "{'problem': 1, 'new': 1, '1600': 2, 'Gab': 1, 'Fun': 1, '개발직': 1, 'Red': 1, '컨텐츠': 2, '04': 1, '개발': 1, '평가회': 1, 'Linkedin': 1, '양성': 1, '로그인할': 1, '메쉬코리아': 1, 'IT': 5, '16': 2, '19': 4, 'Location': 1, '닫더라도': 1, '한국기술교육대학교': 7, 'store': 1, 'market': 1, '정규직': 1, '29일': 1, '관광': 1, '대학원': 2, '53': 2, '운영': 1, 'Facebook': 1, '전산실': 1, '경력': 1, '와이브로': 1, 'Creative': 1, 'Top': 1, '있으니': 1, '꼭': 1, 'Watson': 1, '모집': 2, 'CNS자회사': 1, '2018년': 1, '560': 2, '공채': 1, 'Quick': 1, '공공장소에서': 1, '산업체': 1, 'Online': 1, '굿바이': 1, '18': 3, 'AR': 1, '표준화기구': 1, 'afte': 1, '융합소프트웨어': 3, 'uses': 1, '비밀번호': 1, '해주세요': 1, '상륙': 1, '20': 2, 'Hat': 1, '10월': 1, '접속부터는': 1, 'Bot': 1, 'be': 1, '아이디어': 1, '문화의날': 1, 'Future': 1, '22': 1, '1462': 1, '48': 2, '아이패드': 1, '행사': 1, '아이디': 1, '기업가정신': 1, 'Google': 1, '홈페이지': 1, 'IT융합': 3, '고취': 1, '37': 6, 'ID': 1, '입학': 1, '커리어피드': 1, 'ICPC': 1, '더팀스': 1, '52': 2, '만에': 1, '인력양성사업': 3, 'may': 1, '유출될': 1, '국가보안기술연구소': 1, 'sovereign': 1, 'Shield': 1, '자유게시판': 1, 'goes': 1, 'PW': 1, '28': 3, 'Walmart': 1, '충청남도': 2, 'which': 1, '유엔세계관광기구': 1, '졸업작품': 2, 'Far': 1, '21': 2, 'School': 1, '아니면': 1, 'Registration': 1, '한글과컴퓨터그룹': 1, 'Engineering': 1, '09': 16, '동남구': 2, '다음': 1, '학부': 1, 'of': 1, 'Computer': 1, '헤어': 1, 'the': 1, '12일': 1, '로그아웃을': 1, '애플': 1, '43': 2, '학사안내': 1, 'Science': 1, '위드': 1, '17': 3, 'Forget': 1, '따른': 1, '31253': 1, '31': 2, '공학교육인증': 1, '학부서비스': 1, '글로벌': 4, 'Silicon': 1, 'Leading': 1, '11': 2, '봉사': 1, '얼마': 1, '포럼': 1, '평생교육원': 1, '모의토익비': 1, '36': 6, '오신': 1, '㈜비즈테크파트너스': 1, 'Co': 1, 'All': 1, 'network': 1, 'Together': 1, '유지될': 1, '블록체인': 1, '新': 1, '예판': 1, 'for': 4, 'reserved': 1, '경쟁력': 1, 'technology': 1, '분석': 1, '이용': 1, '2015': 1, '되는': 1, 'Study': 1, '구인': 1, '상용화': 1, '35': 2, 'Contents': 1, 'ACM': 1, '지능형교통시스': 1, '“블록체인': 1, '샤오미': 1, '가전리': 1, '경진대회': 1, 'Navigation': 1, 'Sam': 1, '1461': 1, 'IT융합분야에': 1, '기반': 1, '27': 1, '학부광장': 1, '01': 8, '수준의': 1, '정부교육': 1, '기업용': 1, 'acquisition': 1, '국제': 1, '03': 1, '충절로': 2, '하반기': 1, '국제적인': 1, '동향': 1, 'Twitter': 1, '가성비': 1, '없습니다': 1, '홈페이지에': 1, '개최': 1, 'offline': 1, '50': 2, '공지': 3, '9': 1, '아산': 1, '2018학년도': 1, '취업의': 1, '경우': 1, '있습니다': 1, '바로가기': 2, 'LG': 1, '08': 6, '특성화': 4, '포트폴리오': 1, 'CSE': 1, '로그인': 4, '스마트시티': 1, 'K': 1, '교직원': 1, 'Copyright': 1, 'TechCrunch': 1, '일': 1, '로그인이': 1, '학교': 1, '생태계': 1, 'CK': 1, '환영합니다': 1, '캠프': 1, '개인정보가': 1, 'rights': 1, '한': 1, '교육생': 1, '단': 1, '2학기': 2, '천안': 1, '공지사항': 1, '5': 1, '대한': 1, '내달': 1, '극강': 1, '2018': 34, 'AI': 1, '충무병원': 1, '정보보호': 1, 'Education': 1, '2일': 1, '소개': 1, 'advertising': 1, '교육': 1, '컴퓨터공학부': 8, '07': 3, '14': 8, 'Brighter': 1, 'TEL': 1, 'I': 1, '업무': 1, 'Empowerment': 1, 'Korea': 1, '신입': 2, '취업게시판': 1, 'test': 1, '12년': 1, '블록오': 1, '메이크업': 1, '자료실': 2, 'and': 2, 'to': 1, 'Plus': 1, '구성원소개': 1, '졸업작품전시회': 1, '사용할': 1, '기술지원': 1, '기능을': 1, '소개합니다': 1, '온라인': 3, '병천면': 2, '시': 1, '고수가': 1, '수': 2, '결과에': 1, 'Valley': 1, 'Campus': 1, '041': 2, '57': 2, '29': 18, '해외': 1, '5차년도': 1, 's': 3, 'IT전문인력': 1, '韓': 1, '불법만': 1, '스타트업': 3, '지원': 1, '유지': 2, '방법': 1, 'Close': 1, '15': 20, 'wealth': 1, '주니어': 1, 'Capability': 1, '솔루션': 1, '찾기': 1, '30': 6, 'Back': 1, '안': 1, '취소': 1, '문화행사': 1, '표철민': 1, '계속': 1, '강좌': 1, '예선': 1, '등': 1, '천안시': 2, '출시': 1, '컨텐츠를': 1, 'social': 1, '기간': 1, 'KT': 1, '비즈니스': 1, '게임방': 1, '포럼서': 1, '초읽기': 1, '개도국': 1, '채용': 1, '25': 4, 'Intensive': 1, '남았습니다': 1, '회원가입': 1, '교육역량강화사업': 3, '10': 29, '학과사무실': 1, '56': 2, '중': 1, '아산나눔재단': 1, 'Platum': 1, 'AnyMind': 1, '것을': 1, '조성위해': 1, '신청기간이': 1, '포코폰F1': 1, '13': 9, '필요가': 1, 'Contact': 1, '메카': 2, 'WEBMAIL': 1, '브라우저를': 1, 'Schoolfun': 1, 'right': 1, '교육의': 2, '안내': 2, '데이터': 1, '1460': 1, 'FAX': 1, '대표': 1, '전자신문': 1}\n"
     ]
    }
   ],
   "source": [
    "code_removed = remove_code(source)\n",
    "tag_removed = remove_tag(code_removed)\n",
    "all_removed = remove_punctuation(tag_removed)\n",
    "\n",
    "all_removed = all_removed.replace(\"\\n\",\" \")\n",
    "all_removed= all_removed.replace(\"\\t\",\" \")\n",
    "\n",
    "final_source_list = all_removed.split(\" \")\n",
    "final_source = [x for x in final_source_list if x]\n",
    "\n",
    "dic_source = {}\n",
    "set_source=set(final_source)\n",
    "list_source=list(set_source)\n",
    "k = 0\n",
    "\n",
    "#한가지 문자만 추려서 원래 있던 문자를 비교합니다. 그리고 나온 숫자를 딕셔너리에 맵핑합니다.\n",
    "for i in range(0, len(list_source)):\n",
    "    for j in range(0, len(final_source)):\n",
    "        if list_source[i] == final_source[j]:\n",
    "            k += 1\n",
    "    dic_source[list_source[i]] = k\n",
    "    k = 0\n",
    "    \n",
    "print(dic_source)"
   ]
  },
  {
   "cell_type": "code",
   "execution_count": 10,
   "metadata": {
    "scrolled": true
   },
   "outputs": [
    {
     "name": "stdout",
     "output_type": "stream",
     "text": [
      "{'77': 1, 'new': 1, '1600': 1, 'parentNode': 1, '학생': 1, '학생자치단체': 2, 'function': 4, 'IPP센터': 6, '강화': 1, '대한민국의': 1, '및': 4, '특강': 4, '이동할': 1, '해외연수': 4, '공공데이터개방': 2, '휴먼아카데미': 2, 'l': 1, 'f': 2, '행복한': 1, '플레이': 1, '대학현황': 2, 'true': 1, '피해': 1, '『상담': 1, '사이트를': 1, '총장실': 2, '서비스안내': 3, '신문고': 1, '세계를': 1, 'script': 1, '코리아텍신문사': 1, '알리오': 2, '자격증': 1, '입력폼': 1, 'href': 2, '학교현장실습': 1, 'btnNext': 1, '학교차량신청': 2, '인도네시아': 1, '한국기술교육대학교': 4, 'btnStop': 1, '학사일정': 2, '제도': 1, '증명발급': 1, 'KOREATECH20년': 2, '한국노동연구원': 1, '학부모님': 2, '캠퍼스투어': 4, '공학설계': 1, 'false': 1, '대학원': 10, '실험실습을': 4, '제안': 2, 'Self': 1, 'getElementById': 3, '만족하는': 4, 'createElement': 6, '기술리더': 1, '대학알리미': 1, '대학소식지': 2, '웹메일': 1, 'find': 1, '학사종합': 1, '대학정보공시': 2, '개': 1, '취업공지': 1, '긴급': 3, '2018년': 2, 'gosite': 1, '주요사이트': 2, '560': 1, '【교수학습센터】': 1, 'ENGLISH': 2, '근거하여': 4, '이수예정자': 1, 'IPP': 4, '작업으로': 3, 'Copyrightⓒ2014': 1, '재학생': 5, '사회봉사센터': 1, '중등교직이수': 1, '한국산업인력공단': 1, '시설물신청': 2, 'a': 6, 'AR': 1, '중등교직과정': 1, '아우누리': 2, '상담진로개발센터': 1, '국제포럼＇': 1, 'src': 1, '사업실명제': 2, 'LOGIN': 3, '있는': 1, 'm': 4, '2014학년도': 2, '공식카페': 1, '다담창의센터': 1, '언론보도': 1, '10월': 1, '인크루트': 1, '하단메뉴': 1, '교육장비검색': 2, 'Tel': 1, '창의': 1, '장학금': 1, '4': 3, '제18기': 1, 'KOTRA': 1, '홈페이지': 3, 'value': 3, '글쓰기': 1, 'ga': 3, '총여학생회': 1, 'async': 1, 'Cyber': 1, '인디밴드': 1, '산학협력단': 1, '코리아텍': 6, '건축공학전공': 1, '학생이': 5, 'r': 7, 'js': 1, '인성검사': 1, '사업단': 2, '학생중심': 1, '찾아오시는길': 4, 'q': 2, 'selectId': 5, '대학생': 1, '워크넷': 1, '캡스톤디자인': 1, '이전': 3, '결과': 1, '지방대특성화': 2, '재생': 2, 'nbsp': 3, 'insertBefore': 1, '220': 1, '소리': 2, '동아리안내': 2, 'LINC': 2, '충청남도': 1, '강의': 1, '교육중심': 2, '주요메뉴': 1, '교지편집위원회': 1, 'VISION2020': 2, 'next': 1, 'daum': 2, '대학생활': 4, '교내장학': 2, '학교운영': 1, '신': 1, 'HRD센터': 1, '교수': 2, 'i': 7, '사실에': 4, '듀얼공동훈련센터허브사업단': 1, '직업능력': 1, '관련사이트': 1, '최고경영자과정': 1, '병사안내': 2, '않으시면': 1, 'S': 4, '불안': 1, '동남구': 1, '오류신고': 1, 'window': 2, '다음': 4, 'banner': 4, '팝업닫기': 1, '3': 3, '선도하는': 1, '제3기': 1, '현장중심과': 4, '발전기금': 2, '취업역량강화': 2, '위한': 1, 'VR': 1, '생활관': 7, '패치': 3, '필독': 1, '학사안내': 2, '페스티벌': 1, '교내주요기관': 2, '생활관자치회': 1, '충청남도청': 1, '중간': 1, 'var': 1, '교양학부': 1, 'stop': 1, 'initialize': 1, '31253': 1, '기계공학부': 1, '개선': 1, 'PSM사업단': 1, '일학습병행대학': 3, '커뮤니티': 4, '원격지원': 4, '자기관리': 1, '인턴': 1, 'Date': 1, 'UNIVERSITY': 1, '학사종합서비스': 4, '2차': 1, '수소에너지': 1, '정지': 3, '온라인평생교육원': 3, '선택해주세요': 1, '사용하지': 1, '대학': 17, '잡영': 1, '공학교육혁신센터': 2, '도로명주소안내': 2, '장애인고용공단': 1, '\\r': 996, 'google': 1, 'All': 1, '제2차': 1, '시험': 1, 'alert': 1, 'GEC': 1, 'MOU체결': 1, '신뢰하는': 1, 'RFID': 2, '대학조직': 2, 'reserved': 1, '윤리헌장': 2, '행정서비스헌장': 2, '대학민국': 1, 'logoutFrm': 1, '행정공시': 2, 'NO': 1, 'li': 1, '한국고용정보원': 1, '독립기념관과': 1, '불편사항이': 1, '학사공지': 1, '코리아텍학부모초청의날': 2, 'W': 4, 'UA': 1, '대상': 1, 'facebook': 2, '만족도': 1, '대외유관기관': 2, 'Foreigner': 1, '권장합니다': 1, '학부소개': 4, 'VISION': 2, '가전리': 1, '고용노동연수원': 3, '주제': 1, '중소기업': 1, '데스크탑': 1, '언론기사': 4, '4차': 1, '근로복지공단': 1, 'NTIS': 1, 'KOREATECH소개': 2, '비주얼': 2, '68': 1, '닫기': 3, '장학공지': 1, '인문향연': 1, '본문': 1, 'arguments': 1, '워크숍': 1, '뽐내기': 1, '이메일무단수집거부': 2, '스크립트를': 1, '충절로': 1, '신청': 5, 'pageview': 1, '사업': 2, '투명한': 1, 'return': 2, '캠': 1, '동영상': 2, 'btnPrev': 1, '수원정보과학축제': 1, '한국산업안전보건공단': 1, '개인정보처리방침': 2, 'location': 1, '창업지원센터': 1, '심사평가원': 1, '팝업열기': 1, 'KOREATECH부패방지': 2, '현재': 1, 'submit': 1, '개최': 1, '국제교류': 2, '스트레스': 1, '한국교육개발원': 1, '0': 1, '팝업존': 1, '2018학년도': 5, '홍보영상물': 4, '있습니다': 1, '예비대학생': 4, '바로가기': 3, '대학교육개발단': 1, '온라인교육지원': 5, '08': 1, 'ACE': 1, '성금': 1, '고용노동부': 1, 'nav': 1, 'send': 1, '이용에': 1, '입학금감축대응지원': 1, '설문조사': 1, '학습법': 1, '입학안내': 6, '교직원': 4, '홍보대사': 2, 'com': 1, '취업연계': 1, '전자출결': 2, '나∙우리': 1, '총동아리연합회': 1, 'IPP포털': 2, 'push': 1, '참여게시판': 2, '사람인': 1, '국민권익위원회': 1, 'rights': 1, '2학기': 4, '서비스': 4, '장학사업': 1, '공지사항': 2, '알림': 1, '스크립트가': 1, '능력개발교육원': 3, '디자인공학전공': 1, '고용부': 2, 'article': 1, '일반인': 4, '진리를': 4, '2018': 2, '전국대학생하이브리드자동차경진대회': 1, '소개': 1, '장학': 2, '통합검색': 1, 'KOREATECH': 21, '교직적성': 1, 'TALKS': 1, 'attr': 1, 'g': 2, '메카트로닉스공학부': 2, '교육': 1, '전달': 1, '47858780': 1, '강조하는': 4, 'create': 1, '대학원소개': 2, 'fnSubmit': 1, 'youtube': 2, '성료': 1, '컴퓨터공학부': 1, 'NEWS': 3, '07': 1, '교과부': 1, '희망사다리장': 1, 'analytics': 2, 'footer': 1, '천안시청': 1, '2019학년도': 1, '지진': 1, '전화번호찾기': 4, '동계': 2, 'HRD': 1, '설명회': 2, '도전': 1, 'prev': 1, '홍보브로셔': 2, 'SITEMAP': 1, 'document': 10, '웹갤러리': 1, '국제교육센터': 3, '정보공개': 6, '태블릿': 1, '스크립트': 1, '자료실': 2, '코리아텍발전기금': 2, '졸준위': 2, '1114': 1, '온라인교육': 1, '한국직업능력개발원': 1, 'GoogleAnalyticsObject': 1, 'parent': 1, '모바일': 1, '국가장학생': 1, '탐구하는': 4, '구호': 1, '상반기': 2, '원격훈련심사센터': 1, '산업통상자원부': 1, '일반공지': 1, '전기전자통신공학부': 1, '한국폴리텍대학': 1, '유틸메뉴': 2, '입학생': 1, '반도체장비교육센터': 1, 'section': 1, '온라인': 1, '충청남도청과': 1, '인터넷': 1, '병천면': 1, '캠퍼스생활': 2, 'OF': 1, 'Tech허브사업단': 1, '네이버': 1, '현장실습': 2, '졸업': 1, '미래를': 1, '041': 1, '선발': 1, '식단': 4, 'Change': 1, 'www': 1, 'if': 1, '실시': 1, '2': 5, '시설보수신청': 4, '＇제3회': 1, 'CENTER': 1, '교내인증': 4, 'link': 2, '다산정보관': 1, 'Tour': 1, '학과안내': 2, '에너지신소재화학공학부': 1, 's': 3, '기업이': 1, 'CHINESE': 2, '취업률': 1, '상태입니다': 1, 'TED': 1, '사이버감사실': 2, '의견란': 2, '우리말': 1, '명사특강': 2, '64': 1, 'HOME': 1, '산업경영학부': 1, 'BUS': 2, 'Footer': 2, '행복대학': 1, '생활협동조합': 1, '코리아텍소개': 2, '1위': 3, '노': 1, '진로개발센터': 1, '선배의': 1, '산학협력': 3, 'Uni': 1, '장학제도': 4, '사이버투어': 2, '국가기술자격검정': 1, '고객의': 2, '1': 9, '5차': 1, '직업능력심사평가원': 2, '네트워크': 3, '천안시': 1, 'THE': 1, 'o': 3, '목표설정': 1, '테크노인력개발전문대학원': 1, '공식블로그': 1, '더보기': 7, '코리아텍방송국': 1, '프로그램': 2, '총학생회': 1, '준비': 1, '자주찾는': 3, '자세히보기': 1, '인터넷증명발급': 5, 'naver': 2, '공학교육인증안내': 1, 'getElementsByTagName': 1, '대학소개': 4, '교육중심대학': 2, '동문홈페이지': 1, '31일': 1, '수험자': 1, '꺼져': 1, '언론보도모음집': 2, '대학홍보': 4, '기획재정부': 1, '추가': 1, '끌어올림': 1, '준비를': 1, '콘서트': 1, '탑': 2, '오늘의': 4, '인한': 3, 'CIGMA': 1, 'header': 1, '학습역량강화': 2, '잡코리아': 1, '무선랜신청': 4, '품다': 1, '열정': 1, '캠퍼스사진': 2, 'WEBMAIL': 2, '분야': 1, '개도국기술이전연구소': 1, '2020': 2, '재능봉사': 1, '사용을': 1, '안내': 7, '대한민국': 1, '청렴업무': 1, '일반대학원': 1, 'IT융합과학경영대학원': 1}\n"
     ]
    }
   ],
   "source": [
    "code_removed2 = remove_code(source2)\n",
    "tag_removed2 = remove_tag(code_removed2)\n",
    "all_removed2 = remove_punctuation(tag_removed2)\n",
    "\n",
    "all_removed2 = all_removed2.replace(\"\\n\",\" \")\n",
    "all_removed2= all_removed2.replace(\"\\t\",\" \")\n",
    "\n",
    "final_source_list2 = all_removed2.split(\" \")\n",
    "final_source2 = [x for x in final_source_list2 if x]\n",
    "\n",
    "dic_source2 = {}\n",
    "set_source2=set(final_source2)\n",
    "list_source2=list(set_source2)\n",
    "k = 0\n",
    "for i in range(0, len(list_source2)):\n",
    "    for j in range(0, len(final_source2)):\n",
    "        if list_source2[i] == final_source2[j]:\n",
    "            k += 1\n",
    "    dic_source2[list_source2[i]] = k\n",
    "    k = 0\n",
    "    \n",
    "print(dic_source2)"
   ]
  },
  {
   "cell_type": "code",
   "execution_count": 11,
   "metadata": {},
   "outputs": [
    {
     "name": "stdout",
     "output_type": "stream",
     "text": [
      "{'417': 2, 'new': 6, '329': 2, '주제형': 1, '파이낸셜뉴스': 2, '지혜의': 1, '신재은': 2, '374': 2, '쌍둥이': 1, '04': 6, 'nsd13738461': 1, 'nsd15444343': 1, 'pan': 1, '20170803': 1, '못판다고': 1, '드루킹측근': 1, '전체': 5, '1017': 1, '원': 1, 'newsStandInfo': 1, '외교부': 1, '3DBUSINESS': 1, '서울경제': 2, '346': 2, 'nsd173523100': 1, '952': 2, '937': 2, '중국': 2, '910': 2, 'OFF설정은': 1, '엠스플뉴스': 1, 'nsd1125619': 1, 'checkActiveView': 1, '책문화': 2, 'ac': 3, '제주의소리': 1, 'nsd143434899': 1, '언론사의': 1, '농민신문': 1, '전문자료': 1, '328': 2, '031': 3, '951': 2, '건강': 3, '머니투데이방송': 1, '치열했던': 1, '954': 2, '유용': 1, '293': 3, 'nelo': 1, '025': 3, '1122': 5, 'activeViewPercentage': 1, 'job': 5, 'fxview': 1, '모바일에서': 1, 'contents': 19, 'panel': 1, '970': 2, '에너지경제': 1, '중부일보': 1, '조직원들을': 1, '제2전성기': 1, '등록': 3, '뉴스토마토': 1, 'nsd153228485': 1, '자동차생활': 1, 'nsd144020188': 1, 'bsn': 2, '제민일보': 1, '컴퓨터월드': 1, '959': 2, '뉴스타파': 2, '아리랑TV': 1, '37': 1, 'SU10206': 1, 'nsc': 1, '1000101': 1, 'PD저널': 1, '20위': 1, 'js': 8, 'nsd164449667': 1, '패션앱': 1, 'end': 4, 'SU10204': 1, '1000113': 1, 'HEALTH': 1, 'CEO스코어데일리': 1, '출격': 1, 'type': 19, '629': 1, '이전': 2, '정신의학신문': 1, '영영사전': 1, 'v181011': 1, '캐스트': 1, 'viewer': 258, 'KBS': 4, 'nsd172415111': 1, 'pstatic': 262, '탑승': 1, 'nsd161235556': 1, '타임스퀘어': 2, '1000102': 1, 'newsCastInfo': 1, '여주대학교': 2, 'EMOTION': 1, '해제': 1, '982': 2, 'today': 258, 'nsd144944309': 2, 'xAM899UUZ3Q9VJBuHZSoBg': 1, '경제M': 2, '500': 1, 'pid': 259, '966': 2, 'emotion': 1, 'nsd17150763': 1, '3DSCHOOL': 1, '927': 2, '981': 2, '개설': 1, '자세히': 2, '뉴데일리': 2, 'nsd145249746': 1, '여성신문': 1, '02': 5, '맞춘': 1, '로그아웃을': 1, 'nsd153458161': 1, 'momkids': 2, 'sendError': 1, '보세요': 2, 'Beta': 1, '그린포스트코리아': 1, 'undefined': 3, '전북도민일보': 1, '경남': 3, 'nsd154255890': 1, '종합': 1, '성공': 2, 'getBoundingClientRect': 1, '주말': 1, '시사회': 1, '이코노미조선': 1, '009': 3, 'subject': 19, 'before': 2, '943': 3, '936': 2, 'display': 1, '11': 11, 'hea': 1, 'history': 1, '023': 3, '부모i': 2, 'issue': 1, 'callbackForInValid': 3, '연예': 2, 'nsd17629468': 1, 'nsd172557496': 2, '1000086': 1, '996': 1, 'IBL': 1, 'param': 19, '0903': 1, 'pressCategory': 1, 'SU10226': 1, '강한나': 2, 'nrefreshx': 1, '시작': 1, '20181104235959': 2, '뉴스핌': 1, 'domain': 1, '국제신문': 1, '이혜정': 2, '956': 2, '경북매일신문': 1, '986': 2, '973': 2, 'nsd144629578': 1, 'TV연예': 2, '리스트형': 1, '906': 2, 'util': 2, 'nsd14431117': 1, '0212': 2, '최근검색어에서': 1, 'https': 269, '오픈소스': 1, 'nsd15042554': 2, '찾는': 1, '958': 2, 'adType': 19, '검색어가': 1, '0201': 1, '901': 2, '나우뉴스': 1, '세종': 5, '쇼핑캐스트': 2, 'nsd162423309': 1, 'try': 3, 'NBP': 3, '코스닥': 3, 'adScriptPCMain1': 1, 'rk': 1, '421': 2, 'oid': 1, '340': 2, '020': 3, 'nsd173252323': 1, '공용': 1, '비결': 1, 'nsd15444742': 1, '플라스틱': 1, 'tra': 1, 'aut': 1, '이재명': 1, '네이버를': 1, '소년한국일보': 1, '블로그': 2, '게임메카': 1, 'sThemecastAdScriptUrl': 2, '0': 23, 'catch': 3, '전남일보': 1, '연합뉴스': 1, 'multiDomAdUrl': 19, '스포츠조선': 2, '경기': 5, 'nsd112148521': 1, '흥망사': 1, 'scrollTarget': 1, 'nsd173138949': 2, '시사저널': 1, '국어사전': 1, '회화': 1, '911': 2, '다': 1, '로그인': 4, 'nsd161443290': 1, '쥬니어네이버': 1, '오마이뉴스': 2, '광주': 4, 'nsd161545206': 1, 'KNN': 1, '컨텍스트': 3, '목록': 3, 'nsd155540688': 1, 'nsd14481127': 1, '뉴시스': 2, '스포츠한국': 1, 'nsd173010586': 1, '경영전략': 1, '5': 6, 'nsd145951763': 2, '404': 2, 'nsd173335676': 2, '912': 2, '파인다이닝': 1, 'init': 6, '0613': 1, 'position': 19, '통합검색': 1, '16K': 1, '경향신문': 2, '동생': 1, '국회의원선거': 1, 'nsd11361752': 1, '1102': 1, '도움말': 6, '928': 2, 'adEndDate': 1, '0627': 1, 'SCIENCE': 1, 'PC사랑': 1, '시간대': 1, 'nsd14593063': 1, 'refreshLcs': 2, '07': 5, '079': 3, '없다면': 1, '세가가': 1, '3606396': 1, 'far': 1, '경북도민일보': 1, '인니': 1, '1000087': 1, '아시아투데이': 1, 'document': 2, 'nsd164412540': 1, '3D': 2, '헤럴드경제': 2, '경북': 6, '최고급': 1, 'nsd173322105': 1, '이용약관': 1, '뉴스스탠드': 2, '984': 2, 'nsd173151831': 1, '아이코스3': 2, '기능을': 5, '002': 3, '귀국': 1, '네이버': 9, 'json': 1, '3Fsu': 5, '강원도민일보': 1, '이뉴스투데이': 1, '이투데이': 1, '코스피': 4, 'CNB뉴스': 1, 'amigo': 259, '기사보기': 18, 'SBSCNBC': 1, '907': 2, '기존': 1, '웹드라마': 1, 'newSmartSearch': 1, '설정하시겠습니까': 1, 'nsd1687672': 1, 'BBOOM': 1, '8': 6, '410': 2, '인천': 5, 'emo': 1, '맥스무비': 1, 'CNN': 1, '시사인': 2, 's': 258, 'SU10198': 1, '961': 2, '뉴스1': 1, '985': 2, '매거진': 1, '브랜드': 1, '그룹의': 1, '3DMOVIE': 1, '384': 2, 'finally': 1, '362': 2, 'png': 258, '미슐랭': 1, 'with': 2, 'nsd16425834': 2, '957': 2, '추락': 1, '925': 2, '충북일보': 1, 'web': 1, '0906': 1, '메일': 1, 'nsd172816434': 1, 'EU10019371': 1, '경남신문': 1, 'rcode': 1, 'news': 1, 'nsd14592836': 1, '연령': 1, '자동완성을': 1, 'ad': 5, '1': 34, '활용': 1, '시작페이지로': 1, '969': 2, 'ct3': 35, '성적추이': 1, 'Forgot': 1, '채널에이': 1, '1201': 12, '인사이트': 1, '902': 2, '미디어오늘': 2, '자세히보기': 1, 'sid1': 1, '사이트로': 1, '제주도민일보': 1, '06': 6, '김택진': 2, 'load': 1, 'nsd113150397': 1, 'BUSINESS': 4, 'API': 1, '넥스트데일리': 1, '네이버페이': 1, 'nmainJS': 3, '0406': 2, '921': 2, 'singleDomAdUrl': 19, 'ti': 1, '지식iN': 1, '포브스코리아': 1, '920': 2, '활성화되었습니다': 1, '저장됩니다': 1, 'nsd172755139': 2, '1000104': 1, '047': 3, 'ThemecastNavi': 1, '커넥트재단': 1, '사이판': 1, '붕괴': 1, '설정에서': 1, '지지통신': 2, 'clearActiveView': 1, '0118': 1, '반드시': 1, 'msg': 1, 'nsd172538465': 1, 'nsd13422489': 1, '정책': 2, '536': 2, 'nsd145813557': 2, 'newsStandURL': 1, 'ie': 1, 'nv': 20, '030': 3, '111': 1, '10위': 2, '스포츠경향': 1, 'nsd145718601': 2, 'nsd161618979': 1, '홈에서': 1, '코리아쉬핑가제트': 1, '1000085': 1, 'people': 1, 'nsd154619739': 2, 'multiDomUnit': 19, '331': 2, '디자인정글': 1, '경제': 2, '체류': 1, '서울신문': 2, 'lif': 1, '법리판단': 1, '아주경제': 1, 'JTBC': 2, 'true': 2, 'svt': 1, 'nsd145512265': 1, '16': 8, '143': 2, 'nsd173348251': 1, 'bok': 1, 'Panel': 1, '김경수에게': 1, '코드': 2, 'sci': 1, '387': 2, 'net': 262, '1000107': 1, '386': 2, 'userInfoURL': 1, '머니투데이': 2, '해당': 1, '음악': 1, 'beauty': 2, '곳': 1, '모집': 1, 'business': 5, '켜기': 5, 'nsd183628961': 1, 'time': 2, '1127': 2, 'SBS': 2, '조선일보': 2, 'nsd144110729': 1, '울산': 6, '336': 2, 'ct4': 17, '칸을': 1, 'JOB': 5, '급상승': 4, '열세의': 1, 'src': 1, 'scroll': 4, '내PC': 1, '1000084': 1, '20': 2, '헬스조선': 1, 'nsd172911723': 1, 'nsd153432228': 2, 'indexOf': 1, '카테고리': 1, 'SU10200': 1, 'nsd161315555': 1, '디자인': 2, '한겨레21': 1, '977': 2, 'nsd164352456': 1, 'WEDDING': 3, '경인일보': 1, '승리했나': 1, '무상급식': 1, 'OFF': 1, '팬카페': 1, '355': 2, 'TBC대구방송': 1, '헬로디디': 1, '만에': 1, 'conversation': 1, 'success': 1, 'adposId': 19, '344': 2, 'nsd162759461': 1, 'nsd16174237': 1, '내': 8, '숙명여고': 1, '스몰비즈니스': 1, '0611': 1, 'SHOW': 3, 'nsd143511509': 1, '아이뉴스24': 2, 'dom': 46, '0316': 2, '021': 3, 'nsd113635611': 1, '디플로마티크': 1, 'targetEl': 1, '311': 2, '20181029160557': 1, 'fod': 1, '시장에': 1, 'SU10199': 1, 'newspaper': 1, 'libs': 3, '로봇': 2, '대구': 6, '약관': 1, 'nsd173430698': 1, '뉴스엔': 1, '약사공론': 1, 'orientation': 2, '랩스': 1, '0626': 3, '신서유기6': 2, '338': 2, 'sports': 2, 'SU10261': 1, '쏘아': 1, '거래액': 1, 'var': 22, '이데일리': 2, '기온': 2, 'mobilenetwork': 1, 'nsd173223533': 2, '세계일보': 2, 'nsd172712628': 1, '31': 1, '브릿지경제': 1, 'nsd145011543': 1, '미주중앙일보': 1, 'movie': 4, 'CHINA': 3, '티브이데일리': 1, 'tveta': 3, '매일노동뉴스': 1, 'Biz': 3, '페이지': 2, '3DJOB': 1, 'img': 258, 'KADIZ': 1, 'nsd143555345': 1, 'NEW': 1, '그래프': 20, '만들지': 1, '904': 3, 'SU10263': 1, 'nsd154539705': 1, '050': 2, '26da': 5, '언론사': 5, '인천일보': 1, '영화': 5, '살인': 1, 'Sign': 3, 'headlineList': 1, 'nsd145450220': 1, '333': 2, '사실상': 1, '없어야': 1, '422': 3, 'eid': 1, '회계': 1, '발판': 1, '메트로신문': 1, '인간을': 1, 'nsd162058391': 1, '도전하라': 1, '오늘': 1, '신소재': 1, '초청': 2, '109': 3, '백마고지': 1, '주제': 9, 'ssl': 3, 'rel': 19, 'nsd103519292': 2, 'farm': 2, '70': 1, '916': 2, 'nsd173430905': 1, '맞춰': 1, '백과사전': 1, '매일경제': 2, 'loadJS': 1, '구독': 19, '03': 3, 'World': 2, '345': 2, '만화': 1, 'FINANCE': 3, '기능이': 4, '완료': 1, '동영상': 1, '카페': 2, '083': 2, '개인정보처리방침': 1, 'nsd162631114': 1, '없습니다': 3, '웹툰': 3, '가져오시겠습니까': 1, '914': 2, '대전일보': 1, '0913': 1, '334': 2, '한국건강가정진흥원': 1, '354': 2, 'Partners': 1, 'SCHOOL': 3, 'PageRefresh': 1, '948': 2, 'living': 2, '보호를': 1, 'RealtimeKeyword': 1, 'ANIMAL': 3, 'livinghome': 2, '08': 3, '늦은': 1, '관심': 4, '076': 3, '지워주세요': 1, '자동차': 3, 'ct5': 8, 'nsd101815434': 1, 'ServiceNavi': 1, '087': 2, '983': 2, '웅진': 2, '20170921': 1, '서울': 1, '차질': 1, '이슈앤트렌드': 1, '1207': 1, '대전': 5, 'nsd93333581': 1, 'assets': 3, '검색어로': 1, 'nsd124328796': 1, '알림': 1, 'mrf': 1, '보물창고': 1, '대한': 1, 'nsd111954432': 1, '충남': 5, 'nsd143938201': 1, '㈜인터비즈': 1, '엑스포츠뉴스': 1, 'study': 1, '1004': 1, 'ON': 2, '스포츠서울': 2, '기기': 1, '14': 6, '선택': 1, 'MOVIE': 3, 'typeof': 3, '이코노미스트': 1, 'ittech': 2, '일간스포츠': 2, 'nsd103415937': 1, '스포츠': 5, 'nsd14372435': 2, '영어사전': 1, '082': 2, 'do': 1, 'SPORTS': 1, 'nsd92617272': 1, 'TRAVEL': 3, '032': 3, '카디즈': 2, '1000105': 1, '50명': 1, '마지막': 1, '온라인': 1, '539': 2, '금융': 2, '한국일보': 2, 'unit': 19, '0917': 1, '펼쳐지는': 1, '푸드': 2, '301': 2, '940': 2, '2017': 228, '사립초': 1, 'if': 9, '366': 3, '중도일보': 1, '908': 2, '016': 3, 'link': 1, '전남': 3, '938': 2, '인물': 1, '개인정보': 1, 'YTN': 2, '韓': 1, 'fxshow': 19, '337': 2, 'nsd161518383': 1, 'nsd175350622': 2, 'tec': 1, '뉴스컬처': 1, '529': 2, '빈': 1, 'Creators': 1, 'nsd153251814': 1, 'nsd14224593': 1, 'nsd113617499': 1, 'date': 5, '15': 7, 'adMap': 29, '057': 3, '자동완성검색어': 1, '만들었을뿐인데': 1, '477': 2, 'nclick': 29, 'EBN': 1, '한겨레': 2, '만들어': 1, 'music': 1, '2021년까지': 1, '지그재그': 1, '1000128': 1, '코웨이': 2, '사용자': 1, '945': 2, 'jindoAll': 1, 'BEAUTY': 3, 'mov': 1, 'nsd134325318': 1, '1205': 1, 'OSEN': 2, 'travel': 4, '패션': 1, '1000103': 1, '추가하시려면': 1, '029': 3, 'spo': 1, 'Util': 2, '기준': 1, '레스토랑': 1, 'nsd143628241': 1, 'activeViews': 7, '드림캐스트': 1, '10': 17, '설정': 3, '추가': 1, '전체선택': 1, 'p': 25, '공범의혹에': 1, 'Agent': 2, '7': 6, '지식인': 1, '도': 1, 'nsd153955864': 2, '시사저널이코노미': 1, 'MK스포츠': 1, '988': 2, 'N': 516, '396': 2, 'header': 1, '전문지': 1, 'nsd145738195': 2, '증시': 1, 'acEndDate': 1, 'MY': 1, 'show': 2, '후보자명에': 1, '3DSU10199': 1, 'nsd1413096': 1, 'nsd19842442': 1, '913': 2, '광주일보': 1, 'or': 1, 'nsd14583498': 1, '검색': 2, 'EBS': 1, '스타뉴스': 1, '447': 2, '레알마드리드': 2, '120': 2, 'nsd144433908': 1, '일요시사': 1, '만들어줘': 1, 'code': 104, '20180322': 1, '안내': 3, '코리아헤럴드': 2, '024': 2, 'fin': 1, 'nsd145346617': 2, 'nsd161550299': 1, '중앙데일리': 2, '한국경제TV': 2, '20170622': 1, 'finance': 3, 'Log': 1, '967': 2, 'SU10205': 1, '위키트리': 1, '필요': 1, 'culture': 1, 'money': 1, '끝나': 1, 'nsd172654646': 1, 'nsd95428551': 1, '3DSU10204': 1, '테크': 3, '레스토랑은': 1, '매일': 2, 'nsd145630550': 1, '부동산': 1, '경찰': 1, '때는': 4, '971': 2, '더스쿠프': 1, 'nsd145431309': 1, 'false': 4, '디지털데일리': 1, '해피빈': 1, '스포티비뉴스': 1, '펫': 1, '사이트': 2, 'cookie': 1, '받는': 1, '데일리NK': 1, '사전': 2, '법률신문': 1, '위하여': 1, '개': 1, 'null': 293, 'nsd162354371': 1, '성장사': 1, '대체하기': 1, '바로': 2, 'menu': 19, '고교': 1, 'nsd153357809': 1, 'LazyLoading': 1, 'bty': 1, '003': 3, 'nsd162528724': 2, 'nsd151929775': 2, '044': 3, '924': 2, 'KBC광주방송': 1, 'http': 16, 'nsd16244628': 1, '22개월여': 1, 'Newsstand': 1, '946': 2, 'singleDom': 19, '경상일보': 1, '국민일보': 2, 'nsd17338859': 2, 'Y': 259, '국민': 1, 'nsd173237747': 1, '투명하게': 1, '설정한': 3, 'MBC': 2, 'length': 1, 'isLogin': 1, '972': 2, '제휴제안': 1, 'Timesquare': 1, 'GAMEAPP': 1, '인재채용': 1, 'div': 1, '저장할': 1, 'SU10249': 1, 'tvc': 1, '최근검색어': 2, '독서신문': 1, 'shopping': 1, '361': 2, 'childMenu': 19, '011': 3, 'image7': 1, '비결은': 1, '312': 2, '991': 2, 'SU10207': 1, '채널예스': 1, '추가하면': 1, 'MUSIC': 1, '이동': 3, '1000100': 1, 'newsstand': 259, '선택하여': 1, 'height': 1, '베리타스알파': 1, 'nsd145657590': 1, '통하는': 1, '애경그룹': 1, 'sid2': 1, '388': 2, '기록': 3, '922': 2, '1209': 3, 'intend': 1, '조이뉴스24': 1, 'etc': 7, '시간대와': 1, '스티로폼': 1, '3': 2, 'adDivId': 1, '회차': 1, 'initPage': 2, '국군': 1, 'after': 2, '트래킹': 1, '충청투데이': 1, 'nsd1045519': 1, '프로젝트': 2, '028': 3, '933': 2, 'nsd19245981': 2, '이탈': 1, '에': 1, 'ct7': 49, '여객기': 1, '시사위크': 1, 'nsd201637238': 1, '117': 3, 'LAW': 3, 'nsd154219877': 2, 'log': 2, '964': 2, '17': 7, 'WITH': 1, 'nsd172519405': 1, 'nsd173715121': 1, '전체보기': 1, '한국대학신문': 1, '영남일보': 1, '416': 2, 'enews24': 1, 'nsd173618176': 1, '0807': 2, 'PC에서는': 1, '효성': 2, 'css': 29, 'ct6': 31, '20170831': 1, 'wed': 1, '리빙': 2, 'v3': 1, '매일신문': 1, 'IT조선': 1, '소각할': 1, '자주': 1, 'nsd95610984': 1, 'eltts': 1, '증권': 2, 'DESIGN': 3, '착수하다': 1, '검색어저장': 6, '081': 3, '917': 2, 'nsd162659528': 2, 'nsd13574834': 1, '3DTRAVEL': 1, 'nsd172855569': 2, 'nsd183553864': 2, 'nsd143827635': 1, 'adw': 1, '3DSU10198': 1, '123': 2, 'nsd154040656': 1, 'callback': 3, 'nbp': 2, '다시': 4, '2Ffxshow': 5, '문대통령': 1, 'pub': 1, 'chn': 1, '974': 2, '092': 3, '310': 2, 'F': 2, 'nsd141715196': 1, '전투기': 1, '멍게처럼': 1, 'c': 1, '013': 2, '닫기': 3, '1000124': 1, '용어사전': 1, '후': 2, 'lcs': 1, '고객센터': 1, 'nsd143742681': 1, 'AD': 1, '인근': 1, '최대': 1, '매경이코노미': 1, '389': 2, 'return': 1, 'da': 37, '항공사': 1, 'nsd162822857': 1, '초이스경제': 1, '한글': 1, 'pm': 1, 'nsd173446621': 1, '부인': 1, '전문가': 2, '관심주제로': 1, 'nsd172354656': 1, 'YTN사이언스': 1, '주제별캐스트': 1, '391': 2, '확대': 1, '135': 2, '남녀별': 1, '파트너': 2, '9': 6, 'nsd173124306': 2, '있습니다': 5, 'nsd154151666': 1, '944': 2, '1214': 2, '038': 3, 'scl': 1, 'nsd14324918': 1, '356': 2, 'nsd14505572': 1, 'com': 26, '955': 2, '008': 3, '자동완성': 17, 'nsd17341942': 2, 'nsd154314463': 2, '시연': 1, 'SU10260': 1, '서비스': 1, '줄인': 1, '공지사항': 1, '쿠키뉴스': 1, 'nsd113655834': 1, 'nsd144732945': 1, 'veta': 23, '생각한대로': 1, '비즈니스포스트': 1, 'nsd173057968': 1, '스포츠월드': 1, 'SU10255': 1, '376': 3, 'nsd154334776': 1, 'nsd173559874': 2, 'nsd172736175': 2, '2018': 31, '05': 7, 'brs': 1, 'nsd161647719': 1, '경기일보': 1, '경영': 1, '014': 3, 'static': 258, '213': 2, 'tb': 20, 'parseInt': 1, 'DataLab': 1, 'Password': 1, 'nsd162931439': 1, '000선': 1, 'Nimp': 1, 'svr': 2, 'nsd161847464': 1, 'version': 1, 'adScriptList': 1, '전기신문': 1, '390': 2, '펼치기': 5, 'NEWS': 1, 'in': 4, 'LIVINGHOME': 3, '열기': 1, '지디넷코리아': 2, '한라일보': 1, '네이버TV': 1, 'nsd14463367': 2, '기호일보': 1, '앞의': 1, 'lifetools': 1, '유혜주': 2, 'nsd145214517': 2, 'D2': 1, '다이소': 1, '문화일보': 2, '1121': 1, '제공합니다': 1, '법률': 2, 'Corp': 1, 'nsd173043431': 1, '카페글': 1, '아시아경제': 2, 'TV조선': 1, '전북일보': 1, 'invalid': 2, 'ⓒ': 1, '로스트아크': 2, 'nsd113515807': 1, 'nsd144543120': 1, 'nsd14479875': 2, '335': 2, '부산': 3, '패션뷰티': 2, '소비자가만드는신문': 1, '308': 3, '제주': 3, 'www': 1, 'jindo': 1, 'nsd172615885': 2, 'nsd17263596': 2, '2': 3, '29': 2, '905': 2, '르몽드': 1, '006': 3, '이미지': 1, '903': 2, 'nsd153923387': 1, '브라우저': 1, '℃': 2, 'nsd16254923': 1, 'V900': 2, '바르셀로나': 2, '962': 2, '339': 2, 'nsd144457151': 1, '대부분': 1, '언론사가': 1, '과학동아': 1, '낚시춘추': 1, '990': 2, '청소년보호정책': 1, '1016': 2, 'SU10253': 1, 'muc': 1, 'animal': 2, 'main': 44, '0904': 1, '주세요': 1, 'nsd192546763': 1, '중단됩니다': 1, '144': 2, 'nsd14392079': 1, '지도회사': 1, '953': 2, '게임': 3, 'MY언론사를': 1, '1위': 1, '의외로': 1, '330': 3, '942': 2, '277': 3, 'nsd14341394': 1, 'SU10262': 1, '전효성': 2, '가능합니다': 2, '비즈니스': 6, 'nsd145150694': 1, 'min': 6, 'SU10210': 1, 'body': 1, 'naver': 47, '33': 1, '909': 2, 'nsd154119884': 1, 'aPanelListAll': 3, '꽃': 2, '976': 2, '지방선거': 1, '프레시안': 2, '스턴트': 1, 'nsd14392544': 1, '데일리한국': 1, '저장해': 1, 'userinfo': 1, '연애': 2, '015': 3, 'wedding': 2, '1000': 1, '6': 6, '오늘의': 1, 'shopbox': 1, 'MOMKIDS': 3, '신고': 4, '한국경제': 2, 'aOrderedPanel': 1, '건설경제신문': 1, '충청일보': 1, '시작한': 1, '13': 6, 'SU10250': 1, 'JEagleEyeClient': 2, '12': 7, 'id': 33, 'Username': 1, '저장': 2, '949': 2, '364': 2, 'local': 258, 'mismatch': 4, '몰라서': 1, 'evtcd': 1, '을': 4, '강원일보': 1, '000': 3, 'function': 7, '경영혁신': 2, '및': 1, '935': 2, '일요신문': 1, '보육시설': 1, '연합뉴스TV': 2, '월간중앙': 1, '전투': 1, '어디까지': 1, '스쿨잼': 2, 'IT': 1, 'school': 4, 'gameapp': 1, '19': 2, '데일리안': 2, '139': 3, 'OBS': 1, 'bboom': 1, 'nsd16842870': 1, 'bFlick': 1, '의미로': 1, '인도네시아': 2, '314': 3, '1996': 1, '연합인포맥스': 1, '사용하고': 1, '투데이신문': 1, '조선비즈': 2, '26tb': 5, '073': 3, '140': 2, '한국금융신문': 1, 'TV리포트': 1, '214': 3, 'ITTECH': 3, '레이어': 1, '사용': 2, '월': 2, '005': 3, 'ct8': 35, '삼아': 1, '978': 2, 'else': 1, 'navertop': 1, '생활도구': 1, '관심사에': 2, '새로운': 3, '개발자센터': 1, '노출이': 1, 'PC방': 1, 'adList': 1, 'activeViewTime': 1, '레스터시티': 2, 'nsd113546163': 1, '이웃집과학자': 1, 'SU10252': 1, '18': 2, '국정감사': 2, '네이버모바일': 1, '지역': 2, '동일한': 1, '스포츠동아': 2, 'match': 2, '사이언스타임즈': 1, '디지털타임스': 2, '고급': 1, 'ct2': 90, '1221': 2, '입력기': 1, '1000088': 1, '하락': 2, '1000112': 1, 'gam': 1, 'nsd16432873': 2, '울산매일': 1, '4': 2, '어떻게': 2, '스타트업은': 1, '979': 2, '100억': 1, 'eu': 1, '까지': 1, '전북': 2, 'design': 2, 'mom': 1, 'VIDEO': 1, '915': 2, '인벤': 1, 'BBS': 1, '영자지': 1, '7743426': 1, '327': 3, 'nsd154426359': 2, '중앙일보': 2, 'name': 365, 'change': 2, '약소국': 1, 'isSupportedFlicking': 2, '켤': 4, '1000089': 1, '스토어': 1, '3DSU10210': 1, 'nsd183033195': 1, '日': 1, '0525': 1, '무등일보': 1, 'nsd172837200': 2, '변신은': 1, '설정된': 1, '215': 3, 'nsd145032565': 2, 'infoList': 19, '00': 28, 'nsd103843372': 1, 'nsd114019464': 1, 'Connect': 1, '018': 3, 'window': 5, '시황뉴스': 1, '다음': 2, 'nsd154522345': 1, '공연전시': 2, '특별시민': 2, '3스타': 1, '검색어': 10, 'nsd161818802': 1, '성장했나': 1, '끄기': 7, '관심주제': 1, '108': 2, '는': 1, '939': 2, 'nsd105113618': 1, 'x': 6, '989': 2, 'video': 1, '자카르타': 1, 'tarEl': 2, '경북일보': 1, 'LIVING': 3, 'nsd144152433': 2, '296': 2, '결혼': 2, 'target': 8, '충북': 5, '다운로드': 1, 'nsd162046351': 1, '않으려면': 1, 'nsd17115481': 1, '대신': 1, '글로벌': 1, 'isNewPanel': 1, '선착순': 1, 'adPath': 5, 'nsd173111263': 2, 'pc': 6, 'sAdList': 1, '감성충전': 2, '꿈': 1, '243': 2, 'nsd143612100': 1, '내역이': 1, 'openDate': 29, '3Dp': 5, 'SU10251': 1, '980': 2, '692363e65bd0c9a47892c119693228e6': 1, '075': 2, '씨네21': 1, '기사들을': 1, '혐의': 1, '941': 2, 'CARGAME': 3, '조사': 1, '동물공감': 2, '영어를': 1, '지도': 2, '055': 3, '122': 2, '독자노선으로': 1, '042': 2, 'navigator': 2, '0424': 195, '180여명': 1, '따라잡기': 1, 'uId': 11, '뉴스': 4, '에이블뉴스': 1, '더팩트': 1, 'nsd143454437': 1, 'tbs교통방송': 1, '세리아': 1, 'nsd143844997': 1, 'nsd143958887': 2, '0719': 2, '138': 2, '326': 3, '등장': 1, '뒤의': 1, '해': 1, '무주공산': 1, '일본어사전': 1, '블로터': 2, '968': 2, 'china': 2, '코메디닷컴': 1, '카페명': 1, 'core': 3, 'url': 3, 'nsd1484475': 2, '채우시오': 1, 'case': 1, '965': 2, 'nsd173540697': 1, 'offsetHeight': 1, '비누공장': 1, '투표종료시까지': 1, 'up': 259, '물': 1, '철강금속신문': 1, 'nsd154238686': 1, '1000106': 1, '01': 5, 'nsd143645415': 1, '동아일보': 2, 'nsd154117': 1, '웹문서': 1, '진입후': 1, '를': 3, 'FARM': 5, 'CULTURE': 1, '검색해': 1, '없는': 2, '머니에스': 1, '332': 2, '방송': 1, '크리에이터': 1, '날씨': 1, '네이버뉴스': 1, '버섯': 2, '현재': 1, 'nsd104554287': 1, '中군용기': 1, 'nsd151840663': 2, 'CORP': 3, 'nsd14405515': 1, '363': 2, '930': 3, '오픈': 1, '광고': 1, 'calp': 20, '바로가기': 6, 'nsd1521496': 1, 'CenterBanner': 1, 'YONHAPNEWS': 1, 'cargame': 2, '확인': 3, 'nsd14449981': 2, '보실': 1, '데이터랩': 20, '학교': 1, 'positionIndex': 19, 'push': 1, 'newspaperURL': 1, 'nsd17133978': 1, 'nsd143531816': 1, '975': 2, '노컷뉴스': 2, '주요': 1, '스포탈코리아': 2, 'ActiveView': 2, '엘르': 1, '과학': 2, 'nsd8401364': 1, 'nmain': 1, '보기': 21, '926': 2, '리뷰어': 2, '963': 2, '인민망': 1, '3DSU10200': 1, '텐아시아': 1, '회사소개': 1, 'sow': 1, 'nsd162516824': 2, '이미지형': 1, 'e': 3, 'law': 3, 'M이코노미뉴스': 1, '해상': 1, '한경비즈니스': 1, '0126': 1, 'MBN': 2, '아이디어와': 1, '934': 2, '국민세금': 1, 'nsd162739461': 1, '20180330': 3, '댓글조작': 1, 'science': 1, '중부매일신문': 1, '지역업체': 1, '목록으로': 2, '932': 2, '초기화': 1, 'nsd143721586': 1, 'nsd162718792': 2, 'txt': 7, 'TheAsiaN': 1, '분석의뢰': 1, '241': 3, '947': 2, '15K': 1, '통신': 1, '가져오기': 2, 'nsd144037935': 2, '모바일': 4, '385': 2, '광주드림': 1, '뮤직': 3, '056': 3, '052': 3, 'setEnable': 2, '0312': 1, '계십니다': 1, '089': 2, 'nsd111929299': 1, '440': 2, 'nsd164431529': 1, '수': 2, 'castbox': 1, 'nhn': 1, '국방일보': 1, '검색어는': 1, '뇌과학과': 1, '선택됨': 1, '부산일보': 1, '368': 3, '마이데일리': 2, 'Tech': 1, 'des': 1, 'nsd201556421': 1, '한국': 1, '960': 2, '클릭하세요': 4, '점심식사': 1, '한자사전': 1, 'corp': 12, '핵심': 1, 'health': 1, '부스트코스': 2, '의뢰': 1, '보안뉴스': 1, '뇌': 1, '함께N': 2, 'cate': 258, '해지': 18, '전': 1, '시작하다': 1, '솔루션회사로': 1, 'query': 1, '취소': 3, '1000090': 1, '체험': 1, '비즈니스워치': 1, '해라': 1, 'orientationChangeTime': 1, '987': 2, '스포츠투데이': 1, 'nsd17324940': 2, 'ev': 5, '1008': 1, '더보기': 1, '1106': 1, '바로이동': 1, '20170824': 1, '923': 2, '대구일보': 1, '조세일보': 1, '키뉴스': 1, 'nsd173542219': 1, '일을': 1, '꺼져': 3, '삭제': 4, 'Developers': 1, '검색어를': 2, '없어서': 1, '022': 3, '불편해서': 1, 'nsd1449112': 1, '950': 2, '여행': 2, 'SBS연예스포츠': 1, '주간조선': 1, 'nsd1626960': 1, 'console': 3, '요정에서': 1, '긍정부정검색': 1, '강원': 2, 'weather': 1, 'NAVER': 3, 'ct1': 1, '조선에서왓츠롱': 1, '비즈한국': 1, '책': 2, '088': 2, '쇼핑': 2, '올린': 1, '0226': 1, 'nsd154558680': 1, 'ani': 1, '공구회사는': 1, 'nsd16256807': 1, '15131360': 1, 'nsd1438916': 2, '전자신문': 2}\n"
     ]
    }
   ],
   "source": [
    "code_removed3 = remove_code(source3)\n",
    "tag_removed3 = remove_tag(code_removed3)\n",
    "all_removed3 = remove_punctuation(tag_removed3)\n",
    "\n",
    "all_removed3 = all_removed3.replace(\"\\n\",\" \")\n",
    "all_removed3 = all_removed3.replace(\"\\t\",\" \")\n",
    "\n",
    "final_source_list3 = all_removed3.split(\" \")\n",
    "final_source3 = [x for x in final_source_list3 if x]\n",
    "\n",
    "dic_source3 = {}\n",
    "set_source3=set(final_source3)\n",
    "list_source3=list(set_source3)\n",
    "k = 0\n",
    "for i in range(0, len(list_source3)):\n",
    "    for j in range(0, len(final_source3)):\n",
    "        if list_source3[i] == final_source3[j]:\n",
    "            k += 1\n",
    "    dic_source3[list_source3[i]] = k\n",
    "    k = 0\n",
    "    \n",
    "print(dic_source3)"
   ]
  },
  {
   "cell_type": "code",
   "execution_count": 12,
   "metadata": {
    "scrolled": true
   },
   "outputs": [
    {
     "name": "stdout",
     "output_type": "stream",
     "text": [
      "{'일자리안정자금': 1, 'new': 9, 'live': 8, 'good': 1, '실시간': 4, 'red': 1, '충격적인': 1, '86aaff': 1, '179px': 1, '92px': 3, 'enter': 1, 'cast9': 1, 'photoclip': 1, 'h4': 1, '전체': 5, 'general': 10, 'radius': 5, '42px': 4, 'TV': 2, 'all': 7, '태양이를': 1, 'opacity': 11, 'w12': 1, 'slot': 34, '176px': 3, 'btype': 6, 'style': 2, '설치': 1, '내고': 1, '폭로': 1, '따라가는': 1, '제안': 1, '곰': 1, 'ssohelp': 1, '사람마다': 1, '14도': 4, 'kakaostory': 6, '33px': 12, '경상남도': 1, 'wtrank': 19, 'inner': 23, 'set': 2, '팀': 1, '888': 46, '오늘은': 2, 'realestate': 14, '777': 1, '0089ff': 4, 'service': 40, 'Kakao': 1, 'relative': 75, 'a': 6, '좌타자': 1, 'vs': 1, 'special2': 1, 'panel': 52, '신규업데이트': 1, '21px': 16, '하는': 1, '수사': 1, '슈퍼맨이': 1, '국수': 1, '26': 1, 'gulim': 4, '41': 1, '86px': 4, 'sms': 2, '뽐뿌': 1, 'break': 15, '44': 1, '118px': 2, '37': 2, 'detail': 4, '시즌3': 1, '쥐': 1, 'align': 65, '201px': 1, '3B35CE': 1, 'cast7': 1, 'rank6': 2, '웹접근성안내': 1, 'sch': 1, 'type': 25, '629': 1, '이전': 7, '결과': 1, '28': 1, '180807': 4, '이게': 2, '프라이스': 1, 'worst': 1, 'num7': 3, '96px': 5, '417px': 1, '199px': 1, '21': 2, 'transparent': 22, 'cast5': 1, '여주대학교': 5, '미디어': 3, 'WS': 1, 'offGuide': 1, 'today': 137, 'my': 29, 'ime': 1, 'y': 3, '맑은': 1, '153px': 1, 'Daum': 1, 'banner': 5, 'thumbnail3': 9, '자세히': 1, '43': 3, 'serif': 41, '취재진': 1, 'bold': 18, '345px': 3, '208px': 2, '38px': 4, '주말': 1, 'fecc3d': 1, 'ease': 15, '1801023': 4, '195px': 3, 'rank2': 2, 'subject': 6, 'before': 7, '마련한': 1, 'display': 149, '11': 6, 'star': 3, 'suggest': 64, 'sans': 41, 'comp': 1, 'issue': 26, 'family': 41, '연예': 2, '837EF3': 2, '115px': 1, '해안': 1, '관련': 1, 'view': 100, '193px': 1, 'mini': 18, 'blue': 1, '원장': 1, '돈': 1, '강한나': 6, 'num5': 4, '180px': 15, 'brunch': 7, 'reserved': 1, '9999px': 30, '76px': 1, '아고라': 1, 'index': 44, '180423': 2, '107px': 2, 'span': 1, '어학사전': 1, 'select': 4, 'th': 3, '엔터': 1, 'label': 6, 'c9c9c9': 4, '빵': 1, 'league': 1, 'grade': 2, '명장면': 2, 'wm16': 4, 'baseBox': 6, 'dd': 4, '코스닥': 2, '295px': 3, '13도': 3, '얼마나': 1, 'mac': 175, '141px': 1, 'on': 87, '다음앱이': 1, '555': 13, '감자전': 1, 'tmp': 7, '383px': 1, '프리킥': 1, '1nd': 1, 'ts': 5, 'num3': 6, '현대중공업': 5, '이재명': 2, 'mycont': 3, '165px': 2, '블로그': 5, '274px': 3, '0': 668, '49px': 4, '495px': 2, '누가': 1, '50': 7, '501px': 1, '때': 1, '할': 1, '346px': 12, 'thumb': 88, 'sector': 21, 'fbfbfc': 4, '126px': 1, '접근성': 1, '본': 1, 'storyteller': 2, 'e52d38': 2, '408px': 1, '222': 16, '목록': 2, 'map': 1, 'dust': 3, 'tahoma': 12, 'topic': 25, '5': 10, '275px': 2, 'page': 39, 'wm11': 2, '23px': 13, '코까지': 1, 'extra': 2, '우주서': 1, '구름많음': 5, 'position': 585, '16K': 1, 'initial': 5, 'logout': 1, '05em': 1, '신경전': 1, 'shift2': 1, 'caption': 1, 'ms': 13, 'footer': 9, 'guide': 1, 'bad': 1, '380px': 2, 'wm05': 4, 'bloc': 52, 'lotto': 2, 'focus': 1, 'deco': 63, '119px': 1, 'prev': 4, 'myblog': 1, '72px': 3, '공개': 1, 'f64d61': 1, 'and': 8, 'z': 35, '34px': 19, 'medal': 31, '144dpi': 2, '대구시': 1, 'screen': 10, 'e30000': 3, '분양가': 1, 'suggestBox': 99, '정미연': 1, '1177px': 1, '코스피': 8, '13px': 64, '146px': 6, '57': 2, 'ws': 5, '거면': 1, '램파드': 1, 'fbfbfb': 8, '다가갔더니': 1, '8': 4, 'max': 25, 'svcbnr': 3, '그': 2, '83px': 2, '34': 1, 'middot': 2, '보게': 1, '31px': 6, 'png': 64, '통합': 2, 'translate3d': 1, 'num20': 1, '포효하는': 1, '같이가치': 3, '넋': 1, 'svc': 5, '하라고': 1, '321px': 9, '16px': 71, 'degree': 4, '130px': 15, '17도': 2, '문을': 1, '210px': 11, '추락': 1, 'transform': 56, '연재': 1, 'utf': 1, 'wing': 8, 'direction': 1, '메일': 2, 'address': 1, 'hover': 52, 'num': 43, 'label3': 4, 'channel': 41, '250px': 5, 'news': 27, 'ad': 1, '1': 34, '77px': 1, '3조': 1, '충청북도': 1, '화사한': 1, 'o': 12, '시작페이지로': 1, '펀딩': 1, '영업이익': 1, 'blue2': 1, 'tab': 16, '흐림': 3, '25': 1, 'wm09': 2, '164px': 2, 'basis': 11, 'offSuggest': 1, 'temper': 19, '브런치': 6, '김부선': 1, '쓰러진': 1, '14px': 58, '800px': 3, '한글입력기': 1, 'celsius': 2, '3일': 1, 'filter': 5, 'daumSuggestWrap': 2, 'wm12': 2, 'color': 221, 'spacing': 29, '진정한': 1, 'item': 132, '김주혁을': 1, 'station': 2, 'GradientType': 1, '166px': 15, '남편의': 1, '나온': 1, '붕괴': 1, 'multi': 8, 'inline': 40, 'fff': 43, '140px': 13, 'ellipsis': 30, '멕시코': 1, 'base': 7, 'msg': 1, 'right': 159, 'cEtc': 3, 'cursor': 11, 'g2': 1, '자는': 1, '주식': 5, 'open': 4, '10위': 5, '2nd': 1, '670px': 1, 'stay': 1, '도탁스': 1, '쓴': 1, '99': 1, '251px': 1, '구조된': 1, 'homecooking': 6, 'point': 2, 'arr': 2, 'asian': 4, 'middle': 3, '277px': 2, 'layer1': 1, '입': 1, '39px': 4, '353px': 1, '162px': 1, '138px': 5, '242px': 2, '16': 4, '신규진입': 4, '27px': 7, '47px': 3, '170px': 10, '끼': 1, '7A63FF': 1, '101010': 1, 'sso': 6, 'net': 68, '보고': 1, '54': 2, 'rank5': 2, '최고의': 1, '골며': 1, '골': 1, 'standard': 3, '꼭': 1, '120px': 30, 'Malgun': 1, '새끼': 2, '계약위반': 1, '288px': 1, 'business': 6, 'best': 21, '길찾기': 1, '투신': 1, '상세보기': 1, 'time': 6, 'HelveticaNeue': 3, '306px': 1, 'issue2': 1, '222px': 1, '108px': 7, '264px': 1, '197px': 2, '900px': 2, '대': 1, '잠가야': 1, 'storyfunding': 6, '경상북도': 2, 'm': 2, '20': 3, '1탭': 1, 'SD': 6, '21도': 1, 'Men': 1, '198px': 1, '172px': 1, 'wm15': 2, '69px': 1, '굴림': 4, 'moz': 12, '만에': 2, '52px': 2, '500px': 4, '1440px': 1, 'w18': 1, 'infobnr': 17, 'resolution': 4, 'outline': 2, 'tf': 4, 'DOTAX': 1, 'slide': 70, 'daum': 47, '환율': 1, 'game': 8, '223px': 1, '도망가지': 1, '63px': 2, '편성해놓고': 1, '792px': 1, 'mode': 1, '260px': 14, 'cover': 2, '171229': 6, '긴급출격': 1, 'feature': 1, 'button': 5, '390px': 1, 'mobile': 7, '혜리': 1, 'flow': 4, '170724': 3, '04기준': 1, 'gallery': 10, '약관': 1, 'spe': 13, 'ol': 2, '11도': 3, '12px': 77, 'sports': 15, 'notice': 35, 'var': 1, '147px': 2, 'lang': 1, '카카오': 2, '임종헌': 2, 'ddd': 1, '169px': 1, '94px': 5, 'full2': 1, '31': 2, 'imgspe': 4, 'movie': 6, '313px': 1, 'help': 12, 'img': 54, '父': 1, '381px': 1, '780px': 1, 'KADIZ': 1, 'ranking': 59, 'logo': 1, 'e5e5e5': 1, '또같이': 1, '75px': 4, '주요서비스': 1, 'num40': 1, '1620px': 1, '139px': 4, 'score': 17, 'minus': 3, '비온후갬': 3, 'BBC': 1, 'state': 11, 'rank9': 2, '사자': 2, '2호': 1, '영화': 2, '나눔': 1, '333': 12, '사실상': 1, 'w03': 2, '함께하는': 1, '이슈': 4, 'cast8': 1, '제휴문의': 1, 'li': 59, '15px': 54, 'desc': 19, '424px': 1, '인기': 1, '고래': 1, 'w02': 2, '1260px': 1, '야생동물': 2, '팬미팅': 1, '싫을': 1, 'f4f4f4': 1, 'rel': 8, 'melon': 2, '마주치기': 1, '362px': 3, '댓글논란': 1, 'full': 3, '이벤트': 1, '170628': 2, '베스트': 1, 'start': 6, 'w11': 1, 'by': 3, '157px': 9, '제주자치도': 1, '백과사전': 1, '284px': 2, '주운': 1, '지붕을': 1, 'num8': 3, 'f8f8f8': 1, 'foot': 35, '218px': 1, '사랑꾼': 3, 'pi': 5, '82px': 2, '동영상': 17, 'basic': 13, '카페': 3, 'ltr': 1, 'table': 2, 'btn': 74, '101': 1, 'line': 166, '개인정보처리방침': 1, '3s': 15, '웹툰': 3, 'h1': 1, '코리아': 1, '56px': 7, 'slide2': 1, 'group': 58, 'headline': 2, 'movie2': 6, '검은사막': 1, '진상류': 1, 'wm02': 4, '분양': 1, 'Regular': 1, 'more': 12, 'stxt': 4, 'login': 26, '08': 1, '보는': 2, '480px': 4, 'Neo': 6, '1680px': 1, '655px': 8, '자동차': 3, '1380px': 1, '유튜브': 1, '20px': 86, '되면': 1, 'white': 36, 'wm19': 2, '10시간만에': 1, '웅진': 5, 'text': 134, '700px': 3, 'underline': 15, 'wide': 2, '형제의': 1, '미사일이': 1, 'team': 19, 'steady': 1, '194px': 2, '41px': 4, '보물창고': 1, '인사좀': 1, '25px': 16, 'none': 59, '100px': 30, '머니': 1, 'ecf2f7': 1, 'graph': 20, '부리는': 1, '2일': 1, '홈': 1, '336px': 2, 'arial': 21, '않아': 1, '180808': 2, 'layer': 235, '대체': 1, 'box': 154, 'w19': 1, '14': 5, '우승': 1, 'wm04': 2, 'mid': 2, '운동': 1, '스포츠': 4, '않는': 1, '4위': 5, 'reverseType': 2, '330px': 3, '날씨정보': 1, '밤': 1, '반대하던': 1, '255': 1, '아지트': 1, '62px': 4, '뱀': 1, '100': 53, 'to': 1, '소모하는': 1, 'background': 560, '흡입하는': 1, '720px': 1, '아끼지': 1, '김한길': 1, '개고양이': 1, 'search1': 5, 'cast1': 1, '이유': 1, '93px': 3, '금융': 1, '카카오TV': 3, '한달후': 1, '쿠킹': 1, 'together2': 3, 'unit': 13, '9px': 31, 'chwide': 11, 'label2': 3, '북진': 1, '야구': 1, '2017': 63, '212px': 4, '8위': 5, '조현병': 1, '90px': 16, 'link': 289, 'w04': 1, '김한길최명길': 1, '韓': 1, 'Microsoft': 1, '95px': 2, 'News': 1, 'ranknews': 4, '상승': 16, '캐러밴': 1, '소식': 1, 'appearance': 1, 'wm03': 4, '497px': 2, 'search': 26, 'date': 3, '김현임': 1, '15': 2, 'c8c8c8': 1, 'coll': 3, 'ea570a': 1, '남편': 1, 'music': 30, '3분기': 1, '코웨이': 5, '포토': 5, '사용자': 1, 'helvetica': 7, 'g1': 1, '39': 9, 'arrow': 10, '사나': 1, '가려보자냥': 1, 'w17': 1, 'thumbnail': 8, 'travel': 6, 'plate6': 2, '°C': 20, 'pixel': 4, 'gradient': 2, '대자로': 1, 'events': 1, 'form': 1, '경기도': 1, '터진': 1, 'border': 70, '나와': 1, 'origin': 19, '동물': 1, '관측위성': 1, '사냥개의': 1, '호주': 1, 'cafe': 12, 'f4faff': 1, '10': 9, 'user': 2, '설정': 1, '653px': 2, 'bksp': 1, '118eff': 25, 'vod': 2, '43px': 6, '170328': 6, 'h5': 1, 'p': 1, '1140px': 1, '57px': 4, '60': 2, 'plate5': 2, '쇼핑하우': 1, '22px': 24, '7': 3, '급감': 1, '사람들도': 1, '3nd': 1, '증시': 2, '강아지': 1, '334px': 1, 'show': 1, '46': 1, '54px': 2, 'place': 3, '검색': 8, '12도': 2, '美': 1, 'thumbnail8': 9, '감시': 1, 'code': 2, '안내': 1, 'h2': 1, 'rank1': 1, '211px': 1, '66px': 2, 'line2': 1, 'td': 3, '9662': 2, 'rank10': 2, '30px': 63, '여야': 1, '새단장을': 1, 'runtime': 2, '손님': 1, '맑음': 3, 'webtoon': 7, '1320px': 1, 'dic': 1, 'ssoing': 1, 'endColorstr': 1, '날찌정보': 1, 'teller': 3, 'emph': 2, '7위': 5, '만난': 1, 'money': 6, '온실가스': 1, 'num4': 6, '50px': 9, 'cast2': 1, '된다': 1, '42': 1, '망언논란': 1, 'block': 127, '커뮤니케이션': 1, '382px': 1, '109px': 3, '775px': 1, '부동산': 2, 'f6f6f6': 1, 'float': 127, 'pointer': 12, '자동실행': 1, '1박': 1, '인천시': 2, 'pctop': 69, '40': 2, '36px': 34, '285px': 3, 'wrap': 70, '헉': 1, '해줘': 1, 'bnr': 7, '사전': 2, 'repeat': 43, '대학생들': 1, '광고안내': 1, '도도한': 1, '32px': 9, '209px': 3, '같은': 1, '바로': 2, 'content': 5, 'menu': 5, '97px': 1, 'rank7': 2, 'phototheme': 1, 'wm01': 4, 'dotum': 4, '꿀': 2, '복길이야': 1, 'Medium': 1, 'part': 35, '진화': 1, '84px': 1, 'f2f2f2': 1, '증가탓': 1, 'wm10': 4, '한국타이어': 1, '말라냥': 1, '420px': 1, '2위': 5, '18px': 42, 'absolute': 116, '0s': 5, 'cmain': 1, '840px': 1, '490px': 1, '192px': 1, '故': 1, '정보': 8, '190px': 4, '인재채용': 1, '1200px': 1, '180122': 2, 'event': 14, 'div': 1, '52': 1, '5b6473': 1, 'shopping': 4, '1080px': 3, '32': 3, 'relay': 63, '생활': 1, 'key': 2, 'w15': 1, '434px': 3, 'info': 133, 'charset': 1, 'next': 11, 'kakaotv': 12, '했습니다': 1, 'height': 479, 'mobileweb': 8, '기록': 1, '에어컨서': 1, 'auto': 41, '308px': 1, '265px': 3, '37px': 10, '꼬마야': 1, '3': 3, '19px': 17, '3위': 5, 'rank4': 2, '산에서': 1, '3f4243': 1, '김종국': 1, 'after': 7, '집공개': 1, '러브스토리': 1, 'sub1': 2, 'letter': 29, '폐지': 1, '이탈': 1, '여객기': 1, '88px': 1, '007aff': 2, 'photo': 50, 'dday': 7, '17': 4, '8s': 2, '104px': 2, 'w01': 2, '45px': 16, '아내를': 1, '전체보기': 2, '다저스': 1, 'overflow': 196, '폭풍': 1, '랭킹': 1, 'gate2': 4, '28px': 25, 'story': 26, 'keyboard': 225, 'translateX': 5, '단어장': 1, 'sort': 13, '로드뷰': 1, '꺾고': 1, '원짜리': 1, '85px': 1, '합니다': 1, '36': 1, '243px': 1, '믿기지': 1, 'pet': 6, '178px': 1, 'pre': 1, 'plate': 2, 'prime': 4, 'All': 1, '사랑을': 1, '점': 1, 'red2': 1, 'subtxt': 1, '106px': 4, '600px': 5, '증권': 1, '스토리펀딩': 2, 'shift': 22, '중붕이': 1, '긴글주의': 1, 'duration': 1, '205px': 1, 'word': 20, '196px': 2, '우리집': 1, '유머나라': 1, '김사랑': 1, '680px': 1, '운세': 1, 'legend': 1, '540px': 2, '60px': 54, '돋움': 4, '45': 1, '320px': 2, '35': 1, '반전': 1, '여행맛집': 1, '53px': 3, 'close': 11, '탓': 1, '182px': 3, '24px': 16, 'f6a800': 2, 'F': 2, '전투기': 1, 'zoom': 1, '939px': 1, 'wa': 1, '닫기': 2, 'wm17': 2, '12em': 1, 'wm13': 4, '184px': 1, '고객센터': 1, 'svcall': 2, '481px': 1, '9999': 1, '276px': 1, '315px': 2, '통합대기': 1, '열두시가': 1, 'keep': 6, '멀티미디어': 2, '미소': 1, 'pm': 1, '메뉴': 1, '광주시': 1, '버스정보': 1, 'wm08': 2, '286px': 1, '유익한': 2, '220px': 9, 'margin': 249, '발견했다': 1, '10년간': 1, 'dfn': 1, '9': 3, 'bottom': 77, '쯔위랑': 1, 'movie1': 9, '999em': 1, '0078ff': 1, 'a1a1a1': 1, 'tit': 213, '149px': 1, '70bc4c': 1, '297px': 1, '박명재': 1, '372px': 1, 'font': 212, 'Copyright': 1, '경찰이': 1, 'b': 1, 't1': 63, '직장IN': 1, '이부키': 1, 'live2': 1, 'rights': 1, 'daumWrap': 2, '다음을': 1, 'space': 37, 'strong': 1, 'chbest': 12, '7000만': 1, '서비스': 5, '코끼리에게': 1, '공지사항': 1, 'padding': 202, 'AppleSDGothicNeo': 1, '배설': 1, '떨어지는': 2, 'clear': 11, '몰래': 1, '통제': 1, '새옹지마': 1, 'cast4': 1, 'air': 2, '2018': 1, '05': 1, '159px': 17, 'static': 3, '132px': 1, '정체는': 1, '수입': 1, '별플레이': 1, 'wm06': 4, 'g': 101, 'new2': 1, '27aa1d': 1, 'hidden': 167, 'w06': 2, 'quotes': 1, 'cell': 1, '펼치기': 1, '아꿍이는': 1, '어제보다': 1, '171226': 10, 'num10': 2, '못': 1, 'down': 4, '55px': 1, '534400': 1, 'webkit': 16, '46px': 4, '304px': 1, '646px': 1, '지': 1, 'w08': 1, 'class': 1, 'chdesc': 7, 'Corp': 1, 'num0': 2, '미세먼지': 1, 'ececec': 23, 'wm07': 2, 'adjust': 1, '6px': 32, '186px': 2, '이언주': 6, '438px': 2, 'topicbg': 4, '6위': 5, 'w10': 2, '구조했다': 1, 'delay': 1, '270px': 5, 'myinfo': 1, '특별재판부': 1, 'out': 12, '대기오염': 1, '기억하며': 1, 'dcdcdc': 7, 'startColorstr': 1, '망명': 1, '검색등록': 1, '2': 3, '29': 5, '부산시': 1, '놓고': 1, '이미지': 2, 'vphoto': 9, '26292a': 1, '20도': 1, '어머니': 1, '10000': 1, '2px': 50, 'plate8': 1, '청소년보호정책': 1, '콘서트7080': 1, 'rank8': 2, 'main': 3, '310px': 15, '464px': 1, 'thumbnail7': 9, '30': 1, '133px': 3, '240px': 11, 'mark': 2, 'headbnr': 1, 'ratio': 4, '000선마저': 1, '585d6e': 1, '7px': 33, '끌어당기는': 1, 'weight': 39, '게임': 3, '1위': 5, 'w13': 2, '마중나온': 1, 'support': 6, '507px': 1, '163px': 2, '팁': 1, '최초': 1, '80px': 20, 'image': 37, '전효성': 1, 'top': 351, 'min': 13, 'body': 7, '댕댕': 1, '33': 2, '400px': 7, 'asiangame': 3, 'lst': 15, '8897': 1, '리얼': 2, 'jpg': 2, '맞아': 1, '자다깨서': 1, '44px': 8, 'games': 2, '74px': 2, '없어도': 1, 'plate2': 1, 'head': 30, '6': 6, '59px': 9, '오늘의': 7, 'type2': 27, 'num2': 7, '64px': 2, '361px': 1, '제주도': 1, 'Gothic': 7, '40px': 22, '641px': 1, '629px': 1, '싸움': 1, '13': 4, 'mysvc': 25, '1px': 108, '트와이스': 1, '5dppx': 2, '분장': 1, 'policy': 5, 'common': 5, 'thumbnail2': 3, 'input': 5, '12': 3, '280px': 4, '대전시': 1, '데이터': 1, '1560px': 1, 'local': 1, '문화': 1, 'mail': 1, '398px': 5, 'hotissue': 64, '1주기를': 1, '000': 1, '울산시': 1, 'fst': 36, '및': 1, '38': 1, 'size': 155, '384px': 2, '보스턴': 1, 'realtime': 7, '29px': 8, '폐암': 1, '고개숙인': 1, 'chextra': 20, '19': 1, 'shortcut': 9, 'hot': 4, '11px': 67, 'plate9': 1, '인도네시아': 1, '기안84': 1, 'event2': 1, 'no': 32, 'nowrap': 33, 'together': 14, '1996': 1, 'num30': 1, 'ul': 2, 'preview': 6, '계획': 1, '154px': 21, 'rank': 4, '월': 1, '660px': 2, '105px': 3, '435px': 1, 'dot': 1, 'sub2': 3, '전두환': 1, '375px': 2, '990px': 12, '103px': 1, '탭': 16, '보고도': 1, '71px': 3, '5px': 32, '256px': 6, 'Helvetica': 1, 'eng': 22, 'split': 11, '전라북도': 1, '316px': 1, '서울시': 1, '63': 2, 'r2': 1, '24': 1, '18': 1, 'os': 175, '벽걸이': 1, '눈도': 1, '지역': 1, 'wm18': 2, '129px': 1, '410px': 1, '아파트': 1, '향해': 1, 'rgba': 2, '542px': 1, 'tag': 12, '431px': 8, '대비': 1, 'roll': 4, '일반뉴스': 1, '22': 1, 'status': 7, 'women': 6, '하락': 2, 'active': 12, '발사': 1, '나뉘는': 1, '영상': 21, '4': 3, '익사할': 1, '231px': 1, '03em': 2, '160px': 14, 'tistory': 6, '174px': 2, 'images': 63, '610px': 3, '5년': 1, '스타일': 2, 'special1': 8, 'q': 3, '58px': 5, '78': 2, 'dt': 4, '135px': 5, 'property': 2, 'name': 2, 'starplay': 1, '배틀그라운드': 1, '23': 1, 'source': 2, '255px': 2, '보면서': 1, '검찰': 1, '해안에서': 1, 'list': 387, '日': 1, 'result': 3, '언니': 1, 'alpha': 4, 'f46e85': 2, 'f5f5f5': 2, 'mileage': 1, '다음': 9, 'w07': 1, '20110721': 2, '124px': 3, 'special': 58, '170915': 2, '5위': 5, '검색어': 3, '⋁': 1, '1500px': 1, '419px': 1, 'frame': 64, '돌아왔다': 1, 'fieldset': 2, '만드는': 2, '는': 2, '102px': 13, '가을': 1, 'x': 2, 'solid': 54, 'left': 301, '81px': 1, '117px': 2, '520px': 1, 'video': 2, '링크모음': 1, '298px': 7, '규제': 1, 'favorsch': 7, '114px': 1, 'indent': 36, '따로': 2, '주세어멈': 1, 'width': 383, '전라남도': 2, 'night': 24, '스타일링': 1, 'advert': 10, '0px': 16, 'kor': 20, '360px': 3, 'daumcdn': 68, 'line1': 1, '부부의': 1, '캥거루를': 1, 'lt': 5, '고딕': 1, 'import': 1, '136px': 6, '10px': 50, 'bg': 35, 'cont': 48, 'cast': 15, '반응': 1, '디시인사이드': 1, '시험': 1, '대만': 1, '서비스약관': 1, '지도': 2, 'current': 3, 'wm14': 2, 'X': 1, 'device': 4, '스키장에서': 1, 'singer': 1, '236px': 2, 'quot': 8, '뉴스': 4, '960px': 2, 'entertain': 6, 'textarea': 4, 'slash': 1, 'copyright': 3, '온': 1, 'cast6': 1, '1천846억원': 1, '325px': 4, 'important': 5, 'dl': 2, 'rtn': 22, '246px': 2, 'w16': 2, 'url': 68, '항공권': 1, '27': 1, 'tiercont': 1, 'ir': 2, 'normal': 27, '300px': 18, 'wm': 12, '미운': 1, 'up': 4, '폭행': 1, '살벌한': 1, '프로': 1, '고양이': 2, '한달전과': 1, '51px': 2, '99px': 1, 'privacy': 1, 'cast3': 1, '진입후': 1, '682px': 2, 'thumbnail5': 9, '미즈넷': 2, '없는': 1, '줄어든': 1, '급락': 1, '161px': 2, '전자결제': 1, '70px': 9, '방송': 1, '235px': 3, '152px': 15, 'ededed': 2, '날씨': 21, 'linear': 6, '현재': 7, 'em': 1, '中군용기': 1, 'cite': 1, '422px': 1, 'hide': 1, 'home': 18, 'fr': 2, 'exact': 65, 'Apple': 6, '296px': 1, '바클리': 1, '광고': 3, '바로가기': 11, 'dadbdd': 1, 'amp': 2, 'thumbnail4': 9, '35px': 4, '1020px': 1, 'movie3': 10, 'num1': 7, '68px': 14, '주요': 2, 'thumbnail6': 3, 'center': 22, '좋았으면': 1, 'uarr': 16, '보기': 4, 'transition': 29, '최명길': 1, 'keyword': 4, '988px': 1, 'AI': 1, 'gt': 5, '소개': 2, '200px': 22, '회사소개': 1, '공방': 1, '구름조금': 5, '17px': 22, 'e': 1, '1858px': 1, '170405': 2, 'h3': 1, '87px': 1, 'w05': 2, '26px': 16, 'translateY': 30, 'dedede': 1, '150px': 17, '애정표현': 1, '강원도': 2, 'empathy': 1, '추천갤러리': 2, 'txt': 155, '48px': 5, '1위를': 1, '203px': 2, '177px': 1, '15K': 1, 'w00': 1, 'mystock': 1, '5a32ff': 1, 'men': 6, '토미상회': 5, 'TV하이라이트': 2, 'tabcont': 11, 'asian2018': 56, '61px': 1, '뮤직': 1, 'both': 10, 'num9': 3, '백스윙': 1, '4px': 45, 'section': 18, '89px': 1, 'daumtop': 63, 'w14': 1, 'stock': 23, '전일대비': 2, '91': 1, '지하철노선도': 1, '선택됨': 1, '5000억': 1, '어린이집': 1, '99000000': 2, 'vertical': 37, 'builtin': 1, 'hash': 1, '460px': 1, '137px': 1, '올해': 1, 'progid': 1, '방법': 1, 'bar': 13, '김지수': 1, '사람인지': 1, '협조': 1, 'kakao': 1, '서은수': 1, '거절': 1, 'blog': 5, '9위': 5, 'statics': 5, 'plus': 1, '계속': 1, '8px': 49, '엔터테인먼트': 5, '우리': 1, '341px': 1, 'e8493d': 1, 'pack': 1, 'miznet': 6, 'decoration': 39, 'ffbe00': 1, '티스토리': 2, '모모': 1, 'w09': 1, '143px': 1, 'mycafe': 1, '131px': 1, '잡는': 1, '뉴스홈': 1, '더보기': 2, 'd': 13, '230px': 1, 'vert': 5, 'suggest2': 1, 'media': 8, '225px': 2, '백조로': 1, 'gif': 4, '번역': 1, '142': 1, 'equal': 1, 'DXImageTransform': 1, '서열': 1, 'h6': 1, '4155cb': 1, '148px': 8, '16도': 2, '중거리포': 1, '244px': 1, '98px': 2, '465px': 2, 'play': 1, 'answer': 2, 'visibility': 1, 'mainsvc': 17, '강력한': 1, 'recomm': 23, '110px': 8, '봤더니': 1, '319px': 4, 'fl': 3, '122px': 3, 'ico': 200, 'move': 2, '226px': 2, '9도': 1, 'locate': 2, '않겠다': 1, '3px': 44, 'gate1': 3, '정연': 1, '웹': 1, 'weather': 23, '444px': 1, 'num6': 3, '현황': 1, '뻔한': 1, '292px': 4, 'only': 8, '카카오스토리': 2, 'rank3': 2, 'launch': 2, '158px': 3, 'blockquote': 4, '쇼핑': 4, '화폐제조액': 1, '지식': 1, 'X닫기': 1, '78px': 6, '댕댕이': 1, 'total': 2}\n"
     ]
    }
   ],
   "source": [
    "code_removed4 = remove_code(source4)\n",
    "tag_removed4 = remove_tag(code_removed4)\n",
    "all_removed4 = remove_punctuation(tag_removed4)\n",
    "\n",
    "all_removed4 = all_removed4.replace(\"\\n\",\" \")\n",
    "all_removed4= all_removed4.replace(\"\\t\",\" \")\n",
    "\n",
    "final_source_list4 = all_removed4.split(\" \")\n",
    "final_source4 = [x for x in final_source_list4 if x]\n",
    "\n",
    "dic_source4 = {}\n",
    "set_source4=set(final_source4)\n",
    "list_source4=list(set_source4)\n",
    "k = 0\n",
    "for i in range(0, len(list_source4)):\n",
    "    for j in range(0, len(final_source4)):\n",
    "        if list_source4[i] == final_source4[j]:\n",
    "            k += 1\n",
    "    dic_source4[list_source4[i]] = k\n",
    "    k = 0\n",
    "    \n",
    "print(dic_source4)"
   ]
  },
  {
   "cell_type": "code",
   "execution_count": null,
   "metadata": {},
   "outputs": [],
   "source": [
    "code_removed5 = remove_code(source5)\n",
    "tag_removed5 = remove_tag(code_removed5)\n",
    "all_removed5 = remove_punctuation(tag_removed5)\n",
    "\n",
    "all_removed5 = all_removed5.replace(\"\\n\",\" \")\n",
    "all_removed5= all_removed5.replace(\"\\t\",\" \")\n",
    "\n",
    "final_source_list5 = all_removed5.split(\" \")\n",
    "final_source5 = [x for x in final_source_list5 if x]\n",
    "\n",
    "dic_source5 = {}\n",
    "set_source5=set(final_source5)\n",
    "list_source5=list(set_source5)\n",
    "k = 0\n",
    "\n",
    "for i in range(0, len(list_source5)):\n",
    "    for j in range(0, len(final_source5)):\n",
    "        if list_source5[i] == final_source5[j]:\n",
    "            k += 1\n",
    "    dic_source5[list_source5[i]] = k\n",
    "    k = 0\n",
    "    \n",
    "print(dic_source5)\n",
    "# 문자의 길이가 길어지니 코드를 받아오고 계산하는 시간이 너무 오래걸려 출력결과를 뽑지 못했습니다....."
   ]
  },
  {
   "cell_type": "markdown",
   "metadata": {},
   "source": [
    "### 과제소감\n",
    "\n",
    "저번 과제를 하면서 문자열과 리스트의 차이를 알고, 문자열에 쓰는 메소드와 리스트에 쓰는 매소드를 많이 익혔다면 이번 과제를 통해서는 리스트와 딕셔너리, 그리고 리스트 내포 같은 중요한 개념을 더 정확하게 익혔습니다. 또한 딕셔너리와 리스트에서 deep copy와 shallow copy의 차이점을 알게 되었습니다. 또한 코드가 길어지고 문자가 많아지면서 코드의 실행 시간이 너무 길어져서 코드의 알고리즘이 아주 중요하다는 것을 깨달았습니다."
   ]
  },
  {
   "cell_type": "code",
   "execution_count": null,
   "metadata": {},
   "outputs": [],
   "source": []
  }
 ],
 "metadata": {
  "kernelspec": {
   "display_name": "Python 3",
   "language": "python",
   "name": "python3"
  },
  "language_info": {
   "codemirror_mode": {
    "name": "ipython",
    "version": 3
   },
   "file_extension": ".py",
   "mimetype": "text/x-python",
   "name": "python",
   "nbconvert_exporter": "python",
   "pygments_lexer": "ipython3",
   "version": "3.6.5"
  }
 },
 "nbformat": 4,
 "nbformat_minor": 2
}
