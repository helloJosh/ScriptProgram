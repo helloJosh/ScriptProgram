{
 "cells": [
  {
   "cell_type": "code",
   "execution_count": 1,
   "metadata": {},
   "outputs": [],
   "source": [
    "import os"
   ]
  },
  {
   "cell_type": "code",
   "execution_count": 9,
   "metadata": {},
   "outputs": [
    {
     "name": "stdout",
     "output_type": "stream",
     "text": [
      "\u001b[34mScreenShot\u001b[m\u001b[m/              assignment_2_1014.ipynb  week_4.ipynb\r\n",
      "Untitled.ipynb           assignment_3_1027.ipynb  week_5.ipynb\r\n",
      "Week_10.ipynb            week_1.ipynb             week_7.ipynb\r\n",
      "Week_6.ipynb             week_2.ipynb             week_8.ipynb\r\n",
      "assignment_1_0930.ipynb  week_3.ipynb             week_9.ipynb\r\n"
     ]
    }
   ],
   "source": [
    "#os.getcwd()\n",
    "#%pwd\n",
    "%ls"
   ]
  },
  {
   "cell_type": "code",
   "execution_count": 20,
   "metadata": {},
   "outputs": [],
   "source": [
    "f = open(\"test.txt\", \"w\")"
   ]
  },
  {
   "cell_type": "code",
   "execution_count": 21,
   "metadata": {},
   "outputs": [
    {
     "data": {
      "text/plain": [
       "27"
      ]
     },
     "execution_count": 21,
     "metadata": {},
     "output_type": "execute_result"
    }
   ],
   "source": [
    "f.write(\"hello world\\npython nice!!!!\")"
   ]
  },
  {
   "cell_type": "code",
   "execution_count": 22,
   "metadata": {},
   "outputs": [
    {
     "data": {
      "text/plain": [
       "3"
      ]
     },
     "execution_count": 22,
     "metadata": {},
     "output_type": "execute_result"
    }
   ],
   "source": [
    "f.write(\"!!!\")"
   ]
  },
  {
   "cell_type": "code",
   "execution_count": 23,
   "metadata": {},
   "outputs": [
    {
     "data": {
      "text/plain": [
       "4"
      ]
     },
     "execution_count": 23,
     "metadata": {},
     "output_type": "execute_result"
    }
   ],
   "source": [
    "f.seek(5)\n",
    "f.write(\"????\")"
   ]
  },
  {
   "cell_type": "code",
   "execution_count": 24,
   "metadata": {},
   "outputs": [],
   "source": [
    "f.close()"
   ]
  },
  {
   "cell_type": "code",
   "execution_count": 13,
   "metadata": {},
   "outputs": [],
   "source": [
    "f2 =open(\"test.txt\",\"r\")"
   ]
  },
  {
   "cell_type": "code",
   "execution_count": 15,
   "metadata": {},
   "outputs": [
    {
     "name": "stdout",
     "output_type": "stream",
     "text": [
      "hello world\n",
      "\n",
      "python nice!!!\n"
     ]
    }
   ],
   "source": [
    "for line in f2:\n",
    "    print(line)"
   ]
  },
  {
   "cell_type": "code",
   "execution_count": 38,
   "metadata": {},
   "outputs": [
    {
     "name": "stdout",
     "output_type": "stream",
     "text": [
      "['sfafasdfadf\\n', 'fadsf \\t\\x08 are 999999999\\n', '88888888\\n']\n",
      "sfafasdfadf\n",
      "----1\n",
      "fadsf \t\b are 999999999\n",
      "----2\n",
      "88888888\n",
      "----3\n",
      "----4\n",
      "<class 'str'>\n",
      "!!!!!!\n"
     ]
    }
   ],
   "source": [
    "s = \"sfafasdfadf\\nfadsf \\t\\b are \"\n",
    "with open('t.txt', 'w') as f:\n",
    "    f.write(s)\n",
    "with open('t.txt', 'a') as f:\n",
    "    f.write(\"999999999\\n\")\n",
    "    f.write(\"88888888\\n\")\n",
    "\n",
    "with open('t.txt', 'r') as f:   \n",
    "    print(f.readlines())\n",
    "    \n",
    "\n",
    "with open('t.txt', 'r') as f:   \n",
    "    for line in f.readlines():\n",
    "        print(line)\n",
    "# readlines에 메모리를 전부 다 쓰게됨 => 굉장히 비효율적\n",
    "with open('t.txt', 'r') as f:   \n",
    "    for line in f:\n",
    "        print(line)\n",
    "#하나씩 들고 필요할때만 들어옴\n",
    "    \n",
    "with open('t.txt', 'r') as f:   \n",
    "    print(f.readline() + \"----1\")\n",
    "    print(f.readline() + \"----2\")\n",
    "    print(f.readline() + \"----3\")\n",
    "    print(f.readline() + \"----4\")\n",
    "    print(type(f.readline()))\n",
    "    \n",
    "#with open('t.txt', 'r') as f:\n",
    "  #  for line in f:\n",
    "    #    print(line,end='')\n",
    "        #for c in line:\n",
    "            #print(c)\n",
    "        \n",
    "print(\"!!!!!!\")\n",
    "#close안해도댐\n",
    "#바디 쪽에서 무조건 라이트해야함(단점)"
   ]
  },
  {
   "cell_type": "code",
   "execution_count": 39,
   "metadata": {},
   "outputs": [],
   "source": [
    "import sys\n",
    "\n",
    "f = open('t.txt', 'w')\n",
    "stdout = sys.stdout     # 표준 출력 저장해두기 , 스트링객체를 두개가 같이 바라봄\n",
    "\n",
    "sys.stdout = f             # 파일 객체로 표준 출력 변경\n",
    "print(\"Sample output\")\n",
    "print('Good')\n",
    "print('Good')\n",
    "f.close()\n",
    "sys.stdout = stdout"
   ]
  },
  {
   "cell_type": "code",
   "execution_count": 44,
   "metadata": {},
   "outputs": [],
   "source": [
    "import pickle\n",
    "#phone = {'tom' : 4358382, 'jack' : 945324, 'jim' : 6851325, 'joseph': 6584321}\n",
    "#List = ['string', 1234, 0.2345]\n",
    "#Tuple = (phone, List)\n",
    "\n",
    "with open('pickle.txt', 'wb') as f:\n",
    "    pickle.dump(Tuple,f)"
   ]
  },
  {
   "cell_type": "code",
   "execution_count": 45,
   "metadata": {},
   "outputs": [
    {
     "name": "stdout",
     "output_type": "stream",
     "text": [
      "4358382\n"
     ]
    }
   ],
   "source": [
    "with open('pickle.txt', 'rb') as f:\n",
    "    ttt = pickle.load(f)\n",
    "print(ttt[0]['tom']) #주석처리되있어서도 실행가능 =>하드디스크에 얼려있어서"
   ]
  },
  {
   "cell_type": "code",
   "execution_count": 47,
   "metadata": {},
   "outputs": [
    {
     "name": "stdout",
     "output_type": "stream",
     "text": [
      "['.DS_Store', '.git', '.ipynb_checkpoints', 'assignment_1_0930.ipynb', 'assignment_2_1014.ipynb', 'assignment_3_1027.ipynb', 'pickle.txt', 'ScreenShot', 't.txt', 'test.txt', 'Untitled.ipynb', 'week_1.ipynb', 'Week_10.ipynb', 'week_2.ipynb', 'week_3.ipynb', 'week_4.ipynb', 'week_5.ipynb', 'Week_6.ipynb', 'week_7.ipynb', 'week_8.ipynb', 'week_9.ipynb']\n",
      "\n",
      "['.DS_Store', '.ipynb_checkpoints', 'ImageProcessing', 'ScriptProgram']\n"
     ]
    }
   ],
   "source": [
    "import os\n",
    "\n",
    "print(os.listdir('.'))   # 현재 디렉토리의 파일 목록 얻기\n",
    "print()\n",
    "print(os.listdir('../'))"
   ]
  },
  {
   "cell_type": "code",
   "execution_count": 53,
   "metadata": {},
   "outputs": [
    {
     "name": "stdout",
     "output_type": "stream",
     "text": [
      "False\n",
      "False\n",
      "False\n"
     ]
    }
   ],
   "source": [
    "print(os.path.isfile('Documents'))\n",
    "print(os.path.isdir('ImageProcessing'))\n",
    "print(os.path.islink('Documents'))"
   ]
  },
  {
   "cell_type": "code",
   "execution_count": 59,
   "metadata": {},
   "outputs": [
    {
     "name": "stdout",
     "output_type": "stream",
     "text": [
      "None\n"
     ]
    }
   ],
   "source": [
    "print(os.chmod('pickle.txt', 777))"
   ]
  },
  {
   "cell_type": "code",
   "execution_count": 60,
   "metadata": {},
   "outputs": [
    {
     "name": "stdout",
     "output_type": "stream",
     "text": [
      "/Users/user/Documents/GitHub/Script program/ScriptProgram/pickle.txt\n"
     ]
    }
   ],
   "source": [
    "print(os.path.abspath('pickle.txt'))"
   ]
  },
  {
   "cell_type": "code",
   "execution_count": 63,
   "metadata": {},
   "outputs": [
    {
     "data": {
      "image/png": "[encoded data removed]",
      "text/plain": [
       "<Figure size 432x288 with 1 Axes>"
      ]
     },
     "metadata": {},
     "output_type": "display_data"
    }
   ],
   "source": [
    "import matplotlib.pyplot as plt\n",
    "\n",
    "plt.title(\"Plot\")\n",
    "plt.plot([1,2,3,4,5])\n",
    "plt.show()"
   ]
  },
  {
   "cell_type": "code",
   "execution_count": null,
   "metadata": {},
   "outputs": [],
   "source": []
  }
 ],
 "metadata": {
  "kernelspec": {
   "display_name": "Python 3",
   "language": "python",
   "name": "python3"
  },
  "language_info": {
   "codemirror_mode": {
    "name": "ipython",
    "version": 3
   },
   "file_extension": ".py",
   "mimetype": "text/x-python",
   "name": "python",
   "nbconvert_exporter": "python",
   "pygments_lexer": "ipython3",
   "version": "3.6.5"
  }
 },
 "nbformat": 4,
 "nbformat_minor": 2
}
