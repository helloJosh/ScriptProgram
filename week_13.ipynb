{
 "cells": [
  {
   "cell_type": "code",
   "execution_count": 1,
   "metadata": {},
   "outputs": [
    {
     "name": "stdout",
     "output_type": "stream",
     "text": [
      "[1, 4, 9, 16, 25]\n"
     ]
    }
   ],
   "source": [
    "X = [1,2,3,4,5]\n",
    "print(list(map(lambda x: x*x, X)))"
   ]
  },
  {
   "cell_type": "code",
   "execution_count": 4,
   "metadata": {},
   "outputs": [
    {
     "name": "stdout",
     "output_type": "stream",
     "text": [
      "[5, 10, 17, 26, 37, 50, 65, 82, 101, 122]\n"
     ]
    }
   ],
   "source": [
    "Y = list(map(lambda x: x*x +4*x + 5, range(10)))\n",
    "print(Y)"
   ]
  },
  {
   "cell_type": "code",
   "execution_count": 8,
   "metadata": {},
   "outputs": [
    {
     "name": "stdout",
     "output_type": "stream",
     "text": [
      "[4, 5, 6]\n"
     ]
    }
   ],
   "source": [
    "Y = list(map(lambda x: len(x), [\"aaaa\", \"aaaaa\",\"aaaaaa\"]))\n",
    "print(Y)"
   ]
  },
  {
   "cell_type": "code",
   "execution_count": 9,
   "metadata": {},
   "outputs": [
    {
     "name": "stdout",
     "output_type": "stream",
     "text": [
      "[3, 4]\n"
     ]
    }
   ],
   "source": [
    "print(list(filter(lambda x: x>2, [1,2,3,4])))"
   ]
  },
  {
   "cell_type": "code",
   "execution_count": 10,
   "metadata": {},
   "outputs": [
    {
     "name": "stdout",
     "output_type": "stream",
     "text": [
      "30\n",
      "5\n"
     ]
    }
   ],
   "source": [
    "g = 10\n",
    "h = 5\n",
    "\n",
    "def f(a):\n",
    "    #global h => local 변수가 잇어도  글로벌에 있는 것만 씀\n",
    "    h = a+10\n",
    "    b = h+a+ g\n",
    "    return b\n",
    "\n",
    "print(f(h))\n",
    "print(h)\n",
    "\n",
    "#전역 변수 2개 전역 Scope이름 : 3개"
   ]
  },
  {
   "cell_type": "code",
   "execution_count": 13,
   "metadata": {},
   "outputs": [
    {
     "ename": "UnboundLocalError",
     "evalue": "local variable 'g' referenced before assignment",
     "output_type": "error",
     "traceback": [
      "\u001b[0;31m---------------------------------------------------------------------------\u001b[0m",
      "\u001b[0;31mUnboundLocalError\u001b[0m                         Traceback (most recent call last)",
      "\u001b[0;32m<ipython-input-13-371395318da5>\u001b[0m in \u001b[0;36m<module>\u001b[0;34m()\u001b[0m\n\u001b[1;32m      6\u001b[0m     \u001b[0mg\u001b[0m\u001b[0;34m=\u001b[0m \u001b[0;36m20\u001b[0m\u001b[0;34m\u001b[0m\u001b[0m\n\u001b[1;32m      7\u001b[0m     \u001b[0;32mreturn\u001b[0m \u001b[0ma\u001b[0m\u001b[0;34m\u001b[0m\u001b[0m\n\u001b[0;32m----> 8\u001b[0;31m \u001b[0mprint\u001b[0m\u001b[0;34m(\u001b[0m\u001b[0mf\u001b[0m\u001b[0;34m(\u001b[0m\u001b[0;34m)\u001b[0m\u001b[0;34m)\u001b[0m\u001b[0;34m\u001b[0m\u001b[0m\n\u001b[0m",
      "\u001b[0;32m<ipython-input-13-371395318da5>\u001b[0m in \u001b[0;36mf\u001b[0;34m()\u001b[0m\n\u001b[1;32m      3\u001b[0m \u001b[0;32mdef\u001b[0m \u001b[0mf\u001b[0m\u001b[0;34m(\u001b[0m\u001b[0;34m)\u001b[0m\u001b[0;34m:\u001b[0m\u001b[0;34m\u001b[0m\u001b[0m\n\u001b[1;32m      4\u001b[0m     \u001b[0;31m#global g\u001b[0m\u001b[0;34m\u001b[0m\u001b[0;34m\u001b[0m\u001b[0m\n\u001b[0;32m----> 5\u001b[0;31m     \u001b[0ma\u001b[0m \u001b[0;34m=\u001b[0m \u001b[0mg\u001b[0m\u001b[0;34m\u001b[0m\u001b[0m\n\u001b[0m\u001b[1;32m      6\u001b[0m     \u001b[0mg\u001b[0m\u001b[0;34m=\u001b[0m \u001b[0;36m20\u001b[0m\u001b[0;34m\u001b[0m\u001b[0m\n\u001b[1;32m      7\u001b[0m     \u001b[0;32mreturn\u001b[0m \u001b[0ma\u001b[0m\u001b[0;34m\u001b[0m\u001b[0m\n",
      "\u001b[0;31mUnboundLocalError\u001b[0m: local variable 'g' referenced before assignment"
     ]
    }
   ],
   "source": [
    "g = 10\n",
    "\n",
    "def f():\n",
    "    #global g\n",
    "    a = g\n",
    "    g= 20\n",
    "    return a\n",
    "print(f())"
   ]
  },
  {
   "cell_type": "code",
   "execution_count": 14,
   "metadata": {},
   "outputs": [
    {
     "name": "stdout",
     "output_type": "stream",
     "text": [
      "10\n"
     ]
    }
   ],
   "source": [
    "x = 10\n",
    "if x > 5:\n",
    "    a = 10\n",
    "    b = 20\n",
    "    c = a+b\n",
    "print(a)"
   ]
  },
  {
   "cell_type": "code",
   "execution_count": 15,
   "metadata": {},
   "outputs": [
    {
     "data": {
      "text/plain": [
       "['In',\n",
       " 'Out',\n",
       " 'X',\n",
       " 'Y',\n",
       " '_',\n",
       " '__',\n",
       " '___',\n",
       " '__builtin__',\n",
       " '__builtins__',\n",
       " '__doc__',\n",
       " '__loader__',\n",
       " '__name__',\n",
       " '__package__',\n",
       " '__spec__',\n",
       " '_dh',\n",
       " '_i',\n",
       " '_i1',\n",
       " '_i10',\n",
       " '_i11',\n",
       " '_i12',\n",
       " '_i13',\n",
       " '_i14',\n",
       " '_i15',\n",
       " '_i2',\n",
       " '_i3',\n",
       " '_i4',\n",
       " '_i5',\n",
       " '_i6',\n",
       " '_i7',\n",
       " '_i8',\n",
       " '_i9',\n",
       " '_ih',\n",
       " '_ii',\n",
       " '_iii',\n",
       " '_oh',\n",
       " 'a',\n",
       " 'b',\n",
       " 'c',\n",
       " 'exit',\n",
       " 'f',\n",
       " 'g',\n",
       " 'get_ipython',\n",
       " 'h',\n",
       " 'quit',\n",
       " 'x']"
      ]
     },
     "execution_count": 15,
     "metadata": {},
     "output_type": "execute_result"
    }
   ],
   "source": [
    "dir()"
   ]
  },
  {
   "cell_type": "code",
   "execution_count": 16,
   "metadata": {},
   "outputs": [
    {
     "ename": "SyntaxError",
     "evalue": "invalid syntax (<ipython-input-16-3a1ff6521c94>, line 6)",
     "output_type": "error",
     "traceback": [
      "\u001b[0;36m  File \u001b[0;32m\"<ipython-input-16-3a1ff6521c94>\"\u001b[0;36m, line \u001b[0;32m6\u001b[0m\n\u001b[0;31m    x = 2:\u001b[0m\n\u001b[0m         ^\u001b[0m\n\u001b[0;31mSyntaxError\u001b[0m\u001b[0;31m:\u001b[0m invalid syntax\n"
     ]
    }
   ],
   "source": [
    "x = 2\n",
    "def F():\n",
    "    x = 1\n",
    "    def G():\n",
    "        global x\n",
    "        x = 2:\n",
    "            "
   ]
  },
  {
   "cell_type": "code",
   "execution_count": 17,
   "metadata": {},
   "outputs": [
    {
     "name": "stdout",
     "output_type": "stream",
     "text": [
      "TERM_PROGRAM = environ({'TERM_PROGRAM': 'Apple_Terminal', 'TERM': 'xterm-color', 'SHELL': '/bin/bash', 'TMPDIR': '/var/folders/28/13xl240j7cd6zl0xj23fxq5m0000gn/T/', 'Apple_PubSub_Socket_Render': '/private/tmp/com.apple.launchd.hYCfKnNEev/Render', 'TERM_PROGRAM_VERSION': '388.1.2', 'TERM_SESSION_ID': 'B4C11EFB-9BE2-4E22-AF6F-2E0CA0467016', 'USER': 'user', 'SSH_AUTH_SOCK': '/private/tmp/com.apple.launchd.OtK6NANmip/Listeners', '__CF_USER_TEXT_ENCODING': '0x1F5:0x0:0x0', 'PATH': '/Users/user/anaconda3/bin:/Users/user/anaconda3/bin:/Users/user/anaconda3/bin:/usr/local/bin:/usr/bin:/bin:/usr/sbin:/sbin', 'PWD': '/Users/user/Documents/GitHub/Script program/ScriptProgram', 'XPC_FLAGS': '0x0', 'XPC_SERVICE_NAME': '0', 'HOME': '/Users/user', 'SHLVL': '1', 'LOGNAME': 'user', 'LC_CTYPE': 'UTF-8', 'SECURITYSESSIONID': '186a6', '_': '/Users/user/anaconda3/bin/jupyter', 'JPY_PARENT_PID': '440', 'CLICOLOR': '1', 'PAGER': 'cat', 'GIT_PAGER': 'cat', 'MPLBACKEND': 'module://ipykernel.pylab.backend_inline'})\n",
      "TERM = environ({'TERM_PROGRAM': 'Apple_Terminal', 'TERM': 'xterm-color', 'SHELL': '/bin/bash', 'TMPDIR': '/var/folders/28/13xl240j7cd6zl0xj23fxq5m0000gn/T/', 'Apple_PubSub_Socket_Render': '/private/tmp/com.apple.launchd.hYCfKnNEev/Render', 'TERM_PROGRAM_VERSION': '388.1.2', 'TERM_SESSION_ID': 'B4C11EFB-9BE2-4E22-AF6F-2E0CA0467016', 'USER': 'user', 'SSH_AUTH_SOCK': '/private/tmp/com.apple.launchd.OtK6NANmip/Listeners', '__CF_USER_TEXT_ENCODING': '0x1F5:0x0:0x0', 'PATH': '/Users/user/anaconda3/bin:/Users/user/anaconda3/bin:/Users/user/anaconda3/bin:/usr/local/bin:/usr/bin:/bin:/usr/sbin:/sbin', 'PWD': '/Users/user/Documents/GitHub/Script program/ScriptProgram', 'XPC_FLAGS': '0x0', 'XPC_SERVICE_NAME': '0', 'HOME': '/Users/user', 'SHLVL': '1', 'LOGNAME': 'user', 'LC_CTYPE': 'UTF-8', 'SECURITYSESSIONID': '186a6', '_': '/Users/user/anaconda3/bin/jupyter', 'JPY_PARENT_PID': '440', 'CLICOLOR': '1', 'PAGER': 'cat', 'GIT_PAGER': 'cat', 'MPLBACKEND': 'module://ipykernel.pylab.backend_inline'})\n",
      "SHELL = environ({'TERM_PROGRAM': 'Apple_Terminal', 'TERM': 'xterm-color', 'SHELL': '/bin/bash', 'TMPDIR': '/var/folders/28/13xl240j7cd6zl0xj23fxq5m0000gn/T/', 'Apple_PubSub_Socket_Render': '/private/tmp/com.apple.launchd.hYCfKnNEev/Render', 'TERM_PROGRAM_VERSION': '388.1.2', 'TERM_SESSION_ID': 'B4C11EFB-9BE2-4E22-AF6F-2E0CA0467016', 'USER': 'user', 'SSH_AUTH_SOCK': '/private/tmp/com.apple.launchd.OtK6NANmip/Listeners', '__CF_USER_TEXT_ENCODING': '0x1F5:0x0:0x0', 'PATH': '/Users/user/anaconda3/bin:/Users/user/anaconda3/bin:/Users/user/anaconda3/bin:/usr/local/bin:/usr/bin:/bin:/usr/sbin:/sbin', 'PWD': '/Users/user/Documents/GitHub/Script program/ScriptProgram', 'XPC_FLAGS': '0x0', 'XPC_SERVICE_NAME': '0', 'HOME': '/Users/user', 'SHLVL': '1', 'LOGNAME': 'user', 'LC_CTYPE': 'UTF-8', 'SECURITYSESSIONID': '186a6', '_': '/Users/user/anaconda3/bin/jupyter', 'JPY_PARENT_PID': '440', 'CLICOLOR': '1', 'PAGER': 'cat', 'GIT_PAGER': 'cat', 'MPLBACKEND': 'module://ipykernel.pylab.backend_inline'})\n",
      "TMPDIR = environ({'TERM_PROGRAM': 'Apple_Terminal', 'TERM': 'xterm-color', 'SHELL': '/bin/bash', 'TMPDIR': '/var/folders/28/13xl240j7cd6zl0xj23fxq5m0000gn/T/', 'Apple_PubSub_Socket_Render': '/private/tmp/com.apple.launchd.hYCfKnNEev/Render', 'TERM_PROGRAM_VERSION': '388.1.2', 'TERM_SESSION_ID': 'B4C11EFB-9BE2-4E22-AF6F-2E0CA0467016', 'USER': 'user', 'SSH_AUTH_SOCK': '/private/tmp/com.apple.launchd.OtK6NANmip/Listeners', '__CF_USER_TEXT_ENCODING': '0x1F5:0x0:0x0', 'PATH': '/Users/user/anaconda3/bin:/Users/user/anaconda3/bin:/Users/user/anaconda3/bin:/usr/local/bin:/usr/bin:/bin:/usr/sbin:/sbin', 'PWD': '/Users/user/Documents/GitHub/Script program/ScriptProgram', 'XPC_FLAGS': '0x0', 'XPC_SERVICE_NAME': '0', 'HOME': '/Users/user', 'SHLVL': '1', 'LOGNAME': 'user', 'LC_CTYPE': 'UTF-8', 'SECURITYSESSIONID': '186a6', '_': '/Users/user/anaconda3/bin/jupyter', 'JPY_PARENT_PID': '440', 'CLICOLOR': '1', 'PAGER': 'cat', 'GIT_PAGER': 'cat', 'MPLBACKEND': 'module://ipykernel.pylab.backend_inline'})\n",
      "Apple_PubSub_Socket_Render = environ({'TERM_PROGRAM': 'Apple_Terminal', 'TERM': 'xterm-color', 'SHELL': '/bin/bash', 'TMPDIR': '/var/folders/28/13xl240j7cd6zl0xj23fxq5m0000gn/T/', 'Apple_PubSub_Socket_Render': '/private/tmp/com.apple.launchd.hYCfKnNEev/Render', 'TERM_PROGRAM_VERSION': '388.1.2', 'TERM_SESSION_ID': 'B4C11EFB-9BE2-4E22-AF6F-2E0CA0467016', 'USER': 'user', 'SSH_AUTH_SOCK': '/private/tmp/com.apple.launchd.OtK6NANmip/Listeners', '__CF_USER_TEXT_ENCODING': '0x1F5:0x0:0x0', 'PATH': '/Users/user/anaconda3/bin:/Users/user/anaconda3/bin:/Users/user/anaconda3/bin:/usr/local/bin:/usr/bin:/bin:/usr/sbin:/sbin', 'PWD': '/Users/user/Documents/GitHub/Script program/ScriptProgram', 'XPC_FLAGS': '0x0', 'XPC_SERVICE_NAME': '0', 'HOME': '/Users/user', 'SHLVL': '1', 'LOGNAME': 'user', 'LC_CTYPE': 'UTF-8', 'SECURITYSESSIONID': '186a6', '_': '/Users/user/anaconda3/bin/jupyter', 'JPY_PARENT_PID': '440', 'CLICOLOR': '1', 'PAGER': 'cat', 'GIT_PAGER': 'cat', 'MPLBACKEND': 'module://ipykernel.pylab.backend_inline'})\n",
      "TERM_PROGRAM_VERSION = environ({'TERM_PROGRAM': 'Apple_Terminal', 'TERM': 'xterm-color', 'SHELL': '/bin/bash', 'TMPDIR': '/var/folders/28/13xl240j7cd6zl0xj23fxq5m0000gn/T/', 'Apple_PubSub_Socket_Render': '/private/tmp/com.apple.launchd.hYCfKnNEev/Render', 'TERM_PROGRAM_VERSION': '388.1.2', 'TERM_SESSION_ID': 'B4C11EFB-9BE2-4E22-AF6F-2E0CA0467016', 'USER': 'user', 'SSH_AUTH_SOCK': '/private/tmp/com.apple.launchd.OtK6NANmip/Listeners', '__CF_USER_TEXT_ENCODING': '0x1F5:0x0:0x0', 'PATH': '/Users/user/anaconda3/bin:/Users/user/anaconda3/bin:/Users/user/anaconda3/bin:/usr/local/bin:/usr/bin:/bin:/usr/sbin:/sbin', 'PWD': '/Users/user/Documents/GitHub/Script program/ScriptProgram', 'XPC_FLAGS': '0x0', 'XPC_SERVICE_NAME': '0', 'HOME': '/Users/user', 'SHLVL': '1', 'LOGNAME': 'user', 'LC_CTYPE': 'UTF-8', 'SECURITYSESSIONID': '186a6', '_': '/Users/user/anaconda3/bin/jupyter', 'JPY_PARENT_PID': '440', 'CLICOLOR': '1', 'PAGER': 'cat', 'GIT_PAGER': 'cat', 'MPLBACKEND': 'module://ipykernel.pylab.backend_inline'})\n",
      "TERM_SESSION_ID = environ({'TERM_PROGRAM': 'Apple_Terminal', 'TERM': 'xterm-color', 'SHELL': '/bin/bash', 'TMPDIR': '/var/folders/28/13xl240j7cd6zl0xj23fxq5m0000gn/T/', 'Apple_PubSub_Socket_Render': '/private/tmp/com.apple.launchd.hYCfKnNEev/Render', 'TERM_PROGRAM_VERSION': '388.1.2', 'TERM_SESSION_ID': 'B4C11EFB-9BE2-4E22-AF6F-2E0CA0467016', 'USER': 'user', 'SSH_AUTH_SOCK': '/private/tmp/com.apple.launchd.OtK6NANmip/Listeners', '__CF_USER_TEXT_ENCODING': '0x1F5:0x0:0x0', 'PATH': '/Users/user/anaconda3/bin:/Users/user/anaconda3/bin:/Users/user/anaconda3/bin:/usr/local/bin:/usr/bin:/bin:/usr/sbin:/sbin', 'PWD': '/Users/user/Documents/GitHub/Script program/ScriptProgram', 'XPC_FLAGS': '0x0', 'XPC_SERVICE_NAME': '0', 'HOME': '/Users/user', 'SHLVL': '1', 'LOGNAME': 'user', 'LC_CTYPE': 'UTF-8', 'SECURITYSESSIONID': '186a6', '_': '/Users/user/anaconda3/bin/jupyter', 'JPY_PARENT_PID': '440', 'CLICOLOR': '1', 'PAGER': 'cat', 'GIT_PAGER': 'cat', 'MPLBACKEND': 'module://ipykernel.pylab.backend_inline'})\n",
      "USER = environ({'TERM_PROGRAM': 'Apple_Terminal', 'TERM': 'xterm-color', 'SHELL': '/bin/bash', 'TMPDIR': '/var/folders/28/13xl240j7cd6zl0xj23fxq5m0000gn/T/', 'Apple_PubSub_Socket_Render': '/private/tmp/com.apple.launchd.hYCfKnNEev/Render', 'TERM_PROGRAM_VERSION': '388.1.2', 'TERM_SESSION_ID': 'B4C11EFB-9BE2-4E22-AF6F-2E0CA0467016', 'USER': 'user', 'SSH_AUTH_SOCK': '/private/tmp/com.apple.launchd.OtK6NANmip/Listeners', '__CF_USER_TEXT_ENCODING': '0x1F5:0x0:0x0', 'PATH': '/Users/user/anaconda3/bin:/Users/user/anaconda3/bin:/Users/user/anaconda3/bin:/usr/local/bin:/usr/bin:/bin:/usr/sbin:/sbin', 'PWD': '/Users/user/Documents/GitHub/Script program/ScriptProgram', 'XPC_FLAGS': '0x0', 'XPC_SERVICE_NAME': '0', 'HOME': '/Users/user', 'SHLVL': '1', 'LOGNAME': 'user', 'LC_CTYPE': 'UTF-8', 'SECURITYSESSIONID': '186a6', '_': '/Users/user/anaconda3/bin/jupyter', 'JPY_PARENT_PID': '440', 'CLICOLOR': '1', 'PAGER': 'cat', 'GIT_PAGER': 'cat', 'MPLBACKEND': 'module://ipykernel.pylab.backend_inline'})\n",
      "SSH_AUTH_SOCK = environ({'TERM_PROGRAM': 'Apple_Terminal', 'TERM': 'xterm-color', 'SHELL': '/bin/bash', 'TMPDIR': '/var/folders/28/13xl240j7cd6zl0xj23fxq5m0000gn/T/', 'Apple_PubSub_Socket_Render': '/private/tmp/com.apple.launchd.hYCfKnNEev/Render', 'TERM_PROGRAM_VERSION': '388.1.2', 'TERM_SESSION_ID': 'B4C11EFB-9BE2-4E22-AF6F-2E0CA0467016', 'USER': 'user', 'SSH_AUTH_SOCK': '/private/tmp/com.apple.launchd.OtK6NANmip/Listeners', '__CF_USER_TEXT_ENCODING': '0x1F5:0x0:0x0', 'PATH': '/Users/user/anaconda3/bin:/Users/user/anaconda3/bin:/Users/user/anaconda3/bin:/usr/local/bin:/usr/bin:/bin:/usr/sbin:/sbin', 'PWD': '/Users/user/Documents/GitHub/Script program/ScriptProgram', 'XPC_FLAGS': '0x0', 'XPC_SERVICE_NAME': '0', 'HOME': '/Users/user', 'SHLVL': '1', 'LOGNAME': 'user', 'LC_CTYPE': 'UTF-8', 'SECURITYSESSIONID': '186a6', '_': '/Users/user/anaconda3/bin/jupyter', 'JPY_PARENT_PID': '440', 'CLICOLOR': '1', 'PAGER': 'cat', 'GIT_PAGER': 'cat', 'MPLBACKEND': 'module://ipykernel.pylab.backend_inline'})\n",
      "__CF_USER_TEXT_ENCODING = environ({'TERM_PROGRAM': 'Apple_Terminal', 'TERM': 'xterm-color', 'SHELL': '/bin/bash', 'TMPDIR': '/var/folders/28/13xl240j7cd6zl0xj23fxq5m0000gn/T/', 'Apple_PubSub_Socket_Render': '/private/tmp/com.apple.launchd.hYCfKnNEev/Render', 'TERM_PROGRAM_VERSION': '388.1.2', 'TERM_SESSION_ID': 'B4C11EFB-9BE2-4E22-AF6F-2E0CA0467016', 'USER': 'user', 'SSH_AUTH_SOCK': '/private/tmp/com.apple.launchd.OtK6NANmip/Listeners', '__CF_USER_TEXT_ENCODING': '0x1F5:0x0:0x0', 'PATH': '/Users/user/anaconda3/bin:/Users/user/anaconda3/bin:/Users/user/anaconda3/bin:/usr/local/bin:/usr/bin:/bin:/usr/sbin:/sbin', 'PWD': '/Users/user/Documents/GitHub/Script program/ScriptProgram', 'XPC_FLAGS': '0x0', 'XPC_SERVICE_NAME': '0', 'HOME': '/Users/user', 'SHLVL': '1', 'LOGNAME': 'user', 'LC_CTYPE': 'UTF-8', 'SECURITYSESSIONID': '186a6', '_': '/Users/user/anaconda3/bin/jupyter', 'JPY_PARENT_PID': '440', 'CLICOLOR': '1', 'PAGER': 'cat', 'GIT_PAGER': 'cat', 'MPLBACKEND': 'module://ipykernel.pylab.backend_inline'})\n",
      "PATH = environ({'TERM_PROGRAM': 'Apple_Terminal', 'TERM': 'xterm-color', 'SHELL': '/bin/bash', 'TMPDIR': '/var/folders/28/13xl240j7cd6zl0xj23fxq5m0000gn/T/', 'Apple_PubSub_Socket_Render': '/private/tmp/com.apple.launchd.hYCfKnNEev/Render', 'TERM_PROGRAM_VERSION': '388.1.2', 'TERM_SESSION_ID': 'B4C11EFB-9BE2-4E22-AF6F-2E0CA0467016', 'USER': 'user', 'SSH_AUTH_SOCK': '/private/tmp/com.apple.launchd.OtK6NANmip/Listeners', '__CF_USER_TEXT_ENCODING': '0x1F5:0x0:0x0', 'PATH': '/Users/user/anaconda3/bin:/Users/user/anaconda3/bin:/Users/user/anaconda3/bin:/usr/local/bin:/usr/bin:/bin:/usr/sbin:/sbin', 'PWD': '/Users/user/Documents/GitHub/Script program/ScriptProgram', 'XPC_FLAGS': '0x0', 'XPC_SERVICE_NAME': '0', 'HOME': '/Users/user', 'SHLVL': '1', 'LOGNAME': 'user', 'LC_CTYPE': 'UTF-8', 'SECURITYSESSIONID': '186a6', '_': '/Users/user/anaconda3/bin/jupyter', 'JPY_PARENT_PID': '440', 'CLICOLOR': '1', 'PAGER': 'cat', 'GIT_PAGER': 'cat', 'MPLBACKEND': 'module://ipykernel.pylab.backend_inline'})\n",
      "PWD = environ({'TERM_PROGRAM': 'Apple_Terminal', 'TERM': 'xterm-color', 'SHELL': '/bin/bash', 'TMPDIR': '/var/folders/28/13xl240j7cd6zl0xj23fxq5m0000gn/T/', 'Apple_PubSub_Socket_Render': '/private/tmp/com.apple.launchd.hYCfKnNEev/Render', 'TERM_PROGRAM_VERSION': '388.1.2', 'TERM_SESSION_ID': 'B4C11EFB-9BE2-4E22-AF6F-2E0CA0467016', 'USER': 'user', 'SSH_AUTH_SOCK': '/private/tmp/com.apple.launchd.OtK6NANmip/Listeners', '__CF_USER_TEXT_ENCODING': '0x1F5:0x0:0x0', 'PATH': '/Users/user/anaconda3/bin:/Users/user/anaconda3/bin:/Users/user/anaconda3/bin:/usr/local/bin:/usr/bin:/bin:/usr/sbin:/sbin', 'PWD': '/Users/user/Documents/GitHub/Script program/ScriptProgram', 'XPC_FLAGS': '0x0', 'XPC_SERVICE_NAME': '0', 'HOME': '/Users/user', 'SHLVL': '1', 'LOGNAME': 'user', 'LC_CTYPE': 'UTF-8', 'SECURITYSESSIONID': '186a6', '_': '/Users/user/anaconda3/bin/jupyter', 'JPY_PARENT_PID': '440', 'CLICOLOR': '1', 'PAGER': 'cat', 'GIT_PAGER': 'cat', 'MPLBACKEND': 'module://ipykernel.pylab.backend_inline'})\n",
      "XPC_FLAGS = environ({'TERM_PROGRAM': 'Apple_Terminal', 'TERM': 'xterm-color', 'SHELL': '/bin/bash', 'TMPDIR': '/var/folders/28/13xl240j7cd6zl0xj23fxq5m0000gn/T/', 'Apple_PubSub_Socket_Render': '/private/tmp/com.apple.launchd.hYCfKnNEev/Render', 'TERM_PROGRAM_VERSION': '388.1.2', 'TERM_SESSION_ID': 'B4C11EFB-9BE2-4E22-AF6F-2E0CA0467016', 'USER': 'user', 'SSH_AUTH_SOCK': '/private/tmp/com.apple.launchd.OtK6NANmip/Listeners', '__CF_USER_TEXT_ENCODING': '0x1F5:0x0:0x0', 'PATH': '/Users/user/anaconda3/bin:/Users/user/anaconda3/bin:/Users/user/anaconda3/bin:/usr/local/bin:/usr/bin:/bin:/usr/sbin:/sbin', 'PWD': '/Users/user/Documents/GitHub/Script program/ScriptProgram', 'XPC_FLAGS': '0x0', 'XPC_SERVICE_NAME': '0', 'HOME': '/Users/user', 'SHLVL': '1', 'LOGNAME': 'user', 'LC_CTYPE': 'UTF-8', 'SECURITYSESSIONID': '186a6', '_': '/Users/user/anaconda3/bin/jupyter', 'JPY_PARENT_PID': '440', 'CLICOLOR': '1', 'PAGER': 'cat', 'GIT_PAGER': 'cat', 'MPLBACKEND': 'module://ipykernel.pylab.backend_inline'})\n",
      "XPC_SERVICE_NAME = environ({'TERM_PROGRAM': 'Apple_Terminal', 'TERM': 'xterm-color', 'SHELL': '/bin/bash', 'TMPDIR': '/var/folders/28/13xl240j7cd6zl0xj23fxq5m0000gn/T/', 'Apple_PubSub_Socket_Render': '/private/tmp/com.apple.launchd.hYCfKnNEev/Render', 'TERM_PROGRAM_VERSION': '388.1.2', 'TERM_SESSION_ID': 'B4C11EFB-9BE2-4E22-AF6F-2E0CA0467016', 'USER': 'user', 'SSH_AUTH_SOCK': '/private/tmp/com.apple.launchd.OtK6NANmip/Listeners', '__CF_USER_TEXT_ENCODING': '0x1F5:0x0:0x0', 'PATH': '/Users/user/anaconda3/bin:/Users/user/anaconda3/bin:/Users/user/anaconda3/bin:/usr/local/bin:/usr/bin:/bin:/usr/sbin:/sbin', 'PWD': '/Users/user/Documents/GitHub/Script program/ScriptProgram', 'XPC_FLAGS': '0x0', 'XPC_SERVICE_NAME': '0', 'HOME': '/Users/user', 'SHLVL': '1', 'LOGNAME': 'user', 'LC_CTYPE': 'UTF-8', 'SECURITYSESSIONID': '186a6', '_': '/Users/user/anaconda3/bin/jupyter', 'JPY_PARENT_PID': '440', 'CLICOLOR': '1', 'PAGER': 'cat', 'GIT_PAGER': 'cat', 'MPLBACKEND': 'module://ipykernel.pylab.backend_inline'})\n",
      "HOME = environ({'TERM_PROGRAM': 'Apple_Terminal', 'TERM': 'xterm-color', 'SHELL': '/bin/bash', 'TMPDIR': '/var/folders/28/13xl240j7cd6zl0xj23fxq5m0000gn/T/', 'Apple_PubSub_Socket_Render': '/private/tmp/com.apple.launchd.hYCfKnNEev/Render', 'TERM_PROGRAM_VERSION': '388.1.2', 'TERM_SESSION_ID': 'B4C11EFB-9BE2-4E22-AF6F-2E0CA0467016', 'USER': 'user', 'SSH_AUTH_SOCK': '/private/tmp/com.apple.launchd.OtK6NANmip/Listeners', '__CF_USER_TEXT_ENCODING': '0x1F5:0x0:0x0', 'PATH': '/Users/user/anaconda3/bin:/Users/user/anaconda3/bin:/Users/user/anaconda3/bin:/usr/local/bin:/usr/bin:/bin:/usr/sbin:/sbin', 'PWD': '/Users/user/Documents/GitHub/Script program/ScriptProgram', 'XPC_FLAGS': '0x0', 'XPC_SERVICE_NAME': '0', 'HOME': '/Users/user', 'SHLVL': '1', 'LOGNAME': 'user', 'LC_CTYPE': 'UTF-8', 'SECURITYSESSIONID': '186a6', '_': '/Users/user/anaconda3/bin/jupyter', 'JPY_PARENT_PID': '440', 'CLICOLOR': '1', 'PAGER': 'cat', 'GIT_PAGER': 'cat', 'MPLBACKEND': 'module://ipykernel.pylab.backend_inline'})\n",
      "SHLVL = environ({'TERM_PROGRAM': 'Apple_Terminal', 'TERM': 'xterm-color', 'SHELL': '/bin/bash', 'TMPDIR': '/var/folders/28/13xl240j7cd6zl0xj23fxq5m0000gn/T/', 'Apple_PubSub_Socket_Render': '/private/tmp/com.apple.launchd.hYCfKnNEev/Render', 'TERM_PROGRAM_VERSION': '388.1.2', 'TERM_SESSION_ID': 'B4C11EFB-9BE2-4E22-AF6F-2E0CA0467016', 'USER': 'user', 'SSH_AUTH_SOCK': '/private/tmp/com.apple.launchd.OtK6NANmip/Listeners', '__CF_USER_TEXT_ENCODING': '0x1F5:0x0:0x0', 'PATH': '/Users/user/anaconda3/bin:/Users/user/anaconda3/bin:/Users/user/anaconda3/bin:/usr/local/bin:/usr/bin:/bin:/usr/sbin:/sbin', 'PWD': '/Users/user/Documents/GitHub/Script program/ScriptProgram', 'XPC_FLAGS': '0x0', 'XPC_SERVICE_NAME': '0', 'HOME': '/Users/user', 'SHLVL': '1', 'LOGNAME': 'user', 'LC_CTYPE': 'UTF-8', 'SECURITYSESSIONID': '186a6', '_': '/Users/user/anaconda3/bin/jupyter', 'JPY_PARENT_PID': '440', 'CLICOLOR': '1', 'PAGER': 'cat', 'GIT_PAGER': 'cat', 'MPLBACKEND': 'module://ipykernel.pylab.backend_inline'})\n",
      "LOGNAME = environ({'TERM_PROGRAM': 'Apple_Terminal', 'TERM': 'xterm-color', 'SHELL': '/bin/bash', 'TMPDIR': '/var/folders/28/13xl240j7cd6zl0xj23fxq5m0000gn/T/', 'Apple_PubSub_Socket_Render': '/private/tmp/com.apple.launchd.hYCfKnNEev/Render', 'TERM_PROGRAM_VERSION': '388.1.2', 'TERM_SESSION_ID': 'B4C11EFB-9BE2-4E22-AF6F-2E0CA0467016', 'USER': 'user', 'SSH_AUTH_SOCK': '/private/tmp/com.apple.launchd.OtK6NANmip/Listeners', '__CF_USER_TEXT_ENCODING': '0x1F5:0x0:0x0', 'PATH': '/Users/user/anaconda3/bin:/Users/user/anaconda3/bin:/Users/user/anaconda3/bin:/usr/local/bin:/usr/bin:/bin:/usr/sbin:/sbin', 'PWD': '/Users/user/Documents/GitHub/Script program/ScriptProgram', 'XPC_FLAGS': '0x0', 'XPC_SERVICE_NAME': '0', 'HOME': '/Users/user', 'SHLVL': '1', 'LOGNAME': 'user', 'LC_CTYPE': 'UTF-8', 'SECURITYSESSIONID': '186a6', '_': '/Users/user/anaconda3/bin/jupyter', 'JPY_PARENT_PID': '440', 'CLICOLOR': '1', 'PAGER': 'cat', 'GIT_PAGER': 'cat', 'MPLBACKEND': 'module://ipykernel.pylab.backend_inline'})\n",
      "LC_CTYPE = environ({'TERM_PROGRAM': 'Apple_Terminal', 'TERM': 'xterm-color', 'SHELL': '/bin/bash', 'TMPDIR': '/var/folders/28/13xl240j7cd6zl0xj23fxq5m0000gn/T/', 'Apple_PubSub_Socket_Render': '/private/tmp/com.apple.launchd.hYCfKnNEev/Render', 'TERM_PROGRAM_VERSION': '388.1.2', 'TERM_SESSION_ID': 'B4C11EFB-9BE2-4E22-AF6F-2E0CA0467016', 'USER': 'user', 'SSH_AUTH_SOCK': '/private/tmp/com.apple.launchd.OtK6NANmip/Listeners', '__CF_USER_TEXT_ENCODING': '0x1F5:0x0:0x0', 'PATH': '/Users/user/anaconda3/bin:/Users/user/anaconda3/bin:/Users/user/anaconda3/bin:/usr/local/bin:/usr/bin:/bin:/usr/sbin:/sbin', 'PWD': '/Users/user/Documents/GitHub/Script program/ScriptProgram', 'XPC_FLAGS': '0x0', 'XPC_SERVICE_NAME': '0', 'HOME': '/Users/user', 'SHLVL': '1', 'LOGNAME': 'user', 'LC_CTYPE': 'UTF-8', 'SECURITYSESSIONID': '186a6', '_': '/Users/user/anaconda3/bin/jupyter', 'JPY_PARENT_PID': '440', 'CLICOLOR': '1', 'PAGER': 'cat', 'GIT_PAGER': 'cat', 'MPLBACKEND': 'module://ipykernel.pylab.backend_inline'})\n",
      "SECURITYSESSIONID = environ({'TERM_PROGRAM': 'Apple_Terminal', 'TERM': 'xterm-color', 'SHELL': '/bin/bash', 'TMPDIR': '/var/folders/28/13xl240j7cd6zl0xj23fxq5m0000gn/T/', 'Apple_PubSub_Socket_Render': '/private/tmp/com.apple.launchd.hYCfKnNEev/Render', 'TERM_PROGRAM_VERSION': '388.1.2', 'TERM_SESSION_ID': 'B4C11EFB-9BE2-4E22-AF6F-2E0CA0467016', 'USER': 'user', 'SSH_AUTH_SOCK': '/private/tmp/com.apple.launchd.OtK6NANmip/Listeners', '__CF_USER_TEXT_ENCODING': '0x1F5:0x0:0x0', 'PATH': '/Users/user/anaconda3/bin:/Users/user/anaconda3/bin:/Users/user/anaconda3/bin:/usr/local/bin:/usr/bin:/bin:/usr/sbin:/sbin', 'PWD': '/Users/user/Documents/GitHub/Script program/ScriptProgram', 'XPC_FLAGS': '0x0', 'XPC_SERVICE_NAME': '0', 'HOME': '/Users/user', 'SHLVL': '1', 'LOGNAME': 'user', 'LC_CTYPE': 'UTF-8', 'SECURITYSESSIONID': '186a6', '_': '/Users/user/anaconda3/bin/jupyter', 'JPY_PARENT_PID': '440', 'CLICOLOR': '1', 'PAGER': 'cat', 'GIT_PAGER': 'cat', 'MPLBACKEND': 'module://ipykernel.pylab.backend_inline'})\n",
      "_ = environ({'TERM_PROGRAM': 'Apple_Terminal', 'TERM': 'xterm-color', 'SHELL': '/bin/bash', 'TMPDIR': '/var/folders/28/13xl240j7cd6zl0xj23fxq5m0000gn/T/', 'Apple_PubSub_Socket_Render': '/private/tmp/com.apple.launchd.hYCfKnNEev/Render', 'TERM_PROGRAM_VERSION': '388.1.2', 'TERM_SESSION_ID': 'B4C11EFB-9BE2-4E22-AF6F-2E0CA0467016', 'USER': 'user', 'SSH_AUTH_SOCK': '/private/tmp/com.apple.launchd.OtK6NANmip/Listeners', '__CF_USER_TEXT_ENCODING': '0x1F5:0x0:0x0', 'PATH': '/Users/user/anaconda3/bin:/Users/user/anaconda3/bin:/Users/user/anaconda3/bin:/usr/local/bin:/usr/bin:/bin:/usr/sbin:/sbin', 'PWD': '/Users/user/Documents/GitHub/Script program/ScriptProgram', 'XPC_FLAGS': '0x0', 'XPC_SERVICE_NAME': '0', 'HOME': '/Users/user', 'SHLVL': '1', 'LOGNAME': 'user', 'LC_CTYPE': 'UTF-8', 'SECURITYSESSIONID': '186a6', '_': '/Users/user/anaconda3/bin/jupyter', 'JPY_PARENT_PID': '440', 'CLICOLOR': '1', 'PAGER': 'cat', 'GIT_PAGER': 'cat', 'MPLBACKEND': 'module://ipykernel.pylab.backend_inline'})\n",
      "JPY_PARENT_PID = environ({'TERM_PROGRAM': 'Apple_Terminal', 'TERM': 'xterm-color', 'SHELL': '/bin/bash', 'TMPDIR': '/var/folders/28/13xl240j7cd6zl0xj23fxq5m0000gn/T/', 'Apple_PubSub_Socket_Render': '/private/tmp/com.apple.launchd.hYCfKnNEev/Render', 'TERM_PROGRAM_VERSION': '388.1.2', 'TERM_SESSION_ID': 'B4C11EFB-9BE2-4E22-AF6F-2E0CA0467016', 'USER': 'user', 'SSH_AUTH_SOCK': '/private/tmp/com.apple.launchd.OtK6NANmip/Listeners', '__CF_USER_TEXT_ENCODING': '0x1F5:0x0:0x0', 'PATH': '/Users/user/anaconda3/bin:/Users/user/anaconda3/bin:/Users/user/anaconda3/bin:/usr/local/bin:/usr/bin:/bin:/usr/sbin:/sbin', 'PWD': '/Users/user/Documents/GitHub/Script program/ScriptProgram', 'XPC_FLAGS': '0x0', 'XPC_SERVICE_NAME': '0', 'HOME': '/Users/user', 'SHLVL': '1', 'LOGNAME': 'user', 'LC_CTYPE': 'UTF-8', 'SECURITYSESSIONID': '186a6', '_': '/Users/user/anaconda3/bin/jupyter', 'JPY_PARENT_PID': '440', 'CLICOLOR': '1', 'PAGER': 'cat', 'GIT_PAGER': 'cat', 'MPLBACKEND': 'module://ipykernel.pylab.backend_inline'})\n",
      "CLICOLOR = environ({'TERM_PROGRAM': 'Apple_Terminal', 'TERM': 'xterm-color', 'SHELL': '/bin/bash', 'TMPDIR': '/var/folders/28/13xl240j7cd6zl0xj23fxq5m0000gn/T/', 'Apple_PubSub_Socket_Render': '/private/tmp/com.apple.launchd.hYCfKnNEev/Render', 'TERM_PROGRAM_VERSION': '388.1.2', 'TERM_SESSION_ID': 'B4C11EFB-9BE2-4E22-AF6F-2E0CA0467016', 'USER': 'user', 'SSH_AUTH_SOCK': '/private/tmp/com.apple.launchd.OtK6NANmip/Listeners', '__CF_USER_TEXT_ENCODING': '0x1F5:0x0:0x0', 'PATH': '/Users/user/anaconda3/bin:/Users/user/anaconda3/bin:/Users/user/anaconda3/bin:/usr/local/bin:/usr/bin:/bin:/usr/sbin:/sbin', 'PWD': '/Users/user/Documents/GitHub/Script program/ScriptProgram', 'XPC_FLAGS': '0x0', 'XPC_SERVICE_NAME': '0', 'HOME': '/Users/user', 'SHLVL': '1', 'LOGNAME': 'user', 'LC_CTYPE': 'UTF-8', 'SECURITYSESSIONID': '186a6', '_': '/Users/user/anaconda3/bin/jupyter', 'JPY_PARENT_PID': '440', 'CLICOLOR': '1', 'PAGER': 'cat', 'GIT_PAGER': 'cat', 'MPLBACKEND': 'module://ipykernel.pylab.backend_inline'})\n",
      "PAGER = environ({'TERM_PROGRAM': 'Apple_Terminal', 'TERM': 'xterm-color', 'SHELL': '/bin/bash', 'TMPDIR': '/var/folders/28/13xl240j7cd6zl0xj23fxq5m0000gn/T/', 'Apple_PubSub_Socket_Render': '/private/tmp/com.apple.launchd.hYCfKnNEev/Render', 'TERM_PROGRAM_VERSION': '388.1.2', 'TERM_SESSION_ID': 'B4C11EFB-9BE2-4E22-AF6F-2E0CA0467016', 'USER': 'user', 'SSH_AUTH_SOCK': '/private/tmp/com.apple.launchd.OtK6NANmip/Listeners', '__CF_USER_TEXT_ENCODING': '0x1F5:0x0:0x0', 'PATH': '/Users/user/anaconda3/bin:/Users/user/anaconda3/bin:/Users/user/anaconda3/bin:/usr/local/bin:/usr/bin:/bin:/usr/sbin:/sbin', 'PWD': '/Users/user/Documents/GitHub/Script program/ScriptProgram', 'XPC_FLAGS': '0x0', 'XPC_SERVICE_NAME': '0', 'HOME': '/Users/user', 'SHLVL': '1', 'LOGNAME': 'user', 'LC_CTYPE': 'UTF-8', 'SECURITYSESSIONID': '186a6', '_': '/Users/user/anaconda3/bin/jupyter', 'JPY_PARENT_PID': '440', 'CLICOLOR': '1', 'PAGER': 'cat', 'GIT_PAGER': 'cat', 'MPLBACKEND': 'module://ipykernel.pylab.backend_inline'})\n",
      "GIT_PAGER = environ({'TERM_PROGRAM': 'Apple_Terminal', 'TERM': 'xterm-color', 'SHELL': '/bin/bash', 'TMPDIR': '/var/folders/28/13xl240j7cd6zl0xj23fxq5m0000gn/T/', 'Apple_PubSub_Socket_Render': '/private/tmp/com.apple.launchd.hYCfKnNEev/Render', 'TERM_PROGRAM_VERSION': '388.1.2', 'TERM_SESSION_ID': 'B4C11EFB-9BE2-4E22-AF6F-2E0CA0467016', 'USER': 'user', 'SSH_AUTH_SOCK': '/private/tmp/com.apple.launchd.OtK6NANmip/Listeners', '__CF_USER_TEXT_ENCODING': '0x1F5:0x0:0x0', 'PATH': '/Users/user/anaconda3/bin:/Users/user/anaconda3/bin:/Users/user/anaconda3/bin:/usr/local/bin:/usr/bin:/bin:/usr/sbin:/sbin', 'PWD': '/Users/user/Documents/GitHub/Script program/ScriptProgram', 'XPC_FLAGS': '0x0', 'XPC_SERVICE_NAME': '0', 'HOME': '/Users/user', 'SHLVL': '1', 'LOGNAME': 'user', 'LC_CTYPE': 'UTF-8', 'SECURITYSESSIONID': '186a6', '_': '/Users/user/anaconda3/bin/jupyter', 'JPY_PARENT_PID': '440', 'CLICOLOR': '1', 'PAGER': 'cat', 'GIT_PAGER': 'cat', 'MPLBACKEND': 'module://ipykernel.pylab.backend_inline'})\n",
      "MPLBACKEND = environ({'TERM_PROGRAM': 'Apple_Terminal', 'TERM': 'xterm-color', 'SHELL': '/bin/bash', 'TMPDIR': '/var/folders/28/13xl240j7cd6zl0xj23fxq5m0000gn/T/', 'Apple_PubSub_Socket_Render': '/private/tmp/com.apple.launchd.hYCfKnNEev/Render', 'TERM_PROGRAM_VERSION': '388.1.2', 'TERM_SESSION_ID': 'B4C11EFB-9BE2-4E22-AF6F-2E0CA0467016', 'USER': 'user', 'SSH_AUTH_SOCK': '/private/tmp/com.apple.launchd.OtK6NANmip/Listeners', '__CF_USER_TEXT_ENCODING': '0x1F5:0x0:0x0', 'PATH': '/Users/user/anaconda3/bin:/Users/user/anaconda3/bin:/Users/user/anaconda3/bin:/usr/local/bin:/usr/bin:/bin:/usr/sbin:/sbin', 'PWD': '/Users/user/Documents/GitHub/Script program/ScriptProgram', 'XPC_FLAGS': '0x0', 'XPC_SERVICE_NAME': '0', 'HOME': '/Users/user', 'SHLVL': '1', 'LOGNAME': 'user', 'LC_CTYPE': 'UTF-8', 'SECURITYSESSIONID': '186a6', '_': '/Users/user/anaconda3/bin/jupyter', 'JPY_PARENT_PID': '440', 'CLICOLOR': '1', 'PAGER': 'cat', 'GIT_PAGER': 'cat', 'MPLBACKEND': 'module://ipykernel.pylab.backend_inline'})\n"
     ]
    }
   ],
   "source": [
    "import os\n",
    "\n",
    "for item in os.environ:\n",
    "    print(\"%s = %s\" % (item, os.environ))"
   ]
  },
  {
   "cell_type": "code",
   "execution_count": 20,
   "metadata": {},
   "outputs": [
    {
     "name": "stdout",
     "output_type": "stream",
     "text": [
      "None\n"
     ]
    },
    {
     "ename": "ModuleNotFoundError",
     "evalue": "No module named 'qqq'",
     "output_type": "error",
     "traceback": [
      "\u001b[0;31m---------------------------------------------------------------------------\u001b[0m",
      "\u001b[0;31mModuleNotFoundError\u001b[0m                       Traceback (most recent call last)",
      "\u001b[0;32m<ipython-input-20-a04d4683ae74>\u001b[0m in \u001b[0;36m<module>\u001b[0;34m()\u001b[0m\n\u001b[1;32m      1\u001b[0m \u001b[0;32mimport\u001b[0m \u001b[0msys\u001b[0m\u001b[0;34m\u001b[0m\u001b[0m\n\u001b[1;32m      2\u001b[0m \u001b[0mprint\u001b[0m\u001b[0;34m(\u001b[0m\u001b[0msys\u001b[0m\u001b[0;34m.\u001b[0m\u001b[0mpath\u001b[0m\u001b[0;34m.\u001b[0m\u001b[0mappend\u001b[0m\u001b[0;34m(\u001b[0m\u001b[0;34m\"c:\\\\\"\u001b[0m\u001b[0;34m)\u001b[0m\u001b[0;34m)\u001b[0m\u001b[0;34m\u001b[0m\u001b[0m\n\u001b[0;32m----> 3\u001b[0;31m \u001b[0;32mimport\u001b[0m \u001b[0mqqq\u001b[0m\u001b[0;34m\u001b[0m\u001b[0m\n\u001b[0m\u001b[1;32m      4\u001b[0m \u001b[0mprint\u001b[0m\u001b[0;34m(\u001b[0m\u001b[0mqqq\u001b[0m\u001b[0;34m.\u001b[0m\u001b[0maaaa\u001b[0m\u001b[0;34m)\u001b[0m\u001b[0;34m\u001b[0m\u001b[0m\n",
      "\u001b[0;31mModuleNotFoundError\u001b[0m: No module named 'qqq'"
     ]
    }
   ],
   "source": [
    "import sys\n",
    "print(sys.path.append(\"c:\\\\\")) #파이썬 디렉토리에없어도 위에 두개를 쓰면 다른곳에 있는 것을 임포트 가능\n",
    "import qqq\n",
    "print(qqq.aaaa)"
   ]
  },
  {
   "cell_type": "code",
   "execution_count": null,
   "metadata": {},
   "outputs": [],
   "source": []
  }
 ],
 "metadata": {
  "kernelspec": {
   "display_name": "Python 3",
   "language": "python",
   "name": "python3"
  },
  "language_info": {
   "codemirror_mode": {
    "name": "ipython",
    "version": 3
   },
   "file_extension": ".py",
   "mimetype": "text/x-python",
   "name": "python",
   "nbconvert_exporter": "python",
   "pygments_lexer": "ipython3",
   "version": "3.6.5"
  }
 },
 "nbformat": 4,
 "nbformat_minor": 2
}
