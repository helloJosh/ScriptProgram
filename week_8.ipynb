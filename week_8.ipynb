{
 "cells": [
  {
   "cell_type": "code",
   "execution_count": 1,
   "metadata": {},
   "outputs": [
    {
     "name": "stdout",
     "output_type": "stream",
     "text": [
      "!\"#$%&'()*+,-./:;<=>?@[\\]^_`{|}~\n"
     ]
    }
   ],
   "source": [
    "import string\n",
    "print(string.punctuation)"
   ]
  },
  {
   "cell_type": "code",
   "execution_count": 4,
   "metadata": {},
   "outputs": [
    {
     "name": "stdout",
     "output_type": "stream",
     "text": [
      "[0, 1, 4, 9, 16, 25, 36, 49, 64, 81]\n",
      "[1, 9, 25, 49, 81]\n"
     ]
    }
   ],
   "source": [
    "L = [k * k for k in range(10)]\n",
    "print(L)\n",
    "\n",
    "L = [k * k for k in range(10) if k%2]\n",
    "print(L)\n",
    "\n",
    "#리스트 내포"
   ]
  },
  {
   "cell_type": "code",
   "execution_count": 6,
   "metadata": {},
   "outputs": [
    {
     "name": "stdout",
     "output_type": "stream",
     "text": [
      "[('a', 1), ('b', 2), ('c', 3)]\n"
     ]
    }
   ],
   "source": [
    "seq1 ='abc'\n",
    "seq2 = (1,2,3,4)\n",
    "q = zip(seq1, seq2)\n",
    "\n",
    "print(list(q))"
   ]
  },
  {
   "cell_type": "code",
   "execution_count": 7,
   "metadata": {},
   "outputs": [
    {
     "name": "stdout",
     "output_type": "stream",
     "text": [
      "[(2, 12, 24), (4, 3, 12), (6, 15, 90), (8, 6, 48), (10, 18, 180), (12, 9, 108), (16, 12, 192), (18, 3, 54)]\n"
     ]
    }
   ],
   "source": [
    "L = [(i,j,i*j) for i in range(2, 20, 2)\n",
    "     for j in range(3, 20, 3) if (i+j)%7 == 0]\n",
    "print(L)"
   ]
  },
  {
   "cell_type": "code",
   "execution_count": 10,
   "metadata": {},
   "outputs": [
    {
     "name": "stdout",
     "output_type": "stream",
     "text": [
      "[['THE', 'the', 3], ['QUICK', 'quick', 5], ['BROWN', 'brown', 5], ['FOX', 'fox', 3], ['JUPS', 'jups', 4], ['OVER', 'over', 4], ['THE', 'the', 3], ['LAZY', 'lazy', 4], ['DOG', 'dog', 3]]\n",
      "\n",
      "['THE', 'the', 3]\n",
      "['QUICK', 'quick', 5]\n",
      "['BROWN', 'brown', 5]\n",
      "['FOX', 'fox', 3]\n",
      "['JUPS', 'jups', 4]\n",
      "['OVER', 'over', 4]\n",
      "['THE', 'the', 3]\n",
      "['LAZY', 'lazy', 4]\n",
      "['DOG', 'dog', 3]\n"
     ]
    }
   ],
   "source": [
    "words ='The quick brown fox jups over the lazy dog'.split()\n",
    "stuff = [[w.upper(), w.lower(), len(w)]for w in words]\n",
    "print(stuff) #리스트 안에 리스트\n",
    "print()\n",
    "for i in stuff:\n",
    "    print(i)"
   ]
  },
  {
   "cell_type": "code",
   "execution_count": 12,
   "metadata": {},
   "outputs": [
    {
     "name": "stdout",
     "output_type": "stream",
     "text": [
      "[(3, 4, 5), (5, 12, 13), (6, 8, 10), (7, 24, 25), (8, 15, 17), (9, 12, 15), (9, 40, 41), (10, 24, 26), (11, 60, 61), (12, 16, 20), (12, 35, 37), (13, 84, 85), (14, 48, 50), (15, 20, 25), (15, 36, 39), (15, 112, 113), (16, 30, 34), (16, 63, 65), (17, 144, 145), (18, 24, 30), (18, 80, 82), (19, 180, 181), (20, 21, 29), (20, 48, 52), (20, 99, 101), (21, 28, 35), (21, 72, 75), (21, 220, 221), (22, 120, 122), (23, 264, 265), (24, 32, 40), (24, 45, 51), (24, 70, 74), (24, 143, 145), (25, 60, 65), (26, 168, 170), (27, 36, 45), (27, 120, 123), (28, 45, 53), (28, 96, 100), (28, 195, 197), (30, 40, 50), (30, 72, 78), (30, 224, 226), (32, 60, 68), (32, 126, 130), (32, 255, 257), (33, 44, 55), (33, 56, 65), (33, 180, 183), (34, 288, 290), (35, 84, 91), (35, 120, 125), (36, 48, 60), (36, 77, 85), (36, 105, 111), (36, 160, 164), (39, 52, 65), (39, 80, 89), (39, 252, 255), (40, 42, 58), (40, 75, 85), (40, 96, 104), (40, 198, 202), (42, 56, 70), (42, 144, 150), (44, 117, 125), (44, 240, 244), (45, 60, 75), (45, 108, 117), (45, 200, 205), (48, 55, 73), (48, 64, 80), (48, 90, 102), (48, 140, 148), (48, 189, 195), (48, 286, 290), (49, 168, 175), (50, 120, 130), (51, 68, 85), (51, 140, 149), (52, 165, 173), (54, 72, 90), (54, 240, 246), (55, 132, 143), (56, 90, 106), (56, 105, 119), (56, 192, 200), (57, 76, 95), (57, 176, 185), (60, 63, 87), (60, 80, 100), (60, 91, 109), (60, 144, 156), (60, 175, 185), (60, 221, 229), (63, 84, 105), (63, 216, 225), (63, 280, 287), (64, 120, 136), (64, 252, 260), (65, 72, 97), (65, 156, 169), (66, 88, 110), (66, 112, 130), (68, 285, 293), (69, 92, 115), (69, 260, 269), (70, 168, 182), (70, 240, 250), (72, 96, 120), (72, 135, 153), (72, 154, 170), (72, 210, 222), (75, 100, 125), (75, 180, 195), (77, 264, 275), (78, 104, 130), (78, 160, 178), (80, 84, 116), (80, 150, 170), (80, 192, 208), (81, 108, 135), (84, 112, 140), (84, 135, 159), (84, 187, 205), (84, 245, 259), (85, 132, 157), (85, 204, 221), (87, 116, 145), (88, 105, 137), (88, 165, 187), (88, 234, 250), (90, 120, 150), (90, 216, 234), (93, 124, 155), (95, 168, 193), (95, 228, 247), (96, 110, 146), (96, 128, 160), (96, 180, 204), (96, 247, 265), (96, 280, 296), (99, 132, 165), (99, 168, 195), (100, 105, 145), (100, 240, 260), (102, 136, 170), (102, 280, 298), (104, 153, 185), (104, 195, 221), (105, 140, 175), (105, 208, 233), (105, 252, 273), (108, 144, 180), (108, 231, 255), (110, 264, 286), (111, 148, 185), (112, 180, 212), (112, 210, 238), (114, 152, 190), (115, 252, 277), (115, 276, 299), (117, 156, 195), (117, 240, 267), (119, 120, 169), (120, 126, 174), (120, 160, 200), (120, 182, 218), (120, 209, 241), (120, 225, 255), (123, 164, 205), (126, 168, 210), (128, 240, 272), (129, 172, 215), (130, 144, 194), (132, 176, 220), (132, 224, 260), (133, 156, 205), (135, 180, 225), (136, 255, 289), (138, 184, 230), (140, 147, 203), (140, 171, 221), (140, 225, 265), (141, 188, 235), (144, 165, 219), (144, 192, 240), (147, 196, 245), (150, 200, 250), (153, 204, 255), (156, 208, 260), (159, 212, 265), (160, 168, 232), (160, 231, 281), (161, 240, 289), (162, 216, 270), (165, 220, 275), (168, 224, 280), (171, 228, 285), (174, 232, 290), (176, 210, 274), (177, 236, 295), (180, 189, 261), (192, 220, 292), (195, 216, 291), (200, 210, 290)]\n"
     ]
    }
   ],
   "source": [
    "k = [(x, y, z)\n",
    "    for x in range(1,300)\n",
    "    for y in range(x, 300)\n",
    "    for z in range(y, 300) if x**2 + y**2 == z**2]\n",
    "#직각 삼각형을 만들수 있는 x, y, z\n",
    "\n",
    "print(k)"
   ]
  },
  {
   "cell_type": "code",
   "execution_count": 13,
   "metadata": {},
   "outputs": [],
   "source": [
    "r1 = (1,) #튜플\n",
    "r2 = (1) #int"
   ]
  },
  {
   "cell_type": "code",
   "execution_count": 16,
   "metadata": {},
   "outputs": [
    {
     "name": "stdout",
     "output_type": "stream",
     "text": [
      "((12345, 54321, 'hello!'), (1, 2, 3, 4, 5))\n",
      "([1, 2, 3], (1, 2, 4))\n",
      "({1: 'abc', 2: 'def'}, (1, 2, 3))\n"
     ]
    }
   ],
   "source": [
    "t = (12345, 54321, 'hello!')\n",
    "u = t, (1,2,3,4,5)\n",
    "print(u)\n",
    "\n",
    "t2 = [1,2,3]\n",
    "u2 = t2, (1,2,4)\n",
    "print(u2)\n",
    "\n",
    "t3 = {1:\"abc\", 2: \"def\"}\n",
    "u3 = t3, (1,2,3)\n",
    "print(u3)"
   ]
  },
  {
   "cell_type": "code",
   "execution_count": 17,
   "metadata": {},
   "outputs": [
    {
     "name": "stdout",
     "output_type": "stream",
     "text": [
      "<class 'int'> <class 'int'> <class 'int'>\n"
     ]
    }
   ],
   "source": [
    "x, y, z = 1,2,3 #Unpacking, Packing\n",
    "print(type(x), type(y), type(z))"
   ]
  },
  {
   "cell_type": "code",
   "execution_count": 18,
   "metadata": {},
   "outputs": [
    {
     "name": "stdout",
     "output_type": "stream",
     "text": [
      "2 1\n"
     ]
    }
   ],
   "source": [
    "x = 1\n",
    "y = 2\n",
    "x, y = y, x\n",
    "print(x,y)"
   ]
  },
  {
   "cell_type": "code",
   "execution_count": 19,
   "metadata": {},
   "outputs": [
    {
     "name": "stdout",
     "output_type": "stream",
     "text": [
      "dict_items([('one', 1), ('two', 2)])\n"
     ]
    }
   ],
   "source": [
    "d = {'one' : 1, 'two' : 2}\n",
    "print(d.items())"
   ]
  },
  {
   "cell_type": "code",
   "execution_count": 25,
   "metadata": {},
   "outputs": [
    {
     "name": "stdout",
     "output_type": "stream",
     "text": [
      "{1, 2, 3}\n",
      "\n",
      "[1, 2, 3]\n"
     ]
    }
   ],
   "source": [
    "a = set([1,2,3])\n",
    "a = [1,2,2,2,2,2,3,3]\n",
    "b = set(a)\n",
    "print(b)\n",
    "print()\n",
    "b = list(set(a))\n",
    "print(b)"
   ]
  },
  {
   "cell_type": "code",
   "execution_count": 27,
   "metadata": {},
   "outputs": [
    {
     "name": "stdout",
     "output_type": "stream",
     "text": [
      "[1, 2, 3, (1, 2, 3)]\n"
     ]
    }
   ],
   "source": [
    "a = [1,2,(1,2,3), (1,2,3),2,2,2,3]\n",
    "a = list(set(a))\n",
    "print(a)"
   ]
  },
  {
   "cell_type": "code",
   "execution_count": 28,
   "metadata": {},
   "outputs": [
    {
     "ename": "TypeError",
     "evalue": "unhashable type: 'list'",
     "output_type": "error",
     "traceback": [
      "\u001b[0;31m---------------------------------------------------------------------------\u001b[0m",
      "\u001b[0;31mTypeError\u001b[0m                                 Traceback (most recent call last)",
      "\u001b[0;32m<ipython-input-28-7b44a46808c0>\u001b[0m in \u001b[0;36m<module>\u001b[0;34m()\u001b[0m\n\u001b[1;32m      1\u001b[0m \u001b[0ma\u001b[0m \u001b[0;34m=\u001b[0m \u001b[0;34m[\u001b[0m\u001b[0;36m1\u001b[0m\u001b[0;34m,\u001b[0m\u001b[0;36m2\u001b[0m\u001b[0;34m,\u001b[0m\u001b[0;34m[\u001b[0m\u001b[0;36m1\u001b[0m\u001b[0;34m,\u001b[0m\u001b[0;36m2\u001b[0m\u001b[0;34m,\u001b[0m\u001b[0;36m3\u001b[0m\u001b[0;34m]\u001b[0m\u001b[0;34m,\u001b[0m \u001b[0;34m[\u001b[0m\u001b[0;36m1\u001b[0m\u001b[0;34m,\u001b[0m\u001b[0;36m2\u001b[0m\u001b[0;34m,\u001b[0m\u001b[0;36m3\u001b[0m\u001b[0;34m]\u001b[0m\u001b[0;34m,\u001b[0m\u001b[0;36m2\u001b[0m\u001b[0;34m,\u001b[0m\u001b[0;36m2\u001b[0m\u001b[0;34m,\u001b[0m\u001b[0;36m2\u001b[0m\u001b[0;34m,\u001b[0m\u001b[0;36m3\u001b[0m\u001b[0;34m]\u001b[0m\u001b[0;34m\u001b[0m\u001b[0m\n\u001b[0;32m----> 2\u001b[0;31m \u001b[0mb\u001b[0m \u001b[0;34m=\u001b[0m \u001b[0mset\u001b[0m\u001b[0;34m(\u001b[0m\u001b[0ma\u001b[0m\u001b[0;34m)\u001b[0m \u001b[0;31m#오류 리스트에 리스트\u001b[0m\u001b[0;34m\u001b[0m\u001b[0m\n\u001b[0m\u001b[1;32m      3\u001b[0m \u001b[0;34m\u001b[0m\u001b[0m\n\u001b[1;32m      4\u001b[0m \u001b[0;31m# set의 원소로는 변경불가능(Immutable)한 것만 할당 가능.\u001b[0m\u001b[0;34m\u001b[0m\u001b[0;34m\u001b[0m\u001b[0m\n",
      "\u001b[0;31mTypeError\u001b[0m: unhashable type: 'list'"
     ]
    }
   ],
   "source": [
    "a = [1,2,[1,2,3], [1,2,3],2,2,2,3]\n",
    "b = set(a) #오류 리스트에 리스트\n",
    "\n",
    "# set의 원소로는 변경불가능(Immutable)한 것만 할당 가능."
   ]
  },
  {
   "cell_type": "code",
   "execution_count": null,
   "metadata": {},
   "outputs": [],
   "source": []
  }
 ],
 "metadata": {
  "kernelspec": {
   "display_name": "Python 3",
   "language": "python",
   "name": "python3"
  },
  "language_info": {
   "codemirror_mode": {
    "name": "ipython",
    "version": 3
   },
   "file_extension": ".py",
   "mimetype": "text/x-python",
   "name": "python",
   "nbconvert_exporter": "python",
   "pygments_lexer": "ipython3",
   "version": "3.6.5"
  }
 },
 "nbformat": 4,
 "nbformat_minor": 2
}
