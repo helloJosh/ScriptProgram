{
 "cells": [
  {
   "cell_type": "code",
   "execution_count": 3,
   "metadata": {},
   "outputs": [
    {
     "name": "stdout",
     "output_type": "stream",
     "text": [
      "[' ', ' ', ' ', ' ', ' ', ' ', ' ', ' ', ' ', ' ', ' ', 'a', ' ', ' ', 'a', ' ', ' ', ' ', ' ', ' ', ' ', ' ', ' ', ' ', ' ', ' ', ' ', 'a', ' ', ' ', 'a', ' ', ' ', ' ', ' ', ' ', ' ', ' ', ' ', ' ', ' ', ' ', ' ']\n"
     ]
    }
   ],
   "source": [
    "source = \"<asdfasdf> a  a <asdfadsf> a  a  <asdfadsf>\"\n",
    "\n",
    "source_length = len(source)\n",
    "t_f = True\n",
    "newsource = list(source)\n",
    "\n",
    "for  i in range(source_length):\n",
    "    if source[i] == '<':\n",
    "        t_f = True\n",
    "    elif source[i] == '>':\n",
    "        t_f = False\n",
    "        newsource[i] = ' '\n",
    "    if t_f == True:\n",
    "        newsource[i] = ' '\n",
    "            \n",
    "print(newsource)"
   ]
  },
  {
   "cell_type": "code",
   "execution_count": null,
   "metadata": {},
   "outputs": [],
   "source": []
  }
 ],
 "metadata": {
  "kernelspec": {
   "display_name": "Python 3",
   "language": "python",
   "name": "python3"
  },
  "language_info": {
   "codemirror_mode": {
    "name": "ipython",
    "version": 3
   },
   "file_extension": ".py",
   "mimetype": "text/x-python",
   "name": "python",
   "nbconvert_exporter": "python",
   "pygments_lexer": "ipython3",
   "version": "3.6.5"
  }
 },
 "nbformat": 4,
 "nbformat_minor": 2
}
