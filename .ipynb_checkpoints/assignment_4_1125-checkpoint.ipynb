{
 "cells": [
  {
   "cell_type": "markdown",
   "metadata": {},
   "source": [
    "# 한국기술교육대 2013151008 김병우\n",
    "# 25-Nov-2018\n"
   ]
  },
  {
   "cell_type": "markdown",
   "metadata": {},
   "source": [
    "### [1번 문제]\n",
    "#### 파일 s.txt 내의 다음 내용과 함께 아래 문제의 코드를 제시하시오.\n",
    "> pig ham<br>\n",
    "> cat dog <br>\n",
    "> ham bird <br>\n",
    "> dog pig"
   ]
  },
  {
   "cell_type": "code",
   "execution_count": 1,
   "metadata": {},
   "outputs": [
    {
     "name": "stdout",
     "output_type": "stream",
     "text": [
      "/Users/user/Documents/GitHub/Script program/ScriptProgram\n"
     ]
    }
   ],
   "source": [
    "import os\n",
    "\n",
    "print(os.getcwd())"
   ]
  },
  {
   "cell_type": "code",
   "execution_count": 2,
   "metadata": {},
   "outputs": [],
   "source": [
    "s =\"\"\"pig ham\n",
    "cat dog\n",
    "ham bird\n",
    "dog pig\"\"\"\n",
    "f = open(\"s.txt\",'w')\n",
    "f.write(s)\n",
    "f.close()"
   ]
  },
  {
   "cell_type": "markdown",
   "metadata": {},
   "source": [
    "1) 파일 s.txt을 읽어서 각 라인에 있는 첫 번째 단어(문자열) 자체들을 기준으로 라인별 정렬후 파일 s1.txt에 그 결과를 기록하는 코드를 작성하시오. 즉, 프로그램 수행 후 s1.txt에 있는 파일 내용은 다음과 같다.\n",
    "\n",
    "> cat dog <br>\n",
    "> dog pig <br>\n",
    "> ham bird <br>\n",
    "> pig ham <br>"
   ]
  },
  {
   "cell_type": "code",
   "execution_count": 59,
   "metadata": {},
   "outputs": [
    {
     "name": "stdout",
     "output_type": "stream",
     "text": [
      "pig ham\n",
      "\n",
      "cat dog\n",
      "\n",
      "ham bird\n",
      "\n",
      "dog pig\n",
      "\n",
      "pig ham\n",
      "dog pig\n",
      "ham bird\n",
      "cat dog\n",
      "\n"
     ]
    }
   ],
   "source": [
    "f = open(\"s.txt\", 'r')\n",
    "lines = f.readlines()\n",
    "f.close()\n",
    "lines[3] = lines[3]+'\\n'\n",
    "f_lines = lines[0] + lines[3] + lines[2] + lines[1]\n",
    "\n",
    "print(f_lines)\n",
    "f1 = open(\"s1.txt\",'w')\n",
    "f1.write(f_lines)\n",
    "f1.close()"
   ]
  },
  {
   "cell_type": "markdown",
   "metadata": {},
   "source": [
    "라인 별로 리스트를 넣고 마지막에 개행 문자가 없어서 추가하고 순서대로 문장들을 합쳤습니다."
   ]
  },
  {
   "cell_type": "markdown",
   "metadata": {},
   "source": [
    " 2) 파일 s.txt을 읽어서 각 라인에 있는 두 번째 단어(문자열) 자체들을 기준으로 라인별 정렬후 파일 s2.txt에 그 결과를 기록하는 코드를 작성하시오. 즉, 프로그램 수행 후 s2.txt에 있는 파일 내용은 다음과 같다.\n",
    " \n",
    "> ham bird <br>\n",
    "> cat dog <br>\n",
    "> pig ham <br>\n",
    "> dog pig <br>"
   ]
  },
  {
   "cell_type": "code",
   "execution_count": 60,
   "metadata": {},
   "outputs": [
    {
     "name": "stdout",
     "output_type": "stream",
     "text": [
      "pig ham\n",
      "\n",
      "cat dog\n",
      "\n",
      "ham bird\n",
      "\n",
      "dog pig\n",
      "\n",
      "ham bird\n",
      "cat dog\n",
      "pig ham\n",
      "dog pig\n",
      "\n"
     ]
    }
   ],
   "source": [
    "f = open(\"s.txt\", 'r')\n",
    "lines = f.readlines()\n",
    "f.close()\n",
    "lines[3] = lines[3]+'\\n'\n",
    "f_lines = lines[2] + lines[1] + lines[0] + lines[3]\n",
    "print(f_lines)\n",
    "f1 = open(\"s2.txt\",'w')\n",
    "f1.write(f_lines)\n",
    "f1.close()"
   ]
  },
  {
   "cell_type": "markdown",
   "metadata": {},
   "source": [
    "1)번 문제와 같이 문장을 나눠서 순서대로 문장들을 합쳤습니다."
   ]
  },
  {
   "cell_type": "markdown",
   "metadata": {},
   "source": [
    "3) 파일 s.txt을 읽어서 각 라인들에 있는 모든 단어들을 순차적으로 다시 나열하되 각 라인에 세 개의 단어들이 오도록 하여 s3.txt에 기록하는 코드를 작성하시오. 즉, 프로그램 수행 후 s3.txt에 있는 파일 내용은 다음과 같다.\n",
    "\n",
    "> pig ham cat <br>\n",
    "> dog ham bird  \n",
    "> dog pig <br>"
   ]
  },
  {
   "cell_type": "code",
   "execution_count": 84,
   "metadata": {},
   "outputs": [
    {
     "name": "stdout",
     "output_type": "stream",
     "text": [
      "pig ham cat\n",
      "dog ham bird\n",
      "dog pig \n"
     ]
    }
   ],
   "source": [
    "f = open(\"s.txt\", 'r')\n",
    "s = f.read()\n",
    "\n",
    "list_s = s.split('\\n')\n",
    "string = ' '.join(list_s)\n",
    "s3 = string.split(' ')         \n",
    "#모든 단어들을 개행문자와 공백문자를 기준으로 나누어서 리스트에 대입\n",
    "\n",
    "for i in range(len(s3)):\n",
    "    if(i == 2 or i == 5):\n",
    "        s3[i] += '\\n'\n",
    "    else:\n",
    "        s3[i] += ' '\n",
    "#3번째와 6번째 문자에는 개행문자를 나머지는 공백문자를 다시 넣음        \n",
    "        \n",
    "txt_s = ''.join(s3)\n",
    "#나눈 것을 다시 다 합칩니다.\n",
    "f.close()\n",
    "print(txt_s)\n",
    "f3 = open(\"s3.txt\", 'w')\n",
    "f3.write(txt_s)\n",
    "f3.close()"
   ]
  },
  {
   "cell_type": "markdown",
   "metadata": {},
   "source": [
    "모든 문장들을 개행문자와 공백문자를 기준으로 나누어서 단어만 리스트에 각각 대입했습니다.  \n",
    "3번째와 6번째 단어에는 개행문자를 나머지는 공백문자를 넣어줬습니다.  \n",
    "그리고 마지막으로 나눈 것을 다 합쳤습니다."
   ]
  },
  {
   "cell_type": "markdown",
   "metadata": {},
   "source": [
    "### [2번 문제]\n",
    "#### 다음과 같은 조건들을 참고하여 회원 가입 및 로그인 프로그램을 작성하시오.\n",
    "\n",
    "1) 프로그램 시작 후 다음과 같은 메시지가 출력되어 1, 2, 3 중 하나의 값을 입력 받도록 한다.\n",
    "> Welcome to Our Service    \n",
    "> 1. Sign Up  \n",
    "> 2. Sign In  \n",
    "> 3. Quit  \n",
    "\n",
    "\n",
    "2) 1을 선택하면 ID, Password, Name, School의 4가지 정보를 입력받아 파일에 저장하는 프로그램을 작성한다.\n",
    "    - 2-1) 입력된 내용은 access.txt 라는 이름의 텍스트 파일 내에 저장된다.\n",
    "    - 2-2) access.txt 파일의 각 라인에는 가입된 회원 각각의 정보가 \"[id]: [password], [name], [school]\" 형태로 저장된다.\n",
    "    - 2-3) 즉, 가입 회원이 10명이면 access.txt 파일 내에 라인 수도 정확히 10개이다.\n",
    "    - 2-4) 암호화 방식은 sha 모듈을 활용한다. sha 모듈 활용 방법은 본 문제의 마지막에 제시된 sha 활용 예를 참고한다.\n",
    "        + 즉, access.txt 파일 내에 password 정보는 암호화 되어 저장되어야 한다.\n",
    "    - 2-5) 회원 정보를 입력 받을 때 id를 입력 받은 직후 access.txt를 확인하여 이미 존재하는 id가 입력되었다면 다음 메시지를 출력하고 id 정보를 다시 입력받는다.\n",
    "        + Sorry, the entered ID is already used.\n",
    "3) 2를 선택하면 ID, Password의 2가지 정보를 입력받는 프로그램을 작성한다.\n",
    "    - 3-1) 입력된 ID 정보가 access.txt에 존재하지 않으면 다음과 같은 메시지를 출력하고 다시 입력받는다.\n",
    "        + Sorry, you are not a registered member.\n",
    "    - 3-2) 입력된 ID가 올바르게 존재하지만 Password 정보가 access.txt 파일에 있는 정보와 불일치하면 다음과 같은 메시지를 출력하고 Password를 다시 입력받는다.\n",
    "        + Sorry, the entered password is not correct.\n",
    "        + 이 때에도 사용자가 입력한 Password 정보와 함께 sha 모듈이 활용되어야 한다.\n",
    "    - 3-3) 입력된 ID와 Password가 모두 올바르면 다음과 같은 메시지를 출력한다.\n",
    "        + Hello [name]!\n",
    "        + 위 [name]에는 access.txt에 기록되어 있는 name 정보를 출력한다.\n",
    "4) 3을 선택하면 프로그램이 끝난다.  \n",
    "[참고] sha 모듈 활용 예"
   ]
  },
  {
   "cell_type": "code",
   "execution_count": 13,
   "metadata": {
    "scrolled": true
   },
   "outputs": [
    {
     "name": "stdout",
     "output_type": "stream",
     "text": [
      "\n",
      "Welcome to Our Service\n",
      "  1.Sign Up\n",
      "  2.Sign In\n",
      "  3. Quit\n",
      "How may I help you?1\n",
      "\n",
      "Your ID : aaaa\n",
      "Your Password : 1111\n",
      "Your name : 1111\n",
      "Your school : 1111\n",
      "\n",
      "  1.Sign Up\n",
      "  2.Sign In\n",
      "  3. Quit\n",
      "\n",
      "How may I help you?1\n",
      "\n",
      "Your ID : bbbb\n",
      "Your Password : 1111\n",
      "Your name : 1111\n",
      "Your school : 1111\n",
      "\n",
      "  1.Sign Up\n",
      "  2.Sign In\n",
      "  3. Quit\n",
      "\n",
      "How may I help you?1\n",
      "\n",
      "Your ID : aaaa\n",
      "\n",
      "Sorry, the entered ID is already used\n",
      "\n",
      "\n",
      "  1.Sign Up\n",
      "  2.Sign In\n",
      "  3. Quit\n",
      "\n",
      "How may I help you?2\n",
      "\n",
      "Your ID: aaaa\n",
      "\n",
      "Your Password: 1111\n",
      "1111\n",
      "hello[aaaa]\n",
      "\n",
      "  1.Sign Up\n",
      "  2.Sign In\n",
      "  3. Quit\n",
      "\n",
      "How may I help you?2\n",
      "\n",
      "Your ID: bbbb\n",
      "\n",
      "Your Password: 123123\n",
      "123123\n",
      "Sorry, the entered password is not correct.\n",
      "\n",
      "  1.Sign Up\n",
      "  2.Sign In\n",
      "  3. Quit\n",
      "\n",
      "How may I help you?2\n",
      "\n",
      "Your ID: cccc\n",
      "Sorry, you are not a registered member.\n",
      "\n",
      "  1.Sign Up\n",
      "  2.Sign In\n",
      "  3. Quit\n",
      "\n",
      "How may I help you?3\n",
      "\n",
      "Bye\n"
     ]
    }
   ],
   "source": [
    "import uuid\n",
    "import hashlib\n",
    "\n",
    "# 비밀번호를 해쉬값으로 암호화하는 함수\n",
    "def hash_password(password):\n",
    "    salt = uuid.uuid4().hex\n",
    "    return hashlib.sha256(salt.encode() + password.encode()).hexdigest() + ';' + salt\n",
    "\n",
    "# 해쉬값으로 암호화한 비밀번호가 입력한 비밀번화와 같은지 검사하는 함수\n",
    "def check_hash_password(hashed_password, user_password):\n",
    "    password, salt = hashed_password.split(';')\n",
    "    return password == hashlib.sha256(salt.encode() + user_password.encode()).hexdigest()    \n",
    "\n",
    "# 지금까지 가입한 아이디만을 파일에서 추출해서  존재하는 아이디인지 아닌지 구별하는 함수\n",
    "def check_overlaped_id(id_input):\n",
    "    with open('access.txt', 'r') as f:\n",
    "        s = f.read()\n",
    "        s = s.replace(\":\",\"\")\n",
    "        s = s.replace(\"[\",\"\")\n",
    "        s = s.replace(\"]\",\"\")\n",
    "        s = s.replace(\",\",\"\")\n",
    "        s = s.replace(\"\\n\",\" \")\n",
    "        s_l = s.split(\" \")\n",
    "        s_l = [x for x in s_l if x]\n",
    "        s_lf =[]\n",
    "        for i in range(len(s_l)):\n",
    "            if(i%4 == 0):\n",
    "                s_lf.append(s_l[i])         #빈 리스트에 아이디만을 넣음\n",
    "        return(id_input in s_lf)\n",
    "\n",
    "# 입력한 아이디의 암호가 맞는지 구별하는 함수\n",
    "def check_passwd(id_input, passwd_input):\n",
    "    with open('access.txt', 'r') as f:\n",
    "        s = f.read()\n",
    "        s = s.replace(\":\",\"\")\n",
    "        s = s.replace(\"[\",\"\")\n",
    "        s = s.replace(\"]\",\"\")\n",
    "        s = s.replace(\",\",\"\")\n",
    "        s = s.replace(\"\\n\",\" \")\n",
    "        s_l = s.split(\" \")\n",
    "        s_l = [x for x in s_l if x]\n",
    "        for i in range(len(s_l)):\n",
    "            if(i%4 == 0):\n",
    "                if(s_l[i] == id_input):\n",
    "                    return check_hash_password(s_l[i+1],passwd_input)\n",
    "                \n",
    "# 텍스트파일에 아이디, 비밀번호, 이름, 학교를 기입하는 함수\n",
    "def signUp():\n",
    "    f = open(\"access.txt\", 'a')\n",
    "    id_input = str(input(\"\\nYour ID : \"))\n",
    "    if(check_overlaped_id(id_input)):\n",
    "        print('\\nSorry, the entered ID is already used\\n')\n",
    "        return 0\n",
    "    passwd = str(input(\"Your Password : \"))\n",
    "    name = str(input(\"Your name : \"))\n",
    "    school = str(input(\"Your school : \"))\n",
    "    input_data = \"[\" + id_input + \"] :  [\" +hash_password(passwd)+ \"], [\" +name+\"], [\" +school+ \"]\\n\"\n",
    "    f.write(input_data)\n",
    "    f.close()\n",
    "    \n",
    "# 서비스에서 로그인하는 함수\n",
    "def signIn():\n",
    "    id_input = str(input(\"\\nYour ID: \"))\n",
    "    if(check_overlaped_id(id_input) == 0):\n",
    "        print(\"Sorry, you are not a registered member.\")\n",
    "        return 0\n",
    "    else:\n",
    "        passwd_input = str(input(\"\\nYour Password: \"))\n",
    "        print(passwd_input)\n",
    "        if(check_passwd(id_input, passwd_input)):\n",
    "            print(\"hello\"+\"[\"+id_input+\"]\")\n",
    "        else:\n",
    "            print(\"Sorry, the entered password is not correct.\")\n",
    "            return 0\n",
    "        \n",
    "# 서비스를 고르게하는 함수\n",
    "def Service():\n",
    "    service_Number = int(input(\"\\nWelcome to Our Service\\n  1.Sign Up\\n  2.Sign In\\n  3. Quit\\nHow may I help you?\"))\n",
    "    while(service_Number != 3):\n",
    "        if(service_Number == 1):\n",
    "            signUp()\n",
    "        elif(service_Number == 2):\n",
    "            signIn()\n",
    "        service_Number = int(input(\"\\n  1.Sign Up\\n  2.Sign In\\n  3. Quit\\n\\nHow may I help you?\"))\n",
    "        \n",
    "    print(\"\\nBye\")\n",
    "\n",
    "Service()"
   ]
  },
  {
   "cell_type": "markdown",
   "metadata": {},
   "source": [
    "### [3번 문제]\n",
    "#### range() 함수와 유사한 frange() 함수를 다음 조건을 참고하여 만드시오.\n",
    "    - 1) frange()의 인자 구성은 다음과 같이 range와 동일하지만 각 인수들은 음수를 받지 않는다고 가정한다.\n",
    "        + range(stop)\n",
    "        + range(start, stop[, step])\n",
    "\n",
    "    - 2) frange() 함수의 인자에 대한 기본 시작(start) 값은 0.0이고, 기본 단계(step) 값은 0.1이다.\n",
    "    - 3) frange 사용 예\n",
    "        + 3-1) frange(0.5)\n",
    "            [0.0, 0.1, 0.2, 0.3, 0.4]\n",
    "        + 3-2) frange(1.0, 2.0)\n",
    "            [1.0, 1.1, 1.2, 1.3, 1.4, 1.5, 1.6, 1.7, 1.8, 1.9]\n",
    "        + 3-3) frange(2.2, 4.0, 0.5)\n",
    "            [2.2, 2.7, 3.2, 3.7]"
   ]
  },
  {
   "cell_type": "code",
   "execution_count": 42,
   "metadata": {},
   "outputs": [
    {
     "name": "stdout",
     "output_type": "stream",
     "text": [
      "[0.0, 0.1, 0.2, 0.3, 0.4]\n",
      "[1.0, 1.1, 1.2, 1.3, 1.4, 1.5, 1.6, 1.7, 1.8, 1.9]\n",
      "[2.2, 2.7, 3.2, 3.7]\n"
     ]
    }
   ],
   "source": [
    "def frange(start, stop=0.0, step=0.1):\n",
    "    if(stop == 0):\n",
    "        start,stop = stop, start\n",
    "    lists = []\n",
    "    while(start<stop):\n",
    "        start =  float(\"{0:.2f}\".format(start))\n",
    "        lists.append(start)\n",
    "        start += step\n",
    "    return lists\n",
    "\n",
    "print(frange(0.5))\n",
    "print(frange(1.0, 2.0))\n",
    "print(frange(2.2, 4.0, 0.5))"
   ]
  },
  {
   "cell_type": "markdown",
   "metadata": {},
   "source": [
    "받는인수가 하나면 start와 stop의 값을 바꿔줍니다.\n",
    "stop값이 올때까지 리스트 자료구조에 값을 넣어줍니다"
   ]
  },
  {
   "cell_type": "markdown",
   "metadata": {},
   "source": [
    "### [4번 문제]\n",
    "#### 가변인수를 받는 함수 sum()을 다음과 같은 조건을 참고하여 구현하시오\n",
    "\n",
    "  sum() 사용 예\n",
    "    - sum()\n",
    "        - 0\n",
    "    - sum(1, 2)\n",
    "        - 3\n",
    "    - sum(1, 2, 3, 4, 5)\n",
    "        - 15\n",
    "    - sum(1, 5, 7, 2, -10)\n",
    "        -  5"
   ]
  },
  {
   "cell_type": "code",
   "execution_count": 91,
   "metadata": {},
   "outputs": [
    {
     "name": "stdout",
     "output_type": "stream",
     "text": [
      "0\n",
      "3\n",
      "15\n",
      "5\n"
     ]
    }
   ],
   "source": [
    "def sum(*args):\n",
    "    result = 0\n",
    "    for i in args:\n",
    "        result += i\n",
    "    return result\n",
    " \n",
    "print(sum())\n",
    "print(sum(1,2))\n",
    "print(sum(1, 2, 3, 4, 5))\n",
    "print(sum(1, 5, 7, 2, -10))"
   ]
  },
  {
   "cell_type": "markdown",
   "metadata": {},
   "source": [
    "*arg로 여러 인수를 받을 수 있습니다."
   ]
  },
  {
   "cell_type": "markdown",
   "metadata": {},
   "source": [
    "### [5번 문제]\n",
    "#### 여러 단어로 이루어진 문자열을 입력받아 각 단어의 첫글자로 이루어진 단어를 대문자로 출력하는 myinitial() 함수를 다음 조건을 참고하여 작성하시오.\n",
    "\n",
    "- 1) 다음에 제시되는 함수들을 모두 이용해야 한다.\n",
    "        split\n",
    "        map\n",
    "        join\n",
    "- 2) myinitial() 함수 사용 예\n",
    "        myinitial(\"as soon as possible\")\n",
    "        ASAP"
   ]
  },
  {
   "cell_type": "code",
   "execution_count": 90,
   "metadata": {},
   "outputs": [
    {
     "name": "stdout",
     "output_type": "stream",
     "text": [
      "as soon as possible\n",
      "['a', 's', 'a', 'p']\n"
     ]
    },
    {
     "data": {
      "text/plain": [
       "'ASAP'"
      ]
     },
     "execution_count": 90,
     "metadata": {},
     "output_type": "execute_result"
    }
   ],
   "source": [
    "s = str(input())\n",
    "\n",
    "def myinitial(s):\n",
    "    lists=[]\n",
    "    l_s= s.split(' ')\n",
    "    for i in range(len(l_s)):\n",
    "        lists.append(l_s[i][0]) \n",
    "                #글자의 앞글자만 리스트에 추가\n",
    "    print(lists)\n",
    "    s1 = ''.join(list(map(str.upper, lists))) \n",
    "                # 맵함수를 사용하여 소문자를 대문자로 바꿈\n",
    "    return s1\n",
    "\n",
    "myinitial(s)"
   ]
  },
  {
   "cell_type": "markdown",
   "metadata": {},
   "source": [
    "앞 글자만 따서 리스트를 추가 시키고 맵을 이용해 소문자를 대문자로 바꿔서 저장시킵니다."
   ]
  },
  {
   "cell_type": "markdown",
   "metadata": {},
   "source": [
    "### [6번 문제]\n",
    "#### 음이 아닌 정수 n를 입력받으면 n! (factorial)을 계산하는 myfact() 함수를 재귀적 함수로 구현하시오.\n",
    "\n",
    "    [옵션] 참을 수 있는 정도 만큼의 수행시간을 직접 기다려보면서 n을 늘려보도록 합시다."
   ]
  },
  {
   "cell_type": "code",
   "execution_count": 68,
   "metadata": {
    "scrolled": true
   },
   "outputs": [
    {
     "name": "stdout",
     "output_type": "stream",
     "text": [
      "331627509245063324117539338057632403828111720810578039457193543706038077905600822400273230859732592255402352941225834109258084817415293796131386633526343688905634058556163940605117252571870647856393544045405243957467037674108722970434684158343752431580877533645127487995436859247408032408946561507233250652797655757179671536718689359056112815871601717232657156110004214012420433842573712700175883547796899921283528996665853405579854903657366350133386550401172012152635488038268152152246920995206031564418565480675946497051552288205234899995726450814065536678969532101467622671332026831552205194494461618239275204026529722631502574752048296064750927394165856283531779574482876314596450373991327334177263608852490093506621610144459709412707821313732563831572302019949914958316470942774473870327985549674298608839376326824152478834387469595829257740574539837501585815468136294217949972399813599481016556563876034227312912250384709872909626622461971076605931550201895135583165357871492290916779049702247094611937607785165110684432255905648736266530377384650390788049524600712549402614566072254136302754913671583406097831074945282217490781347709693241556111339828051358600690594619965257310741177081519922564516778571458056602185654760952377463016679422488444485798349801548032620829890965857381751888619376692828279888453584639896594213952984465291092009103710046149449915828588050761867924946385180879874512891408019340074625920057098729578599643650655895612410231018690556060308783629110505601245908998383410799367902052076858669183477906558544700148692656924631933337612428097420067172846361939249698628468719993450393889367270487127172734561700354867477509102955523953547941107421913301356819541091941462766417542161587625262858089801222443890248677182054959415751991701271767571787495861619665931878855141835782092601482071777331735396034304969082070589958701381980813035590160762908388574561288217698136182483576739218303118414719133986892842344000779246691209766731651433494437473235636572048844478331854941693030124531676232745367879322847473824485092283139952509732505979127031047683601481191102229253372697693823670057565612400290576043852852902937606479533458179666123839605262549107186663869354766108455046198102084050635827676526589492393249519685954171672419329530683673495544004586359838161043059449826627530605423580755894108278880427825951089880635410567917950974017780688782869810219010900148352061688883720250310665922068601483649830532782088263536558043605686781284169217133047141176312175895777122637584753123517230990549829210134687304205898014418063875382664169897704237759406280877253702265426530580862379301422675821187143502918637636340300173251818262076039747369595202642632364145446851113427202150458383851010136941313034856221916631623892632765815355011276307825059969158824533457435437863683173730673296589355199694458236873508830278657700879749889992343555566240682834763784685183844973648873952475103224222110561201295829657191368108693825475764118886879346725191246192151144738836269591643672490071653428228152661247800463922544945170363723627940757784542091048305461656190622174286981602973324046520201992813854882681951007282869701070737500927666487502174775372742351508748246720274170031581122805896178122160747437947510950620938556674581252518376682157712807861499255876132352950422346387878954850885764466136290394127665978044202092281337987115900896264878942413210454925003566670632909441579372986743421470507213588932019580723064781498429522595589012754823971773325722910325760929790733299545056388362640474650245080809469116072632087494143973000704111418595530278827357654819182002449697761111346318195282761590964189790958117338627206088910432945244978535147014112442143055486089639578378347325323595763291438925288393986256273242862775563140463830389168421633113445636309571965978466338551492316196335675355138403425804162919837822266909521770153175338730284610841886554138329171951332117895728541662084823682817932512931237521541926970269703299477643823386483008871530373405666383868294088487730721762268849023084934661194260180272613802108005078215741006054848201347859578102770707780655512772540501674332396066253216415004808772403047611929032210154385353138685538486425570790795341176519571188683739880683895792743749683498142923292196309777090143936843655333359307820181312993455024206044563340578606962471961505603394899523321800434359967256623927196435402872055475012079854331970674797313126813523653744085662263206768837585132782896252333284341812977624697079543436003492343159239674763638912115285406657783646213911247447051255226342701239527018127045491648045932248108858674600952306793175967755581011679940005249806303763141344412269037034987355799916009259248075052485541568266281760815446308305406677412630124441864204108373119093130001154470560277773724378067188899770851056727276781247198832857695844217588895160467868204810010047816462358220838532488134270834079868486632162720208823308727819085378845469131556021728873121907393965209260229101477527080930865364979858554010577450279289814603688431821508637246216967872282169347370599286277112447690920902988320166830170273420259765671709863311216349502171264426827119650264054228231759630874475301847194095524263411498469508073390080000000000000000000000000000000000000000000000000000000000000000000000000000000000000000000000000000000000000000000000000000000000000000000000000000000000000000000000000000000000000000000000000000000000000000000000000000000000000000000000000000000000000000000000000000000000000000000000000000000000000000000000000000000000000000000000000000000000000000000000000000000000000000000000000000000000000000000000000000000000000000000000000000000000000000000000000000000000000000000000000000000000000000000\n"
     ]
    }
   ],
   "source": [
    "def factorial(n):\n",
    "    if n == 1: \n",
    "        return 1\n",
    "    return n * factorial(n - 1)\n",
    " \n",
    "print(factorial(2000))"
   ]
  },
  {
   "cell_type": "markdown",
   "metadata": {},
   "source": [
    "n이 1일 때 1을 반환하고 재귀호출을 끝냅니다. 3000이후 부터 값이 더이상 안나옵니다."
   ]
  },
  {
   "cell_type": "markdown",
   "metadata": {},
   "source": [
    "### [7번 문제]\n",
    "#### (서술형) import string 과 from string import * 의 차이점을 설명하시오.\n",
    "\n",
    "- import string은 string이라는 모듈만을 호출하겠다는 뜻입니다. 그에 반해 from string import *는 string 모듈 말고도 string모듈이 가지고있는 하위 메소드까지 호출하여 사용하겠다는 뜻입니다.    \n",
    "- 쉽게 예를 들어서 import string을 하면 메소드를 사용할때 string.upper() 라고 사용해야하지만 from string import *는 앞의 string없이 upper()라고 사용할 수 있습니다."
   ]
  },
  {
   "cell_type": "markdown",
   "metadata": {},
   "source": [
    "### [8번 문제]\n",
    "\n",
    "이전 Assignment 3의 마지막 문제는 웹 URL로 지정된 웹페이지를 문자열로 가져와 모든 HTML 태그 및 CSS와 Javascript를 제외한 순수 텍스트를 얻어내고 그 안에 존재하는 단어를 추출하여 각 단어들에 대해 출현빈도를 사전형태({'world': 2, 'hello': 1, 'python': 1})로 저장하여 출력하는 것이었다. 이번에는 Assignment 3를 확장하여 다음과 같은 조건을 만족하도록 구현하시오.\n",
    "\n",
    "    - 1) 다음 사이트에서 제시되는 불용어 (Stop words)를 참고하여 이전 숙제에서 구성했던 단어 사전에서 불용어들을 모두 제거하는 코드를 추가하시오.\n",
    "        영어 불용어: http://www.lextek.com/manuals/onix/stopwords1.html\n",
    "        한글 불용어: https://raw.githubusercontent.com/stopwords-iso/stopwords-ko/master/stopwords-ko.txt\n",
    "    - 2) 각 URL로 지정된 웹페이지의 HTML 소스를 파일로 저장하시오.\n",
    "        URL이 http://URL 이라면 파일명은 URL.html 이다.\n",
    "            예: URL이 http://www.cnn.com 이라면 파일명은 www.cnn.com.html 이다.\n",
    "    - 3) 단어의 출현빈도가 담긴 사전 객체를 위 HTML 소스 파일과 동일한 폴더에 파일로 저장하시오.\n",
    "        파일입출력 (E-learning 13주차) 마지막에 학습한 pickle 모듈을 활용하시오.\n",
    "        URL이 http://URL 이라면 사전 객체를 담고 있는 파일명은 URL.words_frequency.pickle 이다.\n",
    "            예: URL이 http://www.cnn.com 이라면 파일명은 www.cnn.com.words_frequency.pickle 이다.\n",
    "    - 4) 최소 5개 이상의 웹 사이트 각각에 대한 HTML 소스 파일과 단어 출현빈도 파일을 저장하시오.\n",
    "        즉, 5개의 웹 사이트에 대해 총 10개의 파일을 동일한 폴더에 생성하시오.\n",
    "            [주의] 가능하면 웹사이트에 단어들이 많고 다루는 주제가 서로 다른 웹 사이트들로 선정하는 것 추천\n",
    "    - 5) 위 문제에서 저장한 모든 pickle 파일들을 객체로 다시 로드하여 본인이 저장하여 분석한 사이트들 각각에 대해서 가장 많이 출현한 단어 3개씩를 뽑아 제시하시오.\n",
    "        반드시 pickle 모듈로 저장한 5개 이상의 pickle 파일들을 다시 5개 이상의 사전 객체로 로드 하는 코드가 추가되어야 함\n",
    "    - 6) 간단한 검색엔진 코딩 (Like Google!!!)\n",
    "        사용자에게 임의의 검색어 (하나 또는 여러 단어로 구성) 를 입력받으시오.\n",
    "            예:\n",
    "                대한민국\n",
    "                컴퓨터 공학\n",
    "                맛있는 음식\n",
    "                파이썬을 쉽게 공부하는 법\n",
    "                한기대 장점을 알려주세요\n",
    "            입력받은 검색어들에 대해서도 1)에서 제시하는 방법처럼 불용어 처리를 하여 정리\n",
    "            입력 받은 검색어와 유사도(Similarity)가 높은 웹 사이트 기준으로 위 4)에서 미리 지정해 놓은 5개 이상의 웹 사이트 URL들을 일렬로 나열하여 출력하시오.\n",
    "                검색어와 웹 사이트 간의 유사도는 본인이 스스로 정하시오.\n",
    "                유사도를 정하는 최소한의 기준은 단어 출현 빈도를 기반으로 해야 하며, 이외의 본인이 생각하는 방안이 있으면 함께 사용해도 됨.\n",
    "                유사도가 높은 웹 사이트가 상위에 출력되어야 함 (즉, 유사도 기준 내림 차순)\n",
    "                유사도가 동일한 웹 사이트들에 대해서는 임의 배치함.\n",
    "    - 7) [주의] 필수사항\n",
    "        위에서 만든 검색엔진 코딩은 매우 간단한 것이라 부족한 점이 많이 존재한다.\n",
    "        본인이 생각하기에 상업적인 완성도 높은 검색 로봇/엔진이 되려면 어떤 기능들이 추가적으로 구현되어야 할지 최소 1가지 이상 제시하시오."
   ]
  },
  {
   "cell_type": "code",
   "execution_count": 4,
   "metadata": {
    "scrolled": true
   },
   "outputs": [
    {
     "name": "stdout",
     "output_type": "stream",
     "text": [
      "['a', 'about', 'above', 'across', 'after', 'again', 'against', 'all', 'almost', 'alone', 'along', 'already', 'also', 'although', 'always', 'among', 'an', 'and', 'another', 'any', 'anybody', 'anyone', 'anything', 'anywhere', 'are', 'area', 'areas', 'around', 'as', 'ask', 'asked', 'asking', 'asks', 'at', 'away', 'b', 'back', 'backed', 'backing', 'backs', 'be', 'became', 'because', 'become', 'becomes', 'been', 'before', 'began', 'behind', 'being', 'beings', 'best', 'better', 'between', 'big', 'both', 'but', 'by', 'c', 'came', 'can', 'cannot', 'case', 'cases', 'certain', 'certainly', 'clear', 'clearly', 'come', 'could', 'd', 'did', 'differ', 'different', 'differently', 'do', 'does', 'done', 'down', 'down', 'downed', 'downing', 'downs', 'during', 'e', 'each', 'early', 'either', 'end', 'ended', 'ending', 'ends', 'enough', 'even', 'evenly', 'ever', 'every', 'everybody', 'everyone', 'everything', 'everywhere', 'f', 'face', 'faces', 'fact', 'facts', 'far', 'felt', 'few', 'find', 'finds', 'first', 'for', 'four', 'from', 'full', 'fully', 'further', 'furthered', 'furthering', 'furthers', 'g', 'gave', 'general', 'generally', 'get', 'gets', 'give', 'given', 'gives', 'go', 'going', 'good', 'goods', 'got', 'great', 'greater', 'greatest', 'group', 'grouped', 'grouping', 'groups', 'h', 'had', 'has', 'have', 'having', 'he', 'her', 'here', 'herself', 'high', 'high', 'high', 'higher', 'highest', 'him', 'himself', 'his', 'how', 'however', 'i', 'if', 'important', 'in', 'interest', 'interested', 'interesting', 'interests', 'into', 'is', 'it', 'its', 'itself', 'j', 'just', 'k', 'keep', 'keeps', 'kind', 'knew', 'know', 'known', 'knows', 'l', 'large', 'largely', 'last', 'later', 'latest', 'least', 'less', 'let', 'lets', 'like', 'likely', 'long', 'longer', 'longest', 'm', 'made', 'make', 'making', 'man', 'many', 'may', 'me', 'member', 'members', 'men', 'might', 'more', 'most', 'mostly', 'mr', 'mrs', 'much', 'must', 'my', 'myself', 'n', 'necessary', 'need', 'needed', 'needing', 'needs', 'never', 'new', 'new', 'newer', 'newest', 'next', 'no', 'nobody', 'non', 'noone', 'not', 'nothing', 'now', 'nowhere', 'number', 'numbers', 'o', 'of', 'off', 'often', 'old', 'older', 'oldest', 'on', 'once', 'one', 'only', 'open', 'opened', 'opening', 'opens', 'or', 'order', 'ordered', 'ordering', 'orders', 'other', 'others', 'our', 'out', 'over', 'p', 'part', 'parted', 'parting', 'parts', 'per', 'perhaps', 'place', 'places', 'point', 'pointed', 'pointing', 'points', 'possible', 'present', 'presented', 'presenting', 'presents', 'problem', 'problems', 'put', 'puts', 'q', 'quite', 'r', 'rather', 'really', 'right', 'right', 'room', 'rooms', 's', 'said', 'same', 'saw', 'say', 'says', 'second', 'seconds', 'see', 'seem', 'seemed', 'seeming', 'seems', 'sees', 'several', 'shall', 'she', 'should', 'show', 'showed', 'showing', 'shows', 'side', 'sides', 'since', 'small', 'smaller', 'smallest', 'so', 'some', 'somebody', 'someone', 'something', 'somewhere', 'state', 'states', 'still', 'still', 'such', 'sure', 't', 'take', 'taken', 'than', 'that', 'the', 'their', 'them', 'then', 'there', 'therefore', 'these', 'they', 'thing', 'things', 'think', 'thinks', 'this', 'those', 'though', 'thought', 'thoughts', 'three', 'through', 'thus', 'to', 'today', 'together', 'too', 'took', 'toward', 'turn', 'turned', 'turning', 'turns', 'two', 'u', 'under', 'until', 'up', 'upon', 'us', 'use', 'used', 'uses', 'v', 'very', 'w', 'want', 'wanted', 'wanting', 'wants', 'was', 'way', 'ways', 'we', 'well', 'wells', 'went', 'were', 'what', 'when', 'where', 'whether', 'which', 'while', 'who', 'whole', 'whose', 'why', 'will', 'with', 'within', 'without', 'work', 'worked', 'working', 'works', 'would', 'x', 'y', 'year', 'years', 'yet', 'you', 'young', 'younger', 'youngest', 'your', 'yours', 'z', '!', '\"', '$', '%', '&', \"'\", '(', ')', '*', '+', ',', '-', '.', '...', '0', '1', '2', '3', '4', '5', '6', '7', '8', '9', ';', '<', '=', '>', '?', '@', '\\\\', '^', '_', '`', '|', '~', '·', '—', '——', '‘', '’', '“', '”', '…', '、', '。', '〈', '〉', '《', '》', '가', '가까스로', '가령', '각', '각각', '각자', '각종', '갖고말하자면', '같다', '같이', '개의치않고', '거니와', '거바', '거의', '것', '것과', '같이', '것들', '게다가', '게우다', '겨우', '견지에서', '결과에', '이르다', '결국', '결론을', '낼', '수', '있다', '겸사겸사', '고려하면', '고로', '곧', '공동으로', '과', '과연', '관계가', '있다', '관계없이', '관련이', '있다', '관하여', '관한', '관해서는', '구', '구체적으로', '구토하다', '그', '그들', '그때', '그래', '그래도', '그래서', '그러나', '그러니', '그러니까', '그러면', '그러므로', '그러한즉', '그런', '까닭에', '그런데', '그런즉', '그럼', '그럼에도', '불구하고', '그렇게', '함으로써', '그렇지', '그렇지', '않다면', '그렇지', '않으면', '그렇지만', '그렇지않으면', '그리고', '그리하여', '그만이다', '그에', '따르는', '그위에', '그저', '그중에서', '그치지', '않다', '근거로', '근거하여', '기대여', '기점으로', '기준으로', '기타', '까닭으로', '까악', '까지', '까지', '미치다', '까지도', '꽈당', '끙끙', '끼익', '나', '나머지는', '남들', '남짓', '너', '너희', '너희들', '네', '넷', '년', '논하지', '않다', '놀라다', '누가', '알겠는가', '누구', '다른', '다른', '방면으로', '다만', '다섯', '다소', '다수', '다시', '말하자면', '다시말하면', '다음', '다음에', '다음으로', '단지', '답다', '당신', '당장', '대로', '하다', '대하면', '대하여', '대해', '말하자면', '대해서', '댕그', '더구나', '더군다나', '더라도', '더불어', '더욱더', '더욱이는', '도달하다', '도착하다', '동시에', '동안', '된바에야', '된이상', '두번째로', '둘', '둥둥', '뒤따라', '뒤이어', '든간에', '들', '등', '등등', '딩동', '따라', '따라서', '따위', '따지지', '않다', '딱', '때', '때가', '되어', '때문에', '또', '또한', '뚝뚝', '라', '해도', '령', '로', '로', '인하여', '로부터', '로써', '륙', '를', '마음대로', '마저', '마저도', '마치', '막론하고', '만', '못하다', '만약', '만약에', '만은', '아니다', '만이', '아니다', '만일', '만큼', '말하자면', '말할것도', '없고', '매', '매번', '메쓰겁다', '몇', '모', '모두', '무렵', '무릎쓰고', '무슨', '무엇', '무엇때문에', '물론', '및', '바꾸어말하면', '바꾸어말하자면', '바꾸어서', '말하면', '바꾸어서', '한다면', '바꿔', '말하면', '바로', '바와같이', '밖에', '안된다', '반대로', '반대로', '말하자면', '반드시', '버금', '보는데서', '보다더', '보드득', '본대로', '봐', '봐라', '부류의', '사람들', '부터', '불구하고', '불문하고', '붕붕', '비걱거리다', '비교적', '비길수', '없다', '비로소', '비록', '비슷하다', '비추어', '보아', '비하면', '뿐만', '아니라', '뿐만아니라', '뿐이다', '삐걱', '삐걱거리다', '사', '삼', '상대적으로', '말하자면', '생각한대로', '설령', '설마', '설사', '셋', '소생', '소인', '솨', '쉿', '습니까', '습니다', '시각', '시간', '시작하여', '시초에', '시키다', '실로', '심지어', '아', '아니', '아니나다를가', '아니라면', '아니면', '아니었다면', '아래윗', '아무거나', '아무도', '아야', '아울러', '아이', '아이고', '아이구', '아이야', '아이쿠', '아하', '아홉', '안', '그러면', '않기', '위하여', '않기', '위해서', '알', '수', '있다', '알았어', '앗', '앞에서', '앞의것', '야', '약간', '양자', '어', '어기여차', '어느', '어느', '년도', '어느것', '어느곳', '어느때', '어느쪽', '어느해', '어디', '어때', '어떠한', '어떤', '어떤것', '어떤것들', '어떻게', '어떻해', '어이', '어째서', '어쨋든', '어쩔수', '없다', '어찌', '어찌됏든', '어찌됏어', '어찌하든지', '어찌하여', '언제', '언젠가', '얼마', '얼마', '안', '되는', '것', '얼마간', '얼마나', '얼마든지', '얼마만큼', '얼마큼', '엉엉', '에', '에', '가서', '에', '달려', '있다', '에', '대해', '에', '있다', '에', '한하다', '에게', '에서', '여', '여기', '여덟', '여러분', '여보시오', '여부', '여섯', '여전히', '여차', '연관되다', '연이서', '영', '영차', '옆사람', '예', '예를', '들면', '예를', '들자면', '예컨대', '예하면', '오', '오로지', '오르다', '오자마자', '오직', '오호', '오히려', '와', '와', '같은', '사람들', '와르르', '와아', '왜', '왜냐하면', '외에도', '요만큼', '요만한', '것', '요만한걸', '요컨대', '우르르', '우리', '우리들', '우선', '우에', '종합한것과같이', '운운', '월', '위에서', '서술한바와같이', '위하여', '위해서', '윙윙', '육', '으로', '으로', '인하여', '으로서', '으로써', '을', '응', '응당', '의', '의거하여', '의지하여', '의해', '의해되다', '의해서', '이', '이', '되다', '이', '때문에', '이', '밖에', '이', '외에', '이', '정도의', '이것', '이곳', '이때', '이라면', '이래', '이러이러하다', '이러한', '이런', '이럴정도로', '이렇게', '많은', '것', '이렇게되면', '이렇게말하자면', '이렇구나', '이로', '인하여', '이르기까지', '이리하여', '이만큼', '이번', '이봐', '이상', '이어서', '이었다', '이와', '같다', '이와', '같은', '이와', '반대로', '이와같다면', '이외에도', '이용하여', '이유만으로', '이젠', '이지만', '이쪽', '이천구', '이천육', '이천칠', '이천팔', '인', '듯하다', '인젠', '일', '일것이다', '일곱', '일단', '일때', '일반적으로', '일지라도', '임에', '틀림없다', '입각하여', '입장에서', '잇따라', '있다', '자', '자기', '자기집', '자마자', '자신', '잠깐', '잠시', '저', '저것', '저것만큼', '저기', '저쪽', '저희', '전부', '전자', '전후', '점에서', '보아', '정도에', '이르다', '제', '제각기', '제외하고', '조금', '조차', '조차도', '졸졸', '좀', '좋아', '좍좍', '주룩주룩', '주저하지', '않고', '줄은', '몰랏다', '줄은모른다', '중에서', '중의하나', '즈음하여', '즉', '즉시', '지든지', '지만', '지말고', '진짜로', '쪽으로', '차라리', '참', '참나', '첫번째로', '쳇', '총적으로', '총적으로', '말하면', '총적으로', '보면', '칠', '콸콸', '쾅쾅', '쿵', '타다', '타인', '탕탕', '토하다', '통하여', '툭', '퉤', '틈타', '팍', '팔', '퍽', '펄렁', '하', '하게될것이다', '하게하다', '하겠는가', '하고', '있다', '하고있었다', '하곤하였다', '하구나', '하기', '때문에', '하기', '위하여', '하기는한데', '하기만', '하면', '하기보다는', '하기에', '하나', '하느니', '하는', '김에', '하는', '편이', '낫다', '하는것도', '하는것만', '못하다', '하는것이', '낫다', '하는바', '하더라도', '하도다', '하도록시키다', '하도록하다', '하든지', '하려고하다', '하마터면', '하면', '할수록', '하면된다', '하면서', '하물며', '하여금', '하여야', '하자마자', '하지', '않는다면', '하지', '않도록', '하지마', '하지마라', '하지만', '하하', '한', '까닭에', '한', '이유는', '한', '후', '한다면', '한다면', '몰라도', '한데', '한마디', '한적이있다', '한켠으로는', '한항목', '할', '따름이다', '할', '생각이다', '할', '줄', '안다', '할', '지경이다', '할', '힘이', '있다', '할때', '할만하다', '할망정', '할뿐', '할수있다', '할수있어', '할줄알다', '할지라도', '할지언정', '함께', '해도된다', '해도좋다', '해봐요', '해서는', '안된다', '해야한다', '해요', '했어요', '향하다', '향하여', '향해서', '허', '허걱', '허허', '헉', '헉헉', '헐떡헐떡', '형식으로', '쓰여', '혹시', '혹은', '혼자', '훨씬', '휘익', '휴', '흐흐', '흥', '힘입어', '︿', '！', '＃', '＄', '％', '＆', '（', '）', '＊', '＋', '，', '０', '１', '２', '３', '４', '５', '６', '７', '８', '９', '：', '；', '＜', '＞', '？', '＠', '［', '］', '｛', '｜', '｝', '～', '￥']\n"
     ]
    }
   ],
   "source": [
    "# 불용어 리스트\n",
    "en_stopWord = \"a about above across after again against all almost alone along already also although always among an and another any anybody anyone anything anywhere are area areas around as ask asked asking asks at away b back backed backing backs be became because become becomes been before began behind being beings best better between big both but by c came can cannot case cases certain certainly clear clearly come could d did differ different differently do does done down down downed downing downs during e each early either end ended ending ends enough even evenly ever every everybody everyone everything everywhere f face faces fact facts far felt few find finds first for four from full fully further furthered furthering furthers g gave general generally get gets give given gives go going good goods got great greater greatest group grouped grouping groups h had has have having he her here herself high high high higher highest him himself his how however i if important in interest interested interesting interests into is it its itself j just k keep keeps kind knew know known knows l large largely last later latest least less let lets like likely long longer longest m made make making man many may me member members men might more most mostly mr mrs much must my myself n necessary need needed needing needs never new new newer newest next no nobody non noone not nothing now nowhere number numbers o of off often old older oldest on once one only open opened opening opens or order ordered ordering orders other others our out over p part parted parting parts per perhaps place places point pointed pointing points possible present presented presenting presents problem problems put puts q quite r rather really right right room rooms s said same saw say says second seconds see seem seemed seeming seems sees several shall she should show showed showing shows side sides since small smaller smallest so some somebody someone something somewhere state states still still such sure t take taken than that the their them then there therefore these they thing things think thinks this those though thought thoughts three through thus to today together too took toward turn turned turning turns two u under until up upon us use used uses v very w want wanted wanting wants was way ways we well wells went were what when where whether which while who whole whose why will with within without work worked working works would x y year years yet you young younger youngest your yours z\"\n",
    "en_stopWords = en_stopWord.split(' ')\n",
    "kr_stopWords =[]\n",
    "with open('kor_stopWords.txt', 'r') as f:\n",
    "    undifined_stopword = f.read()\n",
    "    undifined_stopword = undifined_stopword.replace(\"\\n\",\" \")\n",
    "    undifined_stopword= undifined_stopword.replace(\"\\t\",\" \")\n",
    "    kr_stopword = undifined_stopword.split(\" \")\n",
    "    kr_stopword = [x for x in kr_stopword if x]\n",
    "    for i in range(len(kr_stopword)):\n",
    "        kr_stopWords.append(kr_stopword[i])\n",
    "stopWords = en_stopWords + kr_stopWords\n",
    "print(stopWords)"
   ]
  },
  {
   "cell_type": "code",
   "execution_count": 6,
   "metadata": {},
   "outputs": [],
   "source": [
    "import pickle\n",
    "import urllib.request\n",
    "import string\n",
    "\n",
    "def delete_Code(source, start, end):\n",
    "    deleted_Code = \"\"\n",
    "    s_l = source.split(start)\n",
    "\n",
    "    for i in range(0, len(s_l)):\n",
    "        sub = s_l[i]\n",
    "        index = sub.rfind(end)\n",
    "        if(index == -1 or index == len(sub)-1):\n",
    "            if( i != 0 and i != len(s_l)-1):\n",
    "                continue\n",
    "        deleted_Code += sub[index+1:] + \" \"\n",
    "    deleted_Code = \" \".join(deleted_Code.split())\n",
    "    return deleted_Code\n",
    "\n",
    "def project(url):\n",
    "    source_p = urllib.request.urlopen(url)\n",
    "    source_b = source_p.read()\n",
    "    source = source_b.decode(\"utf8\")\n",
    "    \n",
    "    # 2) 각 URL로 지정된 웹페이지의 HTML 소스를 파일로 저장하시오.\n",
    "    with open(url.replace('http://', '').replace('https://', '').replace('/', '') + '.html', 'w') as f:\n",
    "        f.write(source)\n",
    "    \n",
    "    # Script ,CSS, HTML, 특수문자 제거\n",
    "    source = delete_Code(source, '<script', '/script>')\n",
    "    source = delete_Code(source, '<style', '/style>')\n",
    "    source = delete_Code(source, '<', '>')\n",
    "    for i in range(0, len(string.punctuation)):\n",
    "        source = source.replace(string.punctuation[i], \"\")\n",
    "        \n",
    "    words = {}\n",
    "    for i in source.split():\n",
    "        # 1)불용어 (Stop words)를 참고하여 이전 숙제에서 구성했던 단어 사전에서 불용어들을 모두 제거하는 코드를 추가하시오.\n",
    "        if(i in stopWords):\n",
    "            continue\n",
    "        if(not i in words.keys()):\n",
    "            words[i]=1\n",
    "        else:\n",
    "            words[i]=words[i]+1\n",
    "    \n",
    "    # 3) 단어의 출현빈도가 담긴 사전 객체를 위 HTML 소스 파일과 동일한 폴더에 파일로 저장하시오.\n",
    "    with open(url.replace('http://', '').replace('https://', '').replace('/', '') + '.words_frequency.pickle', 'wb') as f:\n",
    "        pickle.dump(words, f)\n",
    "\n",
    "# 4) 최소 5개 이상의 웹 사이트 각각에 대한 HTML 소스 파일과 단어 출현빈도 파일을 저장하시오.\n",
    "#        (가능하면 웹사이트에 단어들이 많고 다루는 주제가 서로 다른 웹 사이트들로 선정하는 것 추천)\n",
    "\n",
    "# time \n",
    "project('http://time.com/')\n",
    "# cnn news\n",
    "project('http://edition.cnn.com/')\n",
    "# ieee\n",
    "project('www.ieee.org/')\n",
    "# 컴퓨터공학부 홈페이지\n",
    "project('https://cse.koreatech.ac.kr/')\n",
    "# 네이버 농구 스포츠 뉴스\n",
    "project('https://sports.news.naver.com/basketball/index.nhn?rc=N')"
   ]
  },
  {
   "cell_type": "code",
   "execution_count": 48,
   "metadata": {},
   "outputs": [
    {
     "name": "stdout",
     "output_type": "stream",
     "text": [
      "time.com.words_frequency.pickle :  ('TIME', 18) ('2018', 17) ('The', 14) \n",
      "edition.cnn.com.words_frequency.pickle :  ('US', 14) ('International', 12) ('CNN', 11) \n",
      "www.ieee.org.words_frequency.pickle :  ('IEEE', 122) ('Learn', 20) ('Find', 16) \n",
      "cse.koreatech.ac.kr.words_frequency.pickle :  ('컴퓨터공학부', 11) ('20181125', 9) ('한국기술교육대학교', 7) \n",
      "sports.news.naver.combasketballindex.nhn?rc=N.words_frequency.pickle :  ('1위', 22) ('시즌', 12) ('20182019', 8) \n"
     ]
    }
   ],
   "source": [
    "# 5) 위 문제에서 저장한 모든 pickle 파일들을 객체로 다시 로드하여 본인이 저장하여 분석한 사이트들 각각에 대해서 가장 많이 출현한 단어 3개씩를 뽑아 제시하시오.\n",
    "import operator\n",
    "\n",
    "filename=['time.com.words_frequency.pickle','edition.cnn.com.words_frequency.pickle', 'www.ieee.org.words_frequency.pickle', \\\n",
    "          'cse.koreatech.ac.kr.words_frequency.pickle', 'sports.news.naver.combasketballindex.nhn?rc=N.words_frequency.pickle']\n",
    "frequency_of_words = {}\n",
    "\n",
    "for file in filename:\n",
    "    with open(file, 'rb') as f:\n",
    "        dic = pickle.load(f)\n",
    "    frequency_of_words[file] = dic\n",
    "    sortedList = sorted(dic.items(), key=operator.itemgetter(1), reverse=True)\n",
    "    print(file + \" : \", end = ' '),\n",
    "    for i in range(0, 3):\n",
    "        print(sortedList[i], end = ' ')\n",
    "    print()"
   ]
  },
  {
   "cell_type": "code",
   "execution_count": 54,
   "metadata": {
    "scrolled": true
   },
   "outputs": [
    {
     "name": "stdout",
     "output_type": "stream",
     "text": [
      "What word will you search for? :News\n",
      "1  :  edition.cnn.com  :  4 개 일치\n",
      "2  :  time.com  :  2 개 일치\n",
      "3  :  www.ieee.org  :  0 개 일치\n",
      "4  :  cse.koreatech.ac.kr  :  0 개 일치\n",
      "5  :  sports.news.naver.combasketballindex.nhn?rc=N  :  0 개 일치\n",
      "\n",
      "What word will you search for? :Conference\n",
      "1  :  www.ieee.org  :  5 개 일치\n",
      "2  :  time.com  :  0 개 일치\n",
      "3  :  edition.cnn.com  :  0 개 일치\n",
      "4  :  cse.koreatech.ac.kr  :  0 개 일치\n",
      "5  :  sports.news.naver.combasketballindex.nhn?rc=N  :  0 개 일치\n",
      "\n",
      "What word will you search for? :cnn\n",
      "1  :  time.com  :  0 개 일치\n",
      "2  :  edition.cnn.com  :  0 개 일치\n",
      "3  :  www.ieee.org  :  0 개 일치\n",
      "4  :  cse.koreatech.ac.kr  :  0 개 일치\n",
      "5  :  sports.news.naver.combasketballindex.nhn?rc=N  :  0 개 일치\n",
      "\n",
      "What word will you search for? :Cnn\n",
      "1  :  time.com  :  0 개 일치\n",
      "2  :  edition.cnn.com  :  0 개 일치\n",
      "3  :  www.ieee.org  :  0 개 일치\n",
      "4  :  cse.koreatech.ac.kr  :  0 개 일치\n",
      "5  :  sports.news.naver.combasketballindex.nhn?rc=N  :  0 개 일치\n",
      "\n",
      "What word will you search for? :CNN\n",
      "1  :  edition.cnn.com  :  11 개 일치\n",
      "2  :  time.com  :  0 개 일치\n",
      "3  :  www.ieee.org  :  0 개 일치\n",
      "4  :  cse.koreatech.ac.kr  :  0 개 일치\n",
      "5  :  sports.news.naver.combasketballindex.nhn?rc=N  :  0 개 일치\n",
      "\n",
      "What word will you search for? :학교\n",
      "1  :  cse.koreatech.ac.kr  :  1 개 일치\n",
      "2  :  time.com  :  0 개 일치\n",
      "3  :  edition.cnn.com  :  0 개 일치\n",
      "4  :  www.ieee.org  :  0 개 일치\n",
      "5  :  sports.news.naver.combasketballindex.nhn?rc=N  :  0 개 일치\n",
      "\n",
      "What word will you search for? :대학교\n",
      "1  :  time.com  :  0 개 일치\n",
      "2  :  edition.cnn.com  :  0 개 일치\n",
      "3  :  www.ieee.org  :  0 개 일치\n",
      "4  :  cse.koreatech.ac.kr  :  0 개 일치\n",
      "5  :  sports.news.naver.combasketballindex.nhn?rc=N  :  0 개 일치\n",
      "\n",
      "What word will you search for? :농구\n",
      "1  :  sports.news.naver.combasketballindex.nhn?rc=N  :  2 개 일치\n",
      "2  :  time.com  :  0 개 일치\n",
      "3  :  edition.cnn.com  :  0 개 일치\n",
      "4  :  www.ieee.org  :  0 개 일치\n",
      "5  :  cse.koreatech.ac.kr  :  0 개 일치\n",
      "\n",
      "What word will you search for? :Basketball\n",
      "1  :  sports.news.naver.combasketballindex.nhn?rc=N  :  1 개 일치\n",
      "2  :  time.com  :  0 개 일치\n",
      "3  :  edition.cnn.com  :  0 개 일치\n",
      "4  :  www.ieee.org  :  0 개 일치\n",
      "5  :  cse.koreatech.ac.kr  :  0 개 일치\n",
      "\n",
      "What word will you search for? :end\n"
     ]
    }
   ],
   "source": [
    "# 6)간단한 검색엔진 코딩 (Like Google!!!)\n",
    "#    사용자에게 임의의 검색어 (하나 또는 여러 단어로 구성) 를 입력받으시오.\n",
    "search = 'a'\n",
    "while search != 'end' :\n",
    "    s = {}\n",
    "    search = str(input('What word will you search for? :'))\n",
    "    if search == 'end':\n",
    "        break;\n",
    "    for file in filename:\n",
    "        number_of_words = 0\n",
    "        dic = frequency_of_words[file]\n",
    "        for i in dic.keys():\n",
    "            if i==search:\n",
    "                number_of_words += dic[i]\n",
    "                break;\n",
    "        s[file] = number_of_words\n",
    "    sort = sorted(s.items(), key=operator.itemgetter(1), reverse=True)\n",
    "    i = 1\n",
    "    for item in sort:\n",
    "        print( i, \" : \", item[0].replace('.words_frequency.pickle', ''), \" : \", item[1], \"개 일치\")\n",
    "        i+=1\n",
    "    print()"
   ]
  },
  {
   "cell_type": "markdown",
   "metadata": {},
   "source": [
    "이번 과제는 너무 힘들었던 것 같습니다. 이런 간단한 검색엔진도 만드는데 힘든데 아직 갈길이 멀다고 느꼈습니다.   \n",
    "추가적으로 개선되어야 할 사항은 문자 하나하나 마다 중요한 정도가 다를 것인데 그것을 비교하는 기능이 필요한 것 같습니다.   \n",
    "또한 웹페이지에도 또 들어갈 수 있는 하위 페이지, 또 상위 페이지 등등이 있는데 그 페이지들도 같이 문자들을 끌어 모으고, 또 얼마나 그 페이지가 현재 검색하는 페이지에 떨어져있는지에 중요도를 넣어주고 계산하는 프로그램이 있으면 정말 좋을 것 같습니다."
   ]
  },
  {
   "cell_type": "code",
   "execution_count": null,
   "metadata": {},
   "outputs": [],
   "source": []
  }
 ],
 "metadata": {
  "kernelspec": {
   "display_name": "Python 3",
   "language": "python",
   "name": "python3"
  },
  "language_info": {
   "codemirror_mode": {
    "name": "ipython",
    "version": 3
   },
   "file_extension": ".py",
   "mimetype": "text/x-python",
   "name": "python",
   "nbconvert_exporter": "python",
   "pygments_lexer": "ipython3",
   "version": "3.6.5"
  }
 },
 "nbformat": 4,
 "nbformat_minor": 2
}
