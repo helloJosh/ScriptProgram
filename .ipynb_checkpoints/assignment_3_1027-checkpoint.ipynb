{
 "cells": [
  {
   "cell_type": "markdown",
   "metadata": {},
   "source": [
    "# 한국기술교육대 2013151008 김병우\n",
    "# 27-Oct-2018\n"
   ]
  },
  {
   "cell_type": "markdown",
   "metadata": {},
   "source": [
    "### [1번 문제]\n",
    "#### L=[1, 2, 3, 4, 5]일 때 다음 각 문장을 수행한 후의 결과를 보고 납득할 만한 이유를 설명하시오.\n",
    "            - L[1:3] = [100]\n",
    "            - L[1:3] = [(100)]\n",
    "            - L[1:3] = 100\n",
    "            - L[1:3] = (100)\n",
    "            - L[1:3] = (100, 101, 102)\n",
    "            - L[1:3] = [100, 101, 102]\n",
    "            - L[1:3] = [(100, 101, 102)]\n",
    "            - L[1:3] = [[100, 101, 102]]"
   ]
  },
  {
   "cell_type": "code",
   "execution_count": 2,
   "metadata": {},
   "outputs": [
    {
     "name": "stdout",
     "output_type": "stream",
     "text": [
      "[1, 100, 4, 5]\n"
     ]
    }
   ],
   "source": [
    "L=[1, 2, 3, 4, 5]\n",
    "L[1:3] = [100]\n",
    "print(L)"
   ]
  },
  {
   "cell_type": "markdown",
   "metadata": {},
   "source": [
    "리스트 L을 슬라이싱하여서 리스트 L의 2번째부터 3번째값에 리스트 100을 넣어서 [1,100,4,5]가 결과로 나옵니다."
   ]
  },
  {
   "cell_type": "code",
   "execution_count": 22,
   "metadata": {},
   "outputs": [
    {
     "name": "stdout",
     "output_type": "stream",
     "text": [
      "[1, 100, 4, 5]\n"
     ]
    }
   ],
   "source": [
    "L=[1, 2, 3, 4, 5]\n",
    "L[1:3] = [(100)]\n",
    "print(L)"
   ]
  },
  {
   "cell_type": "markdown",
   "metadata": {},
   "source": [
    "(100)은 int이지만 리스트로 포장해주었기 때문에 리스트 L을 슬라이싱하여서 리스트 L의 2번째부터 3번째값에 리스트 100을 넣어서 [1,100,4,5]가 결과로 나옵니다. "
   ]
  },
  {
   "cell_type": "code",
   "execution_count": 19,
   "metadata": {},
   "outputs": [
    {
     "ename": "TypeError",
     "evalue": "can only assign an iterable",
     "output_type": "error",
     "traceback": [
      "\u001b[0;31m---------------------------------------------------------------------------\u001b[0m",
      "\u001b[0;31mTypeError\u001b[0m                                 Traceback (most recent call last)",
      "\u001b[0;32m<ipython-input-19-b14b6d5e9def>\u001b[0m in \u001b[0;36m<module>\u001b[0;34m()\u001b[0m\n\u001b[1;32m      1\u001b[0m \u001b[0mL\u001b[0m\u001b[0;34m=\u001b[0m\u001b[0;34m[\u001b[0m\u001b[0;36m1\u001b[0m\u001b[0;34m,\u001b[0m \u001b[0;36m2\u001b[0m\u001b[0;34m,\u001b[0m \u001b[0;36m3\u001b[0m\u001b[0;34m,\u001b[0m \u001b[0;36m4\u001b[0m\u001b[0;34m,\u001b[0m \u001b[0;36m5\u001b[0m\u001b[0;34m]\u001b[0m\u001b[0;34m\u001b[0m\u001b[0m\n\u001b[0;32m----> 2\u001b[0;31m \u001b[0mL\u001b[0m\u001b[0;34m[\u001b[0m\u001b[0;36m1\u001b[0m\u001b[0;34m:\u001b[0m\u001b[0;36m3\u001b[0m\u001b[0;34m]\u001b[0m \u001b[0;34m=\u001b[0m \u001b[0;36m100\u001b[0m\u001b[0;34m\u001b[0m\u001b[0m\n\u001b[0m\u001b[1;32m      3\u001b[0m \u001b[0mprint\u001b[0m\u001b[0;34m(\u001b[0m\u001b[0mL\u001b[0m\u001b[0;34m)\u001b[0m\u001b[0;34m\u001b[0m\u001b[0m\n",
      "\u001b[0;31mTypeError\u001b[0m: can only assign an iterable"
     ]
    }
   ],
   "source": [
    "L=[1, 2, 3, 4, 5]\n",
    "L[1:3] = 100\n",
    "print(L)"
   ]
  },
  {
   "cell_type": "markdown",
   "metadata": {},
   "source": [
    "연속적 성질을 가진 리스트 자료형에 성질이 다른 자료형이 다른 int를 대입하기 때문에 오류가 나옵니다."
   ]
  },
  {
   "cell_type": "code",
   "execution_count": 29,
   "metadata": {},
   "outputs": [
    {
     "name": "stdout",
     "output_type": "stream",
     "text": [
      "[1, 100, 4, 5]\n"
     ]
    }
   ],
   "source": [
    "L=[1, 2, 3, 4, 5]\n",
    "L[1:3] = (100,)\n",
    "print(L)"
   ]
  },
  {
   "cell_type": "markdown",
   "metadata": {},
   "source": [
    "튜플은 리스트와 연속적인 성질이 같기 때문에 리스트 L을 슬라이싱하여서 리스트 L의 2번째부터 3번째값에 튜플값 100을 넣어서 [1,100,4,5]가 결과로 나옵니다."
   ]
  },
  {
   "cell_type": "code",
   "execution_count": 30,
   "metadata": {},
   "outputs": [
    {
     "name": "stdout",
     "output_type": "stream",
     "text": [
      "[1, 100, 101, 102, 4, 5]\n"
     ]
    }
   ],
   "source": [
    "L=[1, 2, 3, 4, 5]\n",
    "L[1:3] = (100, 101, 102)\n",
    "print(L)"
   ]
  },
  {
   "cell_type": "markdown",
   "metadata": {},
   "source": [
    "튜플은 리스트와 연속적인 성질이 같기 때문에 리스트 L을 슬라이싱하여서 리스트 L의 2번째부터 3번째값에 튜플값 100,101,102을 넣어서 [1,100,101,102,4,5]가 결과로 나옵니다."
   ]
  },
  {
   "cell_type": "code",
   "execution_count": 31,
   "metadata": {},
   "outputs": [
    {
     "name": "stdout",
     "output_type": "stream",
     "text": [
      "[1, 100, 101, 102, 4, 5]\n"
     ]
    }
   ],
   "source": [
    "L=[1, 2, 3, 4, 5]\n",
    "L[1:3] = [100, 101, 102]\n",
    "print(L)"
   ]
  },
  {
   "cell_type": "markdown",
   "metadata": {},
   "source": [
    "리스트 L을 슬라이싱하여서 리스트 L의 2번째부터 3번째값에 리스트값 100,101,102을 넣어서 [1,100,101,102,4,5]가 결과로 나옵니다."
   ]
  },
  {
   "cell_type": "code",
   "execution_count": 24,
   "metadata": {},
   "outputs": [
    {
     "name": "stdout",
     "output_type": "stream",
     "text": [
      "[1, (100, 101, 102), 4, 5]\n"
     ]
    }
   ],
   "source": [
    "L=[1, 2, 3, 4, 5]리스트 L을 슬라이싱하여서 리스트 L의 2번째부터 3번째값에 튜플 100,101,102을 넣어서 [1,100,101,102,4,5]가 결과로 나옵니다.\n",
    "L[1:3] = [(100, 101, 102)]\n",
    "print(L)"
   ]
  },
  {
   "cell_type": "markdown",
   "metadata": {},
   "source": [
    "리스트 L을 슬라이싱하여서 리스트 L의 2번째부터 3번째값에 리스트값 (100,101,102)을 넣어서 [1,(100,101,102),4,5]가 결과로 나옵니다."
   ]
  },
  {
   "cell_type": "code",
   "execution_count": 25,
   "metadata": {},
   "outputs": [
    {
     "name": "stdout",
     "output_type": "stream",
     "text": [
      "[1, [(100, 101, 102)], 4, 5]\n"
     ]
    }
   ],
   "source": [
    "L=[1, 2, 3, 4, 5]\n",
    "L[1:3] = [[(100, 101, 102)]]\n",
    "print(L)"
   ]
  },
  {
   "cell_type": "markdown",
   "metadata": {},
   "source": [
    "리스트 L을 슬라이싱하여서 리스트 L의 2번째부터 3번째값에 리스트값  [(100, 101, 102)]을 넣어서 [1, [(100, 101, 102)],4,5]가 결과로 나옵니다."
   ]
  },
  {
   "cell_type": "markdown",
   "metadata": {},
   "source": [
    "### [2번 문제]\n",
    "#### 문자열 S = 'Hello World and Python'에 대해 다음 요구사항에 대한 Python 코드를 제시하시오.\n",
    "\n",
    "- 1) 단어의 순서가 역순으로 되어진 문자열 ('Python and World Hello')을 만들고\n",
    "- 2) 1)의 결과 문자열에 대해 메소드 split과 join을 이용하여 공백을 모두 없엔 문자열 'PythonandWorldHello'을 만드시오.\n"
   ]
  },
  {
   "cell_type": "code",
   "execution_count": 47,
   "metadata": {},
   "outputs": [
    {
     "name": "stdout",
     "output_type": "stream",
     "text": [
      "World and Python Hello\n",
      "WorldandPythonHello\n"
     ]
    }
   ],
   "source": [
    "S = 'Hello World and Python'\n",
    "S1 =S[6:] +' '+ S[:5]\n",
    "print(S1)\n",
    "S1 = S1.split(' ')\n",
    "S1 = \"\".join(S1)\n",
    "print(S1)"
   ]
  },
  {
   "cell_type": "markdown",
   "metadata": {},
   "source": [
    "s를 /로 나누어서 리스트에 넣고 파일명의 길이를 뽑아\n",
    "s에서 파일명의 길이를 뺀 문자열은 디렉토리로 리스트에 추가하고\n",
    "처음 나눈 파일명도 두번째로 리스트에 추가한다."
   ]
  },
  {
   "cell_type": "markdown",
   "metadata": {},
   "source": [
    "### [3번 문제]\n",
    "#### 다음 코드를 보고 물음에 답하시오.\n",
    "\n",
    "     a = [1, 2, 3]\n",
    "     b = a * 3\n",
    "     c = [a] * 3\n",
    "     print(b)\n",
    "     print(c)\n",
    "     \n",
    "- 1) 위 코드를 수행한 이후 다음 코드를 수행한 후 b와 c의 내용을 확인하시오.\n",
    "        a[0]=0\n",
    "- 2) b와 c 객체의 차이는 무엇인가?"
   ]
  },
  {
   "cell_type": "code",
   "execution_count": 50,
   "metadata": {},
   "outputs": [
    {
     "name": "stdout",
     "output_type": "stream",
     "text": [
      "[1, 2, 3, 1, 2, 3, 1, 2, 3]\n",
      "[[1, 2, 3], [1, 2, 3], [1, 2, 3]]\n",
      "[1, 2, 3, 1, 2, 3, 1, 2, 3]\n",
      "[[0, 2, 3], [0, 2, 3], [0, 2, 3]]\n"
     ]
    }
   ],
   "source": [
    "a = [1, 2, 3]\n",
    "b = a * 3\n",
    "c = [a] * 3\n",
    "print(b)\n",
    "print(c)\n",
    "a[0]=0\n",
    "print(b)\n",
    "print(c)\n"
   ]
  },
  {
   "cell_type": "markdown",
   "metadata": {},
   "source": [
    "b객체는 a의 원소를 3번 복사한 것을 가르키는 객체입니다.\n",
    "그와 다르게 c객체는 리스트 a를 3번 복사한 리스트를 가르키는 객체이기 때문에 a의 원소가 바뀌는 순간 b는 값이 바뀌지 않지만 c는 a를 원소로 갖고 있기 때문에 원소가 바뀝니다."
   ]
  },
  {
   "cell_type": "markdown",
   "metadata": {},
   "source": [
    "### [4번 문제]\n",
    "#### 다음 문자열을 ':'을 기준으로 분리하여 리스트로 만들고 각 문자열의 좌우 공백을 제거하시오 (즉, 문자열 S에서 l을 만들어라)\n",
    "\n",
    "     s = '  first star   :   second star   :    third star  '\n",
    "     l = ['first star', 'second star', 'third star']\n",
    "\n",
    "     \n",
    "- 1) for ~ in 문을 이용한 코드를 작성하시오.\n",
    "- 2) 리스트 내포(list comprehension)를 이용한 코드를 작성하시오."
   ]
  },
  {
   "cell_type": "code",
   "execution_count": 25,
   "metadata": {},
   "outputs": [
    {
     "name": "stdout",
     "output_type": "stream",
     "text": [
      "['firststar', 'secondstar', 'thirdstar']\n"
     ]
    }
   ],
   "source": [
    "# for ~ in 문을 이용한 코드를 작성하시오.\n",
    "s = '  first star   :   second star   :    third star  '\n",
    "erased_s = []\n",
    "for char in s:\n",
    "    if char != \" \":\n",
    "        erased_s += char\n",
    "final_s = \"\".join(erased_s)\n",
    "list_s = final_s.split(\":\")\n",
    "print(list_s)"
   ]
  },
  {
   "cell_type": "code",
   "execution_count": 26,
   "metadata": {},
   "outputs": [
    {
     "name": "stdout",
     "output_type": "stream",
     "text": [
      "['firststar', 'secondstar', 'thirdstar']\n"
     ]
    }
   ],
   "source": [
    "#리스트 내포(list comprehension)를 이용한 코드를 작성하시오.\n",
    "s = '  first star   :   second star   :    third star  '\n",
    "erased_s = [char for char in s if char != \" \"]\n",
    "final_s = \"\".join(erased_s)\n",
    "list_s = final_s.split(\":\")\n",
    "print(list_s)"
   ]
  },
  {
   "cell_type": "markdown",
   "metadata": {},
   "source": [
    "### [5번 문제]\n",
    "#### 다음과 같이 0보다 큰 정수 리스트 변수 list를 인자로 받는 함수 addall(list)와 addallodd(list)를 for ~ in 리터널과 리스트 내포 방식으로 각각 제시하시오.\n",
    "     \n",
    "- 1) addall(list) 함수 (리스트 내의 모든 정수를 더하는 함수로서 해답으로는 for ~ in 리터럴과 리스트 내포 방식으로 각각 제시하시오.)\n",
    "    * addall([1])\n",
    "           1\n",
    "    * addall([1, 2, 3, 4, 5, 6, 7, 8, 9])\n",
    "           45\n",
    "- 2) addallodd(list) 함수 (리스트내의 모든 홀수를 더하는 함수로서 해답으로는 for ~ in 리터럴과 리스트 내포 방식으로 각각 제시하시오.)\n",
    "    * addallodd([1])\n",
    "            1\n",
    "    * addallodd([1, 2, 3, 4, 5, 6, 7, 8, 9])\n",
    "            25\n",
    "- [참고 1]: 리스트 내포 방식으로 addall() 및 addallodd()함수를 만들 때엔 리스트 내포에 의해 생성된 리스트 결과에 대해 내장 함수를 사용하는 방식을 고려해보시오 (주의: 리스트 내포 방식의 addall() 및 addallodd() 함수의 몸체는 단 1줄로 작성되어야 한다.)\n",
    "- [참고 2]: sum() 등의 내장함수 사용 가능함"
   ]
  },
  {
   "cell_type": "code",
   "execution_count": 19,
   "metadata": {},
   "outputs": [
    {
     "name": "stdout",
     "output_type": "stream",
     "text": [
      "1\n",
      "45\n",
      "\n",
      "1\n",
      "45\n",
      "\n",
      "1\n",
      "25\n",
      "\n",
      "1\n",
      "25\n"
     ]
    }
   ],
   "source": [
    "def addall_literal(lst):\n",
    "    sum_i = 0\n",
    "    for i in range(1, len(lst)+1):\n",
    "        sum_i += i\n",
    "    return sum_i\n",
    "\n",
    "def addall_compre(lst):\n",
    "    result = [i for i in range(1, len(lst)+1)]\n",
    "    return sum(result)\n",
    "\n",
    "def addallodd_literal(lst):\n",
    "    sum_i = 0\n",
    "    for i in range(1, len(lst)+1):\n",
    "        if(i%2 == 1):\n",
    "            sum_i +=i\n",
    "    return sum_i\n",
    "\n",
    "def addallodd_compre(lst):\n",
    "    result = [i for i in range(1,len(lst)+1) if i%2 != 0]\n",
    "    return sum(result)\n",
    "\n",
    "print(addall_literal([1]))\n",
    "print(addall_literal([1, 2, 3, 4, 5, 6, 7, 8, 9]))\n",
    "print()\n",
    "print(addall_compre([1]))\n",
    "print(addall_compre([1, 2, 3, 4, 5, 6, 7, 8, 9]))\n",
    "print()\n",
    "print(addallodd_literal([1]))\n",
    "print(addallodd_literal([1, 2, 3, 4, 5, 6, 7, 8, 9]))\n",
    "print()\n",
    "print(addallodd_compre([1]))\n",
    "print(addallodd_compre([1, 2, 3, 4, 5, 6, 7, 8, 9]))\n"
   ]
  },
  {
   "cell_type": "markdown",
   "metadata": {},
   "source": [
    "### [6번 문제]\n",
    "#### 다음 코드를 보고 물음에 답하시오.\n",
    "    L1 = [1, 2, 3]\n",
    "    L2 = [4, 5, 6]\n",
    "    d = {'low':L1, 'high':L2}\n",
    "    e = d\n",
    "    f = d.copy()\n",
    "    print(d)\n",
    "    print(e)\n",
    "    print(f)\n",
    "    print()\n",
    "    d['low'] = [10, 20, 30]\n",
    "    d['high'][1] = 500\n",
    "    print(d)\n",
    "    print(e)\n",
    "    print(f)\n",
    "     \n",
    "* 1) 위 코드의 수행 결과 d와 e는 항상 같은 결과를 출력한다. 그 이유는 무엇인가?\n",
    "* 2) 위 코드의 수행 결과 마지막 f의 내용은 다음과 같다. 이 때 'high' 키의 값 내용 중 500이 출력된 이유와 'low' 키의 값 내용 중 [1, 2, 3]이 출력된 이유를 설명하시오 ([hint]: shallow copy 관점에서 설명하시오.)\n",
    "\n",
    "    {'high': [4, 500, 6], 'low': [1, 2, 3]}"
   ]
  },
  {
   "cell_type": "code",
   "execution_count": 20,
   "metadata": {},
   "outputs": [
    {
     "name": "stdout",
     "output_type": "stream",
     "text": [
      "{'low': [1, 2, 3], 'high': [4, 5, 6]}\n",
      "{'low': [1, 2, 3], 'high': [4, 5, 6]}\n",
      "{'low': [1, 2, 3], 'high': [4, 5, 6]}\n",
      "\n",
      "{'low': [10, 20, 30], 'high': [4, 500, 6]}\n",
      "{'low': [10, 20, 30], 'high': [4, 500, 6]}\n",
      "{'low': [1, 2, 3], 'high': [4, 500, 6]}\n"
     ]
    }
   ],
   "source": [
    "L1 = [1, 2, 3]\n",
    "L2 = [4, 5, 6]\n",
    "d = {'low':L1, 'high':L2}\n",
    "e = d\n",
    "f = d.copy()\n",
    "print(d)\n",
    "print(e)\n",
    "print(f)\n",
    "print()\n",
    "d['low'] = [10, 20, 30]\n",
    "d['high'][1] = 500\n",
    "print(d)\n",
    "print(e)\n",
    "print(f)"
   ]
  },
  {
   "cell_type": "markdown",
   "metadata": {},
   "source": [
    "1) 위 코드의 수행 결과 d와 e는 항상 같은 결과를 출력한다. 그 이유는 무엇인가?\n",
    "    \n",
    "    e와 d 는 주소는 다르지만 가리키는 객체가 같기 때문에 항상 같은 결과를 출력한다."
   ]
  },
  {
   "cell_type": "markdown",
   "metadata": {},
   "source": [
    "2) 위 코드의 수행 결과 마지막 f의 내용은 다음과 같다. 이 때 'high' 키의 값 내용 중 500이 출력된 이유와 'low' 키의 값 내용 중 [1, 2, 3]이 출력된 이유를 설명하시오 ([hint]: shallow copy 관점에서 설명하시오.)\n",
    "   \n",
    "    f는 e를 shallow copy 하였기 때문에 둘다 mutable 객체이기 때문에 발생합니다. f와 e는 주소가 다르고 이미 d의 요소를 복사해왔기 때문에 d['low']의 값을 변경해도 바뀌지 않지만  d['high'][1]은 같은 주소를 바라보고 있기 때문에 값이 바뀝니다."
   ]
  },
  {
   "cell_type": "markdown",
   "metadata": {},
   "source": [
    "### [7번 문제]\n",
    "#### 사전 d = {'one':1, 'two':2, 'three':3, 'four':4, 'five':5}가 주어졌을 때 다음 요구사항에 맞는 코드를 제시하시오.\n",
    "* [참고]: d.keys(), d.values()를 통해 리스트를 얻어낸 후 리스트가 지니고 있는 sort(cmp=None, key=None, reverse=False)함수를 활용하시오.\n",
    "* 1) 키의 알파벳 오름차순 순서대로 튜플 (키, 값)을 차례대로 출력하시오.\n",
    "* 2) 키의 알파벳 내림차순 순서대로 튜플 (키, 값)을 차례대로 출력하시오.\n",
    "* 3) 값의 오름차순 순서대로 튜플 (키, 값)을 차례대로 출력하시오.\n",
    "* 4) 값의 내림차순 순서대로 튜플 (키, 값)을 차례대로 출력하시오."
   ]
  },
  {
   "cell_type": "code",
   "execution_count": 41,
   "metadata": {},
   "outputs": [
    {
     "name": "stdout",
     "output_type": "stream",
     "text": [
      "['five', 'four', 'one', 'three', 'two']\n",
      "['two', 'three', 'one', 'four', 'five']\n",
      "[1, 2, 3, 4, 5]\n",
      "[5, 4, 3, 2, 1]\n"
     ]
    }
   ],
   "source": [
    "d = {'one':1, 'two':2, 'three':3, 'four':4, 'five':5}\n",
    "d_key = d.keys()\n",
    "list_key = list(d_key)\n",
    "list_key.sort()\n",
    "print(list_key)\n",
    "list_key.sort(reverse=True)\n",
    "print(list_key)\n",
    "\n",
    "d_value = d.values()\n",
    "list_value = list(d_value)\n",
    "list_value.sort()\n",
    "print(list_value)\n",
    "list_value.sort(reverse = True)\n",
    "print(list_value)"
   ]
  },
  {
   "cell_type": "markdown",
   "metadata": {},
   "source": [
    "### [ACM-ICPC 문제 1673번]\n",
    "#### 치킨쿠폰\n",
    "#### 강민이는 치킨 한 마리를 주문할 수 있는 치킨 쿠폰을 n장 가지고 있다. 이 치킨집에서는 치킨을 한 마리 주문할 때마다 도장을 하나씩 찍어 주는데, 도장을 k개 모으면 치킨 쿠폰 한 장으로 교환할 수 있다.\n",
    "\n",
    "#### 강민이가 지금 갖고 있는 치킨 쿠폰으로 치킨을 최대 몇 마리나 먹을 수 있는지 구하여라. 단, 치킨을 주문하기 위해서는 반드시 치킨 쿠폰을 갖고 있어야 한다.\n",
    "\n",
    "* 입력\n",
    "    - 여러 줄에 걸쳐서 자연수 n과 k가 주어진다.\n",
    "* 출력\n",
    "    - 각 입력마다 한 줄에 정답을 출력한다.\n",
    "* 제한\n",
    "    - 1 < k ≤ n ≤ 1,000,000,000"
   ]
  },
  {
   "cell_type": "code",
   "execution_count": 5,
   "metadata": {},
   "outputs": [
    {
     "name": "stdout",
     "output_type": "stream",
     "text": [
      "숫자 두개를 입력하세요:4 3\n",
      "5\n",
      "숫자 두개를 입력하세요:7 4\n",
      "9\n",
      "숫자 두개를 입력하세요:dd\n"
     ]
    }
   ],
   "source": [
    "try:\n",
    "    while 1:\n",
    "        n,k=map(int,input('숫자 두개를 입력하세요:').split())\n",
    "        if n <= 0 or k <= 0:\n",
    "            break\n",
    "        current_coupon = n\n",
    "        coupon2chicken= 0\n",
    "        while(current_coupon >= k):\n",
    "            coupon2chicken = current_coupon // k\n",
    "            current_coupon = current_coupon % k\n",
    "            n += coupon2chicken\n",
    "            current_coupon += coupon2chicken\n",
    "        print(n)\n",
    "except:exit()\n"
   ]
  },
  {
   "cell_type": "code",
   "execution_count": 1,
   "metadata": {},
   "outputs": [],
   "source": [
    "import sys\n",
    "\n",
    "while True:\n",
    "    line = sys.stdin.readline().rstrip('\\n')\n",
    "    for line in sys.stdin:\n",
    "        n, k = map(int, line.split(\" \"))\n",
    "        max_chicken = n\n",
    "        while n >= k:\n",
    "            max_chicken += int(n/k)\n",
    "            n = int(n/k)\n",
    "        print(max_chicken)"
   ]
  },
  {
   "cell_type": "markdown",
   "metadata": {},
   "source": [
    "![](https://github.com/kimjoshua135/ScriptProgram/blob/master/ScreenShot/10809_screenshot.png?raw=true)"
   ]
  },
  {
   "cell_type": "markdown",
   "metadata": {},
   "source": [
    "### Incremental Project 문제\n",
    "#### 이전 Assignment 2의 마지막 문제는 웹 URL로 지정된 웹페이지를 문자열로 가져와 모든 HTML 태그를 제외한 순수 텍스트를 얻어내고 그 안에 존재하는 단어를 추출하고 단어들의 총 개수를 출력하는 프로그램을 작성하는 것이었다. 이번에는 그 마지막 숙제를 그대로 확장하여 웹 URL로 지정된 웹페이지 내 순수 텍스트 안에 존재하는 각 단어들에 대해 다음 요구사항 대로 출력하는 프로그램을 작성하시오.\n",
    "\n",
    "* 요구사항 1. CSS와 Javascript 내용도 모두 제거하시오 (이전 숙제에서 이미 제외하였다면 본 요구사항 무시)\n",
    "    - 즉, 아래와 같은 코드는 style 및 script태그 뿐만 아니라 그 안의 내용 전체를 모두 제거\n",
    "* 요구사항 2. 순수 텍스트 안에 존재하는 단어들에 대해 string 모듈을 활용하여 모든 punctuation (구두문자)를 완벽히\n",
    "    - 예: ['world!', ':', '+hello+', '~python$$$', '=', 'world'] ---> ['world', 'hello', 'python', 'world']\n",
    "    - 모든 punctuation을 확인하는 방법은 아래와 같다.\n",
    "        import string\n",
    "        print(string.punctuation)\n",
    "* 요구사항 3. 만약 punctuation (구두문자)를 제거한 이후 공백으로 판명되는 단어들은 해당 단어 리스트에서 제거하시오.\n",
    "    - 예: ['컴퓨터공학부!', '---?', '%지향~', '...'] ---> ['컴퓨터공학부', '', '지향', ''] ---> ['컴퓨터공학부', '지향'] \n",
    "\n",
    "* 요구사항 4. 각 단어들의 출현빈도를 사전형태로 저장하여 출력하시오.\n",
    "    - 예: ['world', 'hello', 'python', 'world', '컴퓨터공학부', '지향'] ---> {'world': 2, 'hello': 1, 'python': 1, '컴퓨터공학부': 1, '지향': 1} \n",
    "\n",
    "* 요구사항 5. 다음 5개의 사이트에 대한 단어 출현빈도 결과를 출력하시오.\n",
    "        http://cse.koreatech.ac.kr\n",
    "        https://www.koreatech.ac.kr\n",
    "        http://www.naver.com\n",
    "        http://www.daum.net\n",
    "        http://www.nytimes.com"
   ]
  },
  {
   "cell_type": "code",
   "execution_count": 50,
   "metadata": {},
   "outputs": [
    {
     "name": "stdout",
     "output_type": "stream",
     "text": [
      "['컴퓨터공학부', 'Schoolfun', 'Study', 'and', 'Fun', '로그인', '로그인', '아이디', '비밀번호', '로그인', '유지', '브라우저를', '닫더라도', '로그인이', '계속', '유지될', '수', '있습니다', '로그인', '유지', '기능을', '사용할', '경우', '다음', '접속부터는', '로그인할', '필요가', '없습니다', '단', '게임방', '학교', '등', '공공장소에서', '이용', '시', '개인정보가', '유출될', '수', '있으니', '꼭', '로그아웃을', '해주세요', '회원가입', 'ID', 'PW', '찾기', 'IT', '교육의', '글로벌', '메카', '한국기술교육대학교', '컴퓨터공학부', 'Close', '소개', '구성원소개', '학사안내', '입학', '학부', '대학원', '학부광장', '자료실', '대학원', '공학교육인증', '학부서비스', 'Registration', '컴퓨터공학부', 'School', 'of', 'Computer', 'Science', 'and', 'Engineering', 'IT', '융합소프트웨어', '인력양성사업', 'CK', 'Creative', 'Korea', 'I', '교육역량강화사업', '온라인', '컨텐츠', 'Online', 'Contents', 'for', 'Education', 'Capability', 'Empowerment', 'IT', '교육의', '글로벌', '메카', '한국기술교육대학교', '컴퓨터공학부', '홈페이지에', '오신', '것을', '환영합니다', 'IT', '융합소프트웨어', '인력양성사업', '글로벌', '수준의', 'IT전문인력', '양성', 'IT융합분야에', '대한', '국제적인', '경쟁력', '고취', '바로가기', '교육역량강화사업', '컨텐츠', '교육역량강화사업', '온라인', '컨텐츠를', '소개합니다', '바로가기', '공지사항', '특성화', '2018', 'IT융합', '아이디어', '경진대회', '안내', '2학기', '2018', '10', '25', '15', '01', '15', '01', '특성화', '2018', 'IT융합', 'AR', 'Co', 'Bot', 'Intensive', '캠프', '모집', '2018', '10', '22', '15', '30', '15', '30', '졸업작품', '2018', '졸업작품', '산업체', '평가회', '결과에', '따른', '2018', '10', '19', '14', '09', '14', '09', '특성화', '5차년도', 'IT융합', '개도국', '기술지원', '봉사', '해외', '2018', '10', '17', '13', '57', '13', '57', '특성화', '2018', '졸업작품', '산업체', '평가회', '결과', '공지', '졸작', '2018', '10', '16', '15', '52', '15', '52', '자유게시판', '문화의날', '행사', '공지', '2018', '10', '19', '20', '31', '20', '31', '졸업작품전시회', '기간', '헤어', '메이크업', '2018', '10', '07', '14', '48', '14', '48', '모의토익비', '지원', '공지', '2018', '09', '28', '09', '37', '09', '37', 'ACM', 'ICPC', '예선', '신청기간이', '얼마', '안', '남았습니다', '2018', '09', '13', '11', '36', '11', '36', '문화행사', '취소', '공지', '2018', '09', '10', '19', '17', '19', '17', '취업게시판', '㈜비즈테크파트너스', 'LG', 'CNS자회사', '신입', '개발직', '2018', '2018', '10', '25', '16', '29', '16', '29', '국가보안기술연구소', '정규직', '채용', '2018', '10', '04', '14', '18', '14', '18', '한글과컴퓨터그룹', '2018년', '하반기', '신입', '경력', '공채', '10', '10', '2018', '09', '27', '13', '13', '13', '13', '구인', '천안', '충무병원', '전산실', '2018', '09', '18', '15', '25', '15', '25', '정부교육', 'K', 'Shield', '주니어', '교육생', '모집', '정보보호', '9', '5', '2018', '09', '03', '07', '53', '07', '53', 'Platum', '10월', '마지막', '주', '스타트업', '이벤트', '1029', '1104', '2018', '10', '26', '14', '38', '14', '38', '中', '신유통', '흐름', '속', '롯데마트의', '쓸쓸한', '퇴장', '연내', '중국', '2018', '10', '26', '14', '36', '14', '36', '징둥닷컴', '한국지식재산보호원과', '2018', '해외', '온라인', '지', '2018', '10', '26', '13', '41', '13', '41', '부산의', '차세대', '스타트업', '발굴한다', '부스타락셀', '2018', '2018', '10', '26', '13', '36', '13', '36', '10월', '26일', '스타트업', '비즈니스', '동향', '코드스테이츠', '어', '2018', '10', '26', '09', '37', '09', '37', '전자신문', '신용현', '5년간', '소멸', '이통사', '마일리지', '1744억원', '2018', '10', '28', '20', '12', '20', '12', 'SK텔레콤', '강남', '과', '안산', '에서', '첫', '5G', '상용서비스', '2018', '10', '28', '18', '00', '18', '00', 'CJ헬로', 'UI', '알래스카', '개별SO로', '확산', '2018', '10', '28', '17', '00', '17', '00', '알뜰폰', '이통사', '가격역전', '도매제공', '제도', '논란', '2018', '10', '28', '17', '00', '17', '00', '박정호', '사장', '“SK텔레콤', '5G', '스마트폰', '상용화', '1개', '2018', '10', '28', '15', '00', '15', '00', 'TechCrunch', 'Facial', 'recognition', 'startup', 'Kairos', 'founder', 'cont', '2018', '10', '28', '05', '33', '05', '33', 'The', 'SaaS', 'VC', 'gap', 'China', 'other', 'markets', 'trail', 't', '2018', '10', '28', '02', '09', '02', '09', 'Big', 'tech', 'must', 'not', 'reframe', 'digital', 'ethics', 'in', 'it', '2018', '10', '28', '01', '00', '01', '00', 'The', 'Venture', 'Twins', '2018', '10', '28', '01', '00', '01', '00', 'Should', 'cash', 'strapped', 'Snapchat', 'sell', 'out', 'To', 'Net', '2018', '10', '28', '00', '05', '00', '05', 'Back', 'to', 'Top', 'Leading', 'Together', 'for', 'Brighter', 'Future', 'Quick', 'Navigation', '한국기술교육대학교', '홈페이지', '한국기술교육대학교', 'WEBMAIL', '한국기술교육대학교', '온라인', '평생교육원', 'IT', '융합소프트웨어', '인력양성사업', '컴퓨터공학부', '교직원', '업무', '자료실', '컴퓨터공학부', '포트폴리오', 'Campus', 'Location', 'Contact', 'CSE', '충청남도', '천안시', '동남구', '병천면', '충절로', '1600', '한국기술교육대학교', '컴퓨터공학부', '학과사무실', 'TEL', '041', '560', '1460', '1461', 'FAX', '041', '560', '1462', 'Facebook', 'Twitter', 'Google', 'Plus', 'Linkedin', '31253', '충청남도', '천안시', '동남구', '병천면', '충절로', '1600', '가전리', '한국기술교육대학교', '컴퓨터공학부', 'Copyright', '2015', 'All', 'rights', 'reserved']\n"
     ]
    }
   ],
   "source": [
    "import requests\n",
    "req = requests.get('http://cse.koreatech.ac.kr')\n",
    "source = req.text\n",
    "\n",
    "def remove_code(source):\n",
    "    t_f = False\n",
    "    replace_source=source.replace(\";\",\"\\n\")\n",
    "    replace2_source = replace_source.replace(\"}\",\"\\n\")\n",
    "    splited_source2list = replace2_source.split(\"\\n\")\n",
    "    for i in range(len(splited_source2list)):\n",
    "        if splited_source2list[i] == '<script>':\n",
    "            t_f = True\n",
    "            continue\n",
    "        elif splited_source2list[i] == '</script>':\n",
    "            t_f = False\n",
    "        elif splited_source2list[i] == '<style>':\n",
    "            t_f = True\n",
    "            continue\n",
    "        elif splited_source2list[i] == '</style>':\n",
    "            t_f = False\n",
    "        if t_f == True:\n",
    "            splited_source2list[i] =' '\n",
    "    final_source = ' '.join(splited_source2list)\n",
    "    return final_source\n",
    "\n",
    "def remove_tag(source):\n",
    "    source_length = len(source)\n",
    "    list_source = list(source)\n",
    "    t_f = True\n",
    "    lists= []\n",
    "    for  i in range(source_length):\n",
    "        if source[i] == '<':\n",
    "            t_f = True\n",
    "        elif source[i] == '>':\n",
    "            t_f = False\n",
    "            list_source[i] = ' '\n",
    "        if t_f == True:\n",
    "            list_source[i] = ' '\n",
    "        final_source = \"\".join(list_source)    \n",
    "    return final_source\n",
    "\n",
    "def remove_punctuation(source):\n",
    "    source_list = list(source)\n",
    "    for i in range(len(source_list)):\n",
    "        if source_list[i] in string.punctuation:\n",
    "            source_list[i] = ' '\n",
    "        elif source_list[i] in ''' ★ ※'\\\"?-.._()©…···‘ ’ ''':\n",
    "            source_list[i] = ' '\n",
    "        final_source = \"\".join(source_list)\n",
    "    return final_source\n",
    "\n",
    "code_removed = remove_code(source)\n",
    "tag_removed = remove_tag(code_removed)\n",
    "all_removed = remove_punctuation(tag_removed)\n",
    "\n",
    "all_removed = all_removed.replace(\"\\n\",\" \")\n",
    "all_removed= all_removed.replace(\"\\t\",\" \")\n",
    "\n",
    "final_source_list = all_removed.split(\" \")\n",
    "final_source = [x for x in final_source_list if x]"
   ]
  },
  {
   "cell_type": "code",
   "execution_count": null,
   "metadata": {},
   "outputs": [],
   "source": [
    "final_source "
   ]
  },
  {
   "cell_type": "markdown",
   "metadata": {},
   "source": [
    "### 과제소감\n",
    "\n",
    "이번 과제를 하면서 문자열과 리스트의 차이를 많이 알게 되었습니다. 또한 문자열에 쓸 수 있는 메소드와 리스트에 쓸 수 있는 메소드를 많이 익히게 되었습니다. 그리고 마지막 문제에서 Beautiful Soup, Re(정규표현식)으로 쉽게 할 수 있는걸 모뎀을 쓰지 않고 제가 프로그래밍하게 되서 그 모뎀의 메소드가 어떻게 문자열을 처리하는지 알게 된 것 같습니다. "
   ]
  },
  {
   "cell_type": "code",
   "execution_count": null,
   "metadata": {},
   "outputs": [],
   "source": []
  }
 ],
 "metadata": {
  "kernelspec": {
   "display_name": "Python 3",
   "language": "python",
   "name": "python3"
  },
  "language_info": {
   "codemirror_mode": {
    "name": "ipython",
    "version": 3
   },
   "file_extension": ".py",
   "mimetype": "text/x-python",
   "name": "python",
   "nbconvert_exporter": "python",
   "pygments_lexer": "ipython3",
   "version": "3.6.5"
  }
 },
 "nbformat": 4,
 "nbformat_minor": 2
}
